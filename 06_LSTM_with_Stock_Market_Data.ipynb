{
  "nbformat": 4,
  "nbformat_minor": 0,
  "metadata": {
    "colab": {
      "name": "06 - LSTM with Stock Market Data.ipynb",
      "provenance": [],
      "collapsed_sections": [],
      "authorship_tag": "ABX9TyO3xcyOi6P9cQbMYFNO1Pza",
      "include_colab_link": true
    },
    "kernelspec": {
      "name": "python3",
      "display_name": "Python 3"
    },
    "language_info": {
      "name": "python"
    }
  },
  "cells": [
    {
      "cell_type": "markdown",
      "metadata": {
        "id": "view-in-github",
        "colab_type": "text"
      },
      "source": [
        "<a href=\"https://colab.research.google.com/github/JoDeMiro/DeepLearningIntroduction/blob/main/06_LSTM_with_Stock_Market_Data.ipynb\" target=\"_parent\"><img src=\"https://colab.research.google.com/assets/colab-badge.svg\" alt=\"Open In Colab\"/></a>"
      ]
    },
    {
      "cell_type": "markdown",
      "source": [
        "# Leírás\n",
        "\n",
        "Itt a Keras API LSTM osztályának a használatát vizsgálom meg idősoroson adatokon.\n",
        "\n",
        "Konkrét tervem van azzal, hogy tőzsdei idősorokon mutatom be, mert ezeken azután be fogom tudni mutatni az egyváltozós modelhez képest elérhető javulást a becsült és a valós érték között.\n",
        "\n",
        "Ráadásul ez átmenetet fog képezni az egyváltozós modellből a töbválltozós modell irányába."
      ],
      "metadata": {
        "id": "Vf6wFfa5W3rT"
      }
    },
    {
      "cell_type": "code",
      "source": [
        "# !pip install --upgrade pandas\n",
        "# !pip install --upgrade pandas-datareader"
      ],
      "metadata": {
        "id": "uz1Hzb2pYAC0"
      },
      "execution_count": 28,
      "outputs": []
    },
    {
      "cell_type": "code",
      "source": [
        "import math\n",
        "import pandas_datareader as web\n",
        "import numpy as np\n",
        "import pandas as pd\n",
        "import matplotlib.pyplot as plt\n",
        "\n",
        "from sklearn.preprocessing import MinMaxScaler\n",
        "from keras.models import Sequential\n",
        "from keras.layers import Dense, LSTM\n",
        "\n",
        "plt.style.use('fivethirtyeight')"
      ],
      "metadata": {
        "id": "3rahiCcOWzBc"
      },
      "execution_count": 82,
      "outputs": []
    },
    {
      "cell_type": "markdown",
      "source": [
        "# Get the Stock quote"
      ],
      "metadata": {
        "id": "YqLH27IXXikC"
      }
    },
    {
      "cell_type": "code",
      "source": [
        "df = web.DataReader('AAPL', data_source='yahoo', start='2012-01-01', end='2022-01-15')"
      ],
      "metadata": {
        "id": "Md2TCgkEWy9s"
      },
      "execution_count": 83,
      "outputs": []
    },
    {
      "cell_type": "code",
      "execution_count": 84,
      "metadata": {
        "colab": {
          "base_uri": "https://localhost:8080/",
          "height": 455
        },
        "id": "WFdEk_E5WtBL",
        "outputId": "9acb5542-0efa-4922-c651-f7fe1baf2a99"
      },
      "outputs": [
        {
          "output_type": "execute_result",
          "data": {
            "text/html": [
              "\n",
              "  <div id=\"df-4d543994-82c4-47e9-b060-07a672e32f57\">\n",
              "    <div class=\"colab-df-container\">\n",
              "      <div>\n",
              "<style scoped>\n",
              "    .dataframe tbody tr th:only-of-type {\n",
              "        vertical-align: middle;\n",
              "    }\n",
              "\n",
              "    .dataframe tbody tr th {\n",
              "        vertical-align: top;\n",
              "    }\n",
              "\n",
              "    .dataframe thead th {\n",
              "        text-align: right;\n",
              "    }\n",
              "</style>\n",
              "<table border=\"1\" class=\"dataframe\">\n",
              "  <thead>\n",
              "    <tr style=\"text-align: right;\">\n",
              "      <th></th>\n",
              "      <th>High</th>\n",
              "      <th>Low</th>\n",
              "      <th>Open</th>\n",
              "      <th>Close</th>\n",
              "      <th>Volume</th>\n",
              "      <th>Adj Close</th>\n",
              "    </tr>\n",
              "    <tr>\n",
              "      <th>Date</th>\n",
              "      <th></th>\n",
              "      <th></th>\n",
              "      <th></th>\n",
              "      <th></th>\n",
              "      <th></th>\n",
              "      <th></th>\n",
              "    </tr>\n",
              "  </thead>\n",
              "  <tbody>\n",
              "    <tr>\n",
              "      <th>2012-01-03</th>\n",
              "      <td>14.732143</td>\n",
              "      <td>14.607143</td>\n",
              "      <td>14.621429</td>\n",
              "      <td>14.686786</td>\n",
              "      <td>302220800.0</td>\n",
              "      <td>12.591939</td>\n",
              "    </tr>\n",
              "    <tr>\n",
              "      <th>2012-01-04</th>\n",
              "      <td>14.810000</td>\n",
              "      <td>14.617143</td>\n",
              "      <td>14.642857</td>\n",
              "      <td>14.765714</td>\n",
              "      <td>260022000.0</td>\n",
              "      <td>12.659610</td>\n",
              "    </tr>\n",
              "    <tr>\n",
              "      <th>2012-01-05</th>\n",
              "      <td>14.948214</td>\n",
              "      <td>14.738214</td>\n",
              "      <td>14.819643</td>\n",
              "      <td>14.929643</td>\n",
              "      <td>271269600.0</td>\n",
              "      <td>12.800157</td>\n",
              "    </tr>\n",
              "    <tr>\n",
              "      <th>2012-01-06</th>\n",
              "      <td>15.098214</td>\n",
              "      <td>14.972143</td>\n",
              "      <td>14.991786</td>\n",
              "      <td>15.085714</td>\n",
              "      <td>318292800.0</td>\n",
              "      <td>12.933967</td>\n",
              "    </tr>\n",
              "    <tr>\n",
              "      <th>2012-01-09</th>\n",
              "      <td>15.276786</td>\n",
              "      <td>15.048214</td>\n",
              "      <td>15.196429</td>\n",
              "      <td>15.061786</td>\n",
              "      <td>394024400.0</td>\n",
              "      <td>12.913448</td>\n",
              "    </tr>\n",
              "    <tr>\n",
              "      <th>...</th>\n",
              "      <td>...</td>\n",
              "      <td>...</td>\n",
              "      <td>...</td>\n",
              "      <td>...</td>\n",
              "      <td>...</td>\n",
              "      <td>...</td>\n",
              "    </tr>\n",
              "    <tr>\n",
              "      <th>2022-01-10</th>\n",
              "      <td>172.500000</td>\n",
              "      <td>168.169998</td>\n",
              "      <td>169.080002</td>\n",
              "      <td>172.190002</td>\n",
              "      <td>106765600.0</td>\n",
              "      <td>172.190002</td>\n",
              "    </tr>\n",
              "    <tr>\n",
              "      <th>2022-01-11</th>\n",
              "      <td>175.179993</td>\n",
              "      <td>170.820007</td>\n",
              "      <td>172.320007</td>\n",
              "      <td>175.080002</td>\n",
              "      <td>76138300.0</td>\n",
              "      <td>175.080002</td>\n",
              "    </tr>\n",
              "    <tr>\n",
              "      <th>2022-01-12</th>\n",
              "      <td>177.179993</td>\n",
              "      <td>174.820007</td>\n",
              "      <td>176.119995</td>\n",
              "      <td>175.529999</td>\n",
              "      <td>74805200.0</td>\n",
              "      <td>175.529999</td>\n",
              "    </tr>\n",
              "    <tr>\n",
              "      <th>2022-01-13</th>\n",
              "      <td>176.619995</td>\n",
              "      <td>171.789993</td>\n",
              "      <td>175.779999</td>\n",
              "      <td>172.190002</td>\n",
              "      <td>84505800.0</td>\n",
              "      <td>172.190002</td>\n",
              "    </tr>\n",
              "    <tr>\n",
              "      <th>2022-01-14</th>\n",
              "      <td>173.779999</td>\n",
              "      <td>171.089996</td>\n",
              "      <td>171.339996</td>\n",
              "      <td>173.070007</td>\n",
              "      <td>80355000.0</td>\n",
              "      <td>173.070007</td>\n",
              "    </tr>\n",
              "  </tbody>\n",
              "</table>\n",
              "<p>2527 rows × 6 columns</p>\n",
              "</div>\n",
              "      <button class=\"colab-df-convert\" onclick=\"convertToInteractive('df-4d543994-82c4-47e9-b060-07a672e32f57')\"\n",
              "              title=\"Convert this dataframe to an interactive table.\"\n",
              "              style=\"display:none;\">\n",
              "        \n",
              "  <svg xmlns=\"http://www.w3.org/2000/svg\" height=\"24px\"viewBox=\"0 0 24 24\"\n",
              "       width=\"24px\">\n",
              "    <path d=\"M0 0h24v24H0V0z\" fill=\"none\"/>\n",
              "    <path d=\"M18.56 5.44l.94 2.06.94-2.06 2.06-.94-2.06-.94-.94-2.06-.94 2.06-2.06.94zm-11 1L8.5 8.5l.94-2.06 2.06-.94-2.06-.94L8.5 2.5l-.94 2.06-2.06.94zm10 10l.94 2.06.94-2.06 2.06-.94-2.06-.94-.94-2.06-.94 2.06-2.06.94z\"/><path d=\"M17.41 7.96l-1.37-1.37c-.4-.4-.92-.59-1.43-.59-.52 0-1.04.2-1.43.59L10.3 9.45l-7.72 7.72c-.78.78-.78 2.05 0 2.83L4 21.41c.39.39.9.59 1.41.59.51 0 1.02-.2 1.41-.59l7.78-7.78 2.81-2.81c.8-.78.8-2.07 0-2.86zM5.41 20L4 18.59l7.72-7.72 1.47 1.35L5.41 20z\"/>\n",
              "  </svg>\n",
              "      </button>\n",
              "      \n",
              "  <style>\n",
              "    .colab-df-container {\n",
              "      display:flex;\n",
              "      flex-wrap:wrap;\n",
              "      gap: 12px;\n",
              "    }\n",
              "\n",
              "    .colab-df-convert {\n",
              "      background-color: #E8F0FE;\n",
              "      border: none;\n",
              "      border-radius: 50%;\n",
              "      cursor: pointer;\n",
              "      display: none;\n",
              "      fill: #1967D2;\n",
              "      height: 32px;\n",
              "      padding: 0 0 0 0;\n",
              "      width: 32px;\n",
              "    }\n",
              "\n",
              "    .colab-df-convert:hover {\n",
              "      background-color: #E2EBFA;\n",
              "      box-shadow: 0px 1px 2px rgba(60, 64, 67, 0.3), 0px 1px 3px 1px rgba(60, 64, 67, 0.15);\n",
              "      fill: #174EA6;\n",
              "    }\n",
              "\n",
              "    [theme=dark] .colab-df-convert {\n",
              "      background-color: #3B4455;\n",
              "      fill: #D2E3FC;\n",
              "    }\n",
              "\n",
              "    [theme=dark] .colab-df-convert:hover {\n",
              "      background-color: #434B5C;\n",
              "      box-shadow: 0px 1px 3px 1px rgba(0, 0, 0, 0.15);\n",
              "      filter: drop-shadow(0px 1px 2px rgba(0, 0, 0, 0.3));\n",
              "      fill: #FFFFFF;\n",
              "    }\n",
              "  </style>\n",
              "\n",
              "      <script>\n",
              "        const buttonEl =\n",
              "          document.querySelector('#df-4d543994-82c4-47e9-b060-07a672e32f57 button.colab-df-convert');\n",
              "        buttonEl.style.display =\n",
              "          google.colab.kernel.accessAllowed ? 'block' : 'none';\n",
              "\n",
              "        async function convertToInteractive(key) {\n",
              "          const element = document.querySelector('#df-4d543994-82c4-47e9-b060-07a672e32f57');\n",
              "          const dataTable =\n",
              "            await google.colab.kernel.invokeFunction('convertToInteractive',\n",
              "                                                     [key], {});\n",
              "          if (!dataTable) return;\n",
              "\n",
              "          const docLinkHtml = 'Like what you see? Visit the ' +\n",
              "            '<a target=\"_blank\" href=https://colab.research.google.com/notebooks/data_table.ipynb>data table notebook</a>'\n",
              "            + ' to learn more about interactive tables.';\n",
              "          element.innerHTML = '';\n",
              "          dataTable['output_type'] = 'display_data';\n",
              "          await google.colab.output.renderOutput(dataTable, element);\n",
              "          const docLink = document.createElement('div');\n",
              "          docLink.innerHTML = docLinkHtml;\n",
              "          element.appendChild(docLink);\n",
              "        }\n",
              "      </script>\n",
              "    </div>\n",
              "  </div>\n",
              "  "
            ],
            "text/plain": [
              "                  High         Low  ...       Volume   Adj Close\n",
              "Date                                ...                         \n",
              "2012-01-03   14.732143   14.607143  ...  302220800.0   12.591939\n",
              "2012-01-04   14.810000   14.617143  ...  260022000.0   12.659610\n",
              "2012-01-05   14.948214   14.738214  ...  271269600.0   12.800157\n",
              "2012-01-06   15.098214   14.972143  ...  318292800.0   12.933967\n",
              "2012-01-09   15.276786   15.048214  ...  394024400.0   12.913448\n",
              "...                ...         ...  ...          ...         ...\n",
              "2022-01-10  172.500000  168.169998  ...  106765600.0  172.190002\n",
              "2022-01-11  175.179993  170.820007  ...   76138300.0  175.080002\n",
              "2022-01-12  177.179993  174.820007  ...   74805200.0  175.529999\n",
              "2022-01-13  176.619995  171.789993  ...   84505800.0  172.190002\n",
              "2022-01-14  173.779999  171.089996  ...   80355000.0  173.070007\n",
              "\n",
              "[2527 rows x 6 columns]"
            ]
          },
          "metadata": {},
          "execution_count": 84
        }
      ],
      "source": [
        "df"
      ]
    },
    {
      "cell_type": "code",
      "source": [
        "df.shape"
      ],
      "metadata": {
        "colab": {
          "base_uri": "https://localhost:8080/"
        },
        "id": "2uG0e4YHYWbJ",
        "outputId": "edfbba5f-8631-4106-e24a-9a1a6dc2e848"
      },
      "execution_count": 85,
      "outputs": [
        {
          "output_type": "execute_result",
          "data": {
            "text/plain": [
              "(2527, 6)"
            ]
          },
          "metadata": {},
          "execution_count": 85
        }
      ]
    },
    {
      "cell_type": "markdown",
      "source": [
        "# Vizualizáció"
      ],
      "metadata": {
        "id": "_TxgI4kKYdGJ"
      }
    },
    {
      "cell_type": "code",
      "source": [
        "plt.figure(figsize=(16,8))\n",
        "plt.title('Záró ár')\n",
        "plt.plot(df['Close'])\n",
        "plt.xlabel('Date')\n",
        "plt.ylabel('Záró ár USD')\n",
        "plt.show()"
      ],
      "metadata": {
        "colab": {
          "base_uri": "https://localhost:8080/",
          "height": 647
        },
        "id": "JytetCS6YbPC",
        "outputId": "b0cc2cc3-a813-47fa-cf39-58a13e6d1f67"
      },
      "execution_count": 86,
      "outputs": [
        {
          "output_type": "display_data",
          "data": {
            "image/png": "[encoded data removed]",
            "text/plain": [
              "<Figure size 1600x800 with 1 Axes>"
            ]
          },
          "metadata": {}
        }
      ]
    },
    {
      "cell_type": "markdown",
      "source": [
        "## Új Pandas DataFrame csak a 'Close' oszlop alapján"
      ],
      "metadata": {
        "id": "gBpMV4DNYrXu"
      }
    },
    {
      "cell_type": "code",
      "source": [
        "data = df.filter(['Close'])"
      ],
      "metadata": {
        "id": "Gp1ElOWxYiEh"
      },
      "execution_count": 87,
      "outputs": []
    },
    {
      "cell_type": "markdown",
      "source": [
        "## Kérjük el NumPy tömbben"
      ],
      "metadata": {
        "id": "NOv7madLY2Vt"
      }
    },
    {
      "cell_type": "code",
      "source": [
        "dataset = data.values"
      ],
      "metadata": {
        "id": "_wfyWfZQY0Fr"
      },
      "execution_count": 88,
      "outputs": []
    },
    {
      "cell_type": "markdown",
      "source": [
        "## Vágjuk ketté az idősort egy ponton tanuló és teszt adatokra"
      ],
      "metadata": {
        "id": "MJTYrVKFZAa_"
      }
    },
    {
      "cell_type": "code",
      "source": [
        "training_data_len = math.ceil(len(dataset) * 0.8)\n",
        "\n",
        "training_data_len"
      ],
      "metadata": {
        "colab": {
          "base_uri": "https://localhost:8080/"
        },
        "id": "S3-k4ZljY-iq",
        "outputId": "8eeae6c3-6d62-4a96-f3df-5fe4aa934908"
      },
      "execution_count": 89,
      "outputs": [
        {
          "output_type": "execute_result",
          "data": {
            "text/plain": [
              "2022"
            ]
          },
          "metadata": {},
          "execution_count": 89
        }
      ]
    },
    {
      "cell_type": "markdown",
      "source": [
        "## Normalizáljuk az adatokat - transzformáljuk [0, 1] intervallumra"
      ],
      "metadata": {
        "id": "PgKH2NemZL1I"
      }
    },
    {
      "cell_type": "code",
      "source": [
        "scaler = MinMaxScaler(feature_range=(0,1))"
      ],
      "metadata": {
        "id": "lOYC8hr2ZJ4I"
      },
      "execution_count": 90,
      "outputs": []
    },
    {
      "cell_type": "code",
      "source": [
        "scaled_data = scaler.fit_transform(dataset)"
      ],
      "metadata": {
        "id": "KiO8qXmHZUQK"
      },
      "execution_count": 91,
      "outputs": []
    },
    {
      "cell_type": "markdown",
      "source": [
        "## Ime egy tipikus hiba!\n",
        "\n",
        "Na itt elcsúszohatott és el el is csúszik az egész, mivel a MinMax átalakítást az egész mintán végeztem el és csak most fogom leválogatni tanuló és teszt mintára.\n",
        "\n",
        "Na de menjünk szépen sorjában és nézzük meg, hogy így milyen eredményt kapunk, majd meg fogom csinálni másképpen is. De most szólok, ez a tipikus hiba. Hányszor láttam embereket belesétálni ebbe."
      ],
      "metadata": {
        "id": "ypBb-7DzZbt1"
      }
    },
    {
      "cell_type": "code",
      "source": [
        "train_data = scaled_data[0:training_data_len, :]"
      ],
      "metadata": {
        "id": "p_IcnaIJZVkG"
      },
      "execution_count": 92,
      "outputs": []
    },
    {
      "cell_type": "markdown",
      "source": [
        "## Vágjuk ketté az adatokat x_train and y_train adatokra\n",
        "\n",
        "Idősoroknál nem árt ha közben megörízzük a sorrendet - Másik tipikus hiba amit el lehet véteni idősorok esetében.\n",
        "\n",
        "\n",
        "\n",
        "```\n",
        "for i in range(window_size, len(train_data)):\n",
        "  x_train.append(train_data[i-window_size:i, 0])\n",
        "  y_train.append(train_data[i,0])\n",
        "```\n",
        "\n",
        "\n",
        "\n",
        "```\n",
        "# Érdemes megfigyelni, y-t i-vel indexelem,\n",
        "# x-et viszont i-ig,\n",
        "#\n",
        "# ezért gyakorlatilag t+1 relációt fogok becsülni,\n",
        "# window_size hosszú vektorral.\n",
        "```\n",
        "\n",
        "\n",
        "\n"
      ],
      "metadata": {
        "id": "tikVEljBZ3i8"
      }
    },
    {
      "cell_type": "code",
      "source": [
        "x_train = []\n",
        "y_train = []\n",
        "\n",
        "window_size = 60\n",
        "\n",
        "for i in range(window_size, len(train_data)):\n",
        "  x_train.append(train_data[i-window_size:i, 0])\n",
        "  y_train.append(train_data[i,0])"
      ],
      "metadata": {
        "id": "KrvUGo36Z1oG"
      },
      "execution_count": 93,
      "outputs": []
    },
    {
      "cell_type": "code",
      "source": [
        "print(type(x_train))\n",
        "print(type(x_train[1]))\n",
        "print(x_train[1].shape)\n",
        "print(x_train[1])"
      ],
      "metadata": {
        "colab": {
          "base_uri": "https://localhost:8080/"
        },
        "id": "LOklpxSkaQrt",
        "outputId": "682be0cf-c463-495d-c1d3-8a521225c6c5"
      },
      "execution_count": 94,
      "outputs": [
        {
          "output_type": "stream",
          "name": "stdout",
          "text": [
            "<class 'list'>\n",
            "<class 'numpy.ndarray'>\n",
            "(60,)\n",
            "[0.00486851 0.00584391 0.00677256 0.00663019 0.00695107 0.00680444\n",
            " 0.00655793 0.00622217 0.00726133 0.00819848 0.00790947 0.0063263\n",
            " 0.00783722 0.00634968 0.01192796 0.01149658 0.01205972 0.01327737\n",
            " 0.01401476 0.01395314 0.01372576 0.01469479 0.01560643 0.01663922\n",
            " 0.01830739 0.02181161 0.02186474 0.02381555 0.02527333 0.0227679\n",
            " 0.02373267 0.02371354 0.02641875 0.02603411 0.026746   0.02802528\n",
            " 0.02873719 0.03078787 0.03228178 0.03271317 0.03286405 0.03030973\n",
            " 0.02969346 0.02978484 0.03218616 0.03286193 0.03431335 0.03773469\n",
            " 0.04229932 0.04144504 0.04144716 0.04474738 0.04578017 0.04504489\n",
            " 0.04437338 0.04367423 0.04599691 0.04759072 0.04825798 0.04660893]\n"
          ]
        }
      ]
    },
    {
      "cell_type": "code",
      "source": [
        "print(type(y_train))\n",
        "print(type(y_train[1]))\n",
        "print(y_train[0].shape)\n",
        "print(y_train[0])\n",
        "print(y_train[1])"
      ],
      "metadata": {
        "colab": {
          "base_uri": "https://localhost:8080/"
        },
        "id": "fipWqrDZaR_M",
        "outputId": "b6910a28-5b18-46a7-abcf-50684a67db54"
      },
      "execution_count": 95,
      "outputs": [
        {
          "output_type": "stream",
          "name": "stdout",
          "text": [
            "<class 'list'>\n",
            "<class 'numpy.float64'>\n",
            "()\n",
            "0.04660893460974819\n",
            "0.04441800167645807\n"
          ]
        }
      ]
    },
    {
      "cell_type": "markdown",
      "source": [
        "## Alakítsuk át az x_train és y_train listákat NumPy tömbökké"
      ],
      "metadata": {
        "id": "txx4qMsKaXlV"
      }
    },
    {
      "cell_type": "code",
      "source": [
        "X_train, y_train = np.array(x_train), np.array(y_train)\n",
        "\n",
        "print(X_train.shape)\n",
        "print(y_train.shape)"
      ],
      "metadata": {
        "colab": {
          "base_uri": "https://localhost:8080/"
        },
        "id": "dZ8If2ExaVbe",
        "outputId": "e8b37131-ea95-4e0c-fe01-88583c4cde6c"
      },
      "execution_count": 96,
      "outputs": [
        {
          "output_type": "stream",
          "name": "stdout",
          "text": [
            "(1962, 60)\n",
            "(1962,)\n"
          ]
        }
      ]
    },
    {
      "cell_type": "markdown",
      "source": [
        "## By the way - hogy is néz ez ki?"
      ],
      "metadata": {
        "id": "Ujm0MKkKAI5L"
      }
    },
    {
      "cell_type": "code",
      "source": [
        "print(X_train.shape)\n",
        "print(y_train.shape)"
      ],
      "metadata": {
        "colab": {
          "base_uri": "https://localhost:8080/"
        },
        "id": "aZDRNpNTALkv",
        "outputId": "047243bf-4937-466b-926f-afde034422f3"
      },
      "execution_count": 133,
      "outputs": [
        {
          "output_type": "stream",
          "name": "stdout",
          "text": [
            "(1962, 60)\n",
            "(1962,)\n"
          ]
        }
      ]
    },
    {
      "cell_type": "code",
      "source": [
        "print(X_train[-1])\n",
        "print(y_train[-1])\n",
        "print(y_train[-2])\n",
        "print(y_train[-3])"
      ],
      "metadata": {
        "colab": {
          "base_uri": "https://localhost:8080/"
        },
        "id": "VWwc9hvJAVIy",
        "outputId": "19697dc4-4b4c-4c0b-9be5-843dba4ff416"
      },
      "execution_count": 136,
      "outputs": [
        {
          "output_type": "stream",
          "name": "stdout",
          "text": [
            "[0.26867982 0.27477873 0.2739606  0.27875046 0.27934549 0.28380812\n",
            " 0.28748235 0.27891409 0.27886947 0.28705095 0.29755301 0.30005207\n",
            " 0.29950169 0.2996653  0.30292302 0.30397921 0.30704354 0.3066865\n",
            " 0.31042024 0.30769806 0.31233918 0.31433248 0.31312758 0.30851619\n",
            " 0.3067609  0.30641875 0.31324656 0.31015249 0.31543325 0.31455561\n",
            " 0.30995911 0.3029528  0.30635924 0.31207139 0.31970249 0.31406474\n",
            " 0.3163853  0.31979174 0.32081814 0.32630718 0.33331349 0.33413166\n",
            " 0.33313499 0.3335515  0.33268875 0.33947193 0.33987355 0.34826331\n",
            " 0.34809966 0.35065823 0.3538267  0.36379325 0.35944961 0.36297508\n",
            " 0.36087768 0.36801787 0.37759764 0.37863889 0.3885013  0.38213462]\n",
            "0.38014132260782096\n",
            "0.38213462328987924\n",
            "0.3885013007536481\n"
          ]
        }
      ]
    },
    {
      "cell_type": "markdown",
      "source": [
        "## Reshape the data\n",
        "\n",
        "Erre a lépésre azért van szükség mert a Keras model egy picit más formában várja majd az adatokat."
      ],
      "metadata": {
        "id": "knnEEaZEakci"
      }
    },
    {
      "cell_type": "code",
      "source": [
        "X_train_reshaped = np.reshape(X_train, (X_train.shape[0], X_train.shape[1], 1))\n",
        "\n",
        "X_train_reshaped.shape"
      ],
      "metadata": {
        "colab": {
          "base_uri": "https://localhost:8080/"
        },
        "id": "xCUXXfoJah4M",
        "outputId": "ae81359c-aa91-4ec3-d4df-7b0d9021d729"
      },
      "execution_count": 97,
      "outputs": [
        {
          "output_type": "execute_result",
          "data": {
            "text/plain": [
              "(1962, 60, 1)"
            ]
          },
          "metadata": {},
          "execution_count": 97
        }
      ]
    },
    {
      "cell_type": "code",
      "source": [
        "print(X_train_reshaped[1][1:10])"
      ],
      "metadata": {
        "colab": {
          "base_uri": "https://localhost:8080/"
        },
        "id": "CWGgMoZoa0jC",
        "outputId": "3378bec7-9fd1-4de3-b939-d43cc46903a8"
      },
      "execution_count": 98,
      "outputs": [
        {
          "output_type": "stream",
          "name": "stdout",
          "text": [
            "[[0.00584391]\n",
            " [0.00677256]\n",
            " [0.00663019]\n",
            " [0.00695107]\n",
            " [0.00680444]\n",
            " [0.00655793]\n",
            " [0.00622217]\n",
            " [0.00726133]\n",
            " [0.00819848]]\n"
          ]
        }
      ]
    },
    {
      "cell_type": "markdown",
      "source": [
        "# Build the LSTM model\n",
        "\n",
        "Keep it simple - kezdjük valmai egyszerűvel."
      ],
      "metadata": {
        "id": "Gdr7_mQwa5Gr"
      }
    },
    {
      "cell_type": "code",
      "source": [
        "model = Sequential()\n",
        "\n",
        "model.add(LSTM(50, return_sequences=True, input_shape = (X_train_reshaped.shape[1], 1)))\n",
        "model.add(LSTM(50, return_sequences=False))\n",
        "model.add(Dense(25))\n",
        "model.add(Dense(25))\n",
        "model.add(Dense(1))"
      ],
      "metadata": {
        "id": "WXYtNPGBa2lR"
      },
      "execution_count": 99,
      "outputs": []
    },
    {
      "cell_type": "markdown",
      "source": [
        "## Compile the model"
      ],
      "metadata": {
        "id": "L4z31Xa_bCyc"
      }
    },
    {
      "cell_type": "code",
      "source": [
        "model.compile(optimizer='adam', loss='mean_squared_error')"
      ],
      "metadata": {
        "id": "DMjgxpkbbAJz"
      },
      "execution_count": 100,
      "outputs": []
    },
    {
      "cell_type": "code",
      "source": [
        "model.summary()"
      ],
      "metadata": {
        "colab": {
          "base_uri": "https://localhost:8080/"
        },
        "id": "M3zLuTaqbFk7",
        "outputId": "8d5e9b28-6571-4b34-e0d1-94a8719fd552"
      },
      "execution_count": 101,
      "outputs": [
        {
          "output_type": "stream",
          "name": "stdout",
          "text": [
            "Model: \"sequential_2\"\n",
            "_________________________________________________________________\n",
            " Layer (type)                Output Shape              Param #   \n",
            "=================================================================\n",
            " lstm_4 (LSTM)               (None, 60, 50)            10400     \n",
            "                                                                 \n",
            " lstm_5 (LSTM)               (None, 50)                20200     \n",
            "                                                                 \n",
            " dense_6 (Dense)             (None, 25)                1275      \n",
            "                                                                 \n",
            " dense_7 (Dense)             (None, 25)                650       \n",
            "                                                                 \n",
            " dense_8 (Dense)             (None, 1)                 26        \n",
            "                                                                 \n",
            "=================================================================\n",
            "Total params: 32,551\n",
            "Trainable params: 32,551\n",
            "Non-trainable params: 0\n",
            "_________________________________________________________________\n"
          ]
        }
      ]
    },
    {
      "cell_type": "markdown",
      "source": [
        "## Visualise the arch. of mod."
      ],
      "metadata": {
        "id": "wd-UFPKl4zpC"
      }
    },
    {
      "cell_type": "code",
      "source": [
        "from tensorflow.keras.utils import plot_model\n",
        "\n",
        "plot_model(model, to_file='model_plot1.png', show_shapes=True, show_layer_names=True)"
      ],
      "metadata": {
        "colab": {
          "base_uri": "https://localhost:8080/",
          "height": 644
        },
        "id": "_aRCyxjN3Bqp",
        "outputId": "639a4b80-ae50-4d4a-cce0-1afbccf79470"
      },
      "execution_count": 59,
      "outputs": [
        {
          "output_type": "execute_result",
          "data": {
            "image/png": "[encoded data removed]",
            "text/plain": [
              "<IPython.core.display.Image object>"
            ]
          },
          "metadata": {},
          "execution_count": 59
        }
      ]
    },
    {
      "cell_type": "markdown",
      "source": [
        "## Train the model"
      ],
      "metadata": {
        "id": "KGz_DAqKbMQh"
      }
    },
    {
      "cell_type": "code",
      "source": [
        "history = model.fit(X_train_reshaped, y_train, batch_size=100, epochs=10)"
      ],
      "metadata": {
        "colab": {
          "base_uri": "https://localhost:8080/"
        },
        "id": "NztMQ2FMbHQi",
        "outputId": "6aadda4b-5048-433a-d478-2d53982fffce"
      },
      "execution_count": 102,
      "outputs": [
        {
          "output_type": "stream",
          "name": "stdout",
          "text": [
            "Epoch 1/10\n",
            "20/20 [==============================] - 6s 97ms/step - loss: 0.0027\n",
            "Epoch 2/10\n",
            "20/20 [==============================] - 2s 92ms/step - loss: 1.8432e-04\n",
            "Epoch 3/10\n",
            "20/20 [==============================] - 2s 94ms/step - loss: 7.8654e-05\n",
            "Epoch 4/10\n",
            "20/20 [==============================] - 2s 94ms/step - loss: 6.1365e-05\n",
            "Epoch 5/10\n",
            "20/20 [==============================] - 2s 95ms/step - loss: 5.7787e-05\n",
            "Epoch 6/10\n",
            "20/20 [==============================] - 2s 96ms/step - loss: 5.7689e-05\n",
            "Epoch 7/10\n",
            "20/20 [==============================] - 2s 102ms/step - loss: 5.6354e-05\n",
            "Epoch 8/10\n",
            "20/20 [==============================] - 2s 106ms/step - loss: 5.5165e-05\n",
            "Epoch 9/10\n",
            "20/20 [==============================] - 2s 97ms/step - loss: 5.5294e-05\n",
            "Epoch 10/10\n",
            "20/20 [==============================] - 2s 95ms/step - loss: 5.3618e-05\n"
          ]
        }
      ]
    },
    {
      "cell_type": "code",
      "source": [
        "def plot_loss(history):\n",
        "  plt.figure(figsize=(4, 3))\n",
        "  plt.plot(history.history['loss'], label='loss')\n",
        "  plt.xlabel('Epoch')\n",
        "  plt.ylabel('Error [z]')\n",
        "  plt.legend()\n",
        "  plt.grid(True)\n",
        "\n",
        "plt.style.use('default')\n",
        "plot_loss(history)"
      ],
      "metadata": {
        "colab": {
          "base_uri": "https://localhost:8080/",
          "height": 311
        },
        "id": "Cqbg-MfA79tC",
        "outputId": "0754d1f8-36a1-46a6-c38d-411e49c0e426"
      },
      "execution_count": 107,
      "outputs": [
        {
          "output_type": "display_data",
          "data": {
            "image/png": "[encoded data removed]",
            "text/plain": [
              "<Figure size 400x300 with 1 Axes>"
            ]
          },
          "metadata": {}
        }
      ]
    },
    {
      "cell_type": "markdown",
      "source": [
        "## Create the testing data set\n",
        "\n",
        "Ezt korábban is megcsinálhattam volna, de jobban tetszik, hogy elöbb a modelt tanítottam fel.\n",
        "\n",
        "```\n",
        "# Nem ám elfelejteni, hogy már [0, 1] intervallumra skáláztam az adatokat. Ami hiba.\n",
        "```\n",
        "\n"
      ],
      "metadata": {
        "id": "PD29NRyH5Cum"
      }
    },
    {
      "cell_type": "code",
      "source": [
        "test_data = scaled_data[training_data_len - window_size: , :]\n",
        "\n",
        "print(window_size)\n",
        "print(type(scaled_data))\n",
        "print(type(test_data))\n",
        "print(scaled_data.shape)\n",
        "print(test_data.shape)"
      ],
      "metadata": {
        "colab": {
          "base_uri": "https://localhost:8080/"
        },
        "id": "GEANjJtp37QC",
        "outputId": "9222147c-542f-4be4-999e-a31b224c5daa"
      },
      "execution_count": 108,
      "outputs": [
        {
          "output_type": "stream",
          "name": "stdout",
          "text": [
            "60\n",
            "<class 'numpy.ndarray'>\n",
            "<class 'numpy.ndarray'>\n",
            "(2527, 1)\n",
            "(565, 1)\n"
          ]
        }
      ]
    },
    {
      "cell_type": "code",
      "source": [
        "X_test = []\n",
        "y_test = dataset[training_data_len: , :]\n",
        "\n",
        "for i in range(window_size, len(test_data)):\n",
        "  X_test.append(test_data[i-window_size:i, 0])"
      ],
      "metadata": {
        "id": "wHl4M2Zq4p_V"
      },
      "execution_count": 110,
      "outputs": []
    },
    {
      "cell_type": "code",
      "source": [
        "print(type(y_test))\n",
        "print(y_test.shape)\n",
        "print(y_test[1])\n",
        "\n",
        "print(type(X_test))\n",
        "print(X_test[1].shape)\n",
        "print(X_test[1])"
      ],
      "metadata": {
        "colab": {
          "base_uri": "https://localhost:8080/"
        },
        "id": "NtlOJBEL4p8K",
        "outputId": "e32238b7-337e-42b0-b63a-4a17f15e3227"
      },
      "execution_count": 111,
      "outputs": [
        {
          "output_type": "stream",
          "name": "stdout",
          "text": [
            "<class 'numpy.ndarray'>\n",
            "(505, 1)\n",
            "[79.68250275]\n",
            "<class 'list'>\n",
            "(60,)\n",
            "[0.2739606  0.27875046 0.27934549 0.28380812 0.28748235 0.27891409\n",
            " 0.27886947 0.28705095 0.29755301 0.30005207 0.29950169 0.2996653\n",
            " 0.30292302 0.30397921 0.30704354 0.3066865  0.31042024 0.30769806\n",
            " 0.31233918 0.31433248 0.31312758 0.30851619 0.3067609  0.30641875\n",
            " 0.31324656 0.31015249 0.31543325 0.31455561 0.30995911 0.3029528\n",
            " 0.30635924 0.31207139 0.31970249 0.31406474 0.3163853  0.31979174\n",
            " 0.32081814 0.32630718 0.33331349 0.33413166 0.33313499 0.3335515\n",
            " 0.33268875 0.33947193 0.33987355 0.34826331 0.34809966 0.35065823\n",
            " 0.3538267  0.36379325 0.35944961 0.36297508 0.36087768 0.36801787\n",
            " 0.37759764 0.37863889 0.3885013  0.38213462 0.38014132 0.38594273]\n"
          ]
        }
      ]
    },
    {
      "cell_type": "markdown",
      "source": [
        "## List -> Numpy"
      ],
      "metadata": {
        "id": "PCJRaezX8fwZ"
      }
    },
    {
      "cell_type": "code",
      "source": [
        "X_test = np.array(X_test)"
      ],
      "metadata": {
        "id": "d6tbM_En8jCs"
      },
      "execution_count": 112,
      "outputs": []
    },
    {
      "cell_type": "markdown",
      "source": [
        "## Reshape the data"
      ],
      "metadata": {
        "id": "z-18_4mE6PJF"
      }
    },
    {
      "cell_type": "code",
      "source": [
        "x_test = np.reshape(X_test, (X_test.shape[0], X_test.shape[1], 1))"
      ],
      "metadata": {
        "id": "hHdqwezY54Ln"
      },
      "execution_count": 113,
      "outputs": []
    },
    {
      "cell_type": "code",
      "source": [
        "print(type(X_test))\n",
        "print(X_test.shape)\n",
        "print(X_test[1][1:5])"
      ],
      "metadata": {
        "colab": {
          "base_uri": "https://localhost:8080/"
        },
        "id": "wIihAFJr53-w",
        "outputId": "b350ca3b-fac7-4111-cc83-bdbeccee63b7"
      },
      "execution_count": 114,
      "outputs": [
        {
          "output_type": "stream",
          "name": "stdout",
          "text": [
            "<class 'numpy.ndarray'>\n",
            "(505, 60)\n",
            "[0.27875046 0.27934549 0.28380812 0.28748235]\n"
          ]
        }
      ]
    },
    {
      "cell_type": "markdown",
      "source": [
        "## Get the models predicted price values"
      ],
      "metadata": {
        "id": "9groEwuY6dau"
      }
    },
    {
      "cell_type": "code",
      "source": [
        "predictions = model.predict(X_test)"
      ],
      "metadata": {
        "id": "w1kKdsw7537A"
      },
      "execution_count": 115,
      "outputs": []
    },
    {
      "cell_type": "code",
      "source": [
        "print(predictions.shape)\n",
        "print(predictions[0])"
      ],
      "metadata": {
        "colab": {
          "base_uri": "https://localhost:8080/"
        },
        "id": "1oB3JFIj8syM",
        "outputId": "f6ccfca7-99e6-4c36-fb07-6aee6c3e8b7f"
      },
      "execution_count": 117,
      "outputs": [
        {
          "output_type": "stream",
          "name": "stdout",
          "text": [
            "(505, 1)\n",
            "[0.379488]\n"
          ]
        }
      ]
    },
    {
      "cell_type": "markdown",
      "source": [
        "## Invert the scaled values to the original"
      ],
      "metadata": {
        "id": "gAdi-tnV6hdW"
      }
    },
    {
      "cell_type": "code",
      "source": [
        "predictions_inverted = scaler.inverse_transform(predictions)"
      ],
      "metadata": {
        "id": "v2bH3s_K533u"
      },
      "execution_count": 118,
      "outputs": []
    },
    {
      "cell_type": "code",
      "source": [
        "predictions_inverted[0]"
      ],
      "metadata": {
        "colab": {
          "base_uri": "https://localhost:8080/"
        },
        "id": "feVyJu1u83A9",
        "outputId": "70bcb1b5-69b6-4456-ba41-0621379dcfd0"
      },
      "execution_count": 119,
      "outputs": [
        {
          "output_type": "execute_result",
          "data": {
            "text/plain": [
              "array([77.7252], dtype=float32)"
            ]
          },
          "metadata": {},
          "execution_count": 119
        }
      ]
    },
    {
      "cell_type": "markdown",
      "source": [
        "## Measure the error of the prediction"
      ],
      "metadata": {
        "id": "vZisVw2-6piM"
      }
    },
    {
      "cell_type": "code",
      "source": [
        "root_mean_square_error = np.sqrt( np.mean( predictions_inverted - y_test )**2 )"
      ],
      "metadata": {
        "id": "BxbftLOq530i"
      },
      "execution_count": 121,
      "outputs": []
    },
    {
      "cell_type": "code",
      "source": [
        "root_mean_square_error"
      ],
      "metadata": {
        "colab": {
          "base_uri": "https://localhost:8080/"
        },
        "id": "hPQwDM2653xG",
        "outputId": "977db3e6-3816-4129-cbb7-59fb8a8d3029"
      },
      "execution_count": 122,
      "outputs": [
        {
          "output_type": "execute_result",
          "data": {
            "text/plain": [
              "5.850942426624865"
            ]
          },
          "metadata": {},
          "execution_count": 122
        }
      ]
    },
    {
      "cell_type": "markdown",
      "source": [
        "## Create a new dataframe"
      ],
      "metadata": {
        "id": "lhBgUafk6z7V"
      }
    },
    {
      "cell_type": "code",
      "source": [
        "train = data[:training_data_len]\n",
        "valid = data[training_data_len:]\n",
        "\n",
        "print(type(valid))\n",
        "print(valid.shape)\n",
        "print(valid.columns)\n",
        "\n",
        "valid['Predictions'] = predictions_inverted\n",
        "\n",
        "print(valid.shape)\n",
        "print(valid.columns)"
      ],
      "metadata": {
        "colab": {
          "base_uri": "https://localhost:8080/"
        },
        "id": "lHlbwUkV4p4x",
        "outputId": "fc0c055c-8de3-438a-99eb-09b810e917d0"
      },
      "execution_count": 123,
      "outputs": [
        {
          "output_type": "stream",
          "name": "stdout",
          "text": [
            "<class 'pandas.core.frame.DataFrame'>\n",
            "(505, 1)\n",
            "Index(['Close'], dtype='object')\n",
            "(505, 2)\n",
            "Index(['Close', 'Predictions'], dtype='object')\n"
          ]
        },
        {
          "output_type": "stream",
          "name": "stderr",
          "text": [
            "/usr/local/lib/python3.7/dist-packages/ipykernel_launcher.py:8: SettingWithCopyWarning: \n",
            "A value is trying to be set on a copy of a slice from a DataFrame.\n",
            "Try using .loc[row_indexer,col_indexer] = value instead\n",
            "\n",
            "See the caveats in the documentation: https://pandas.pydata.org/pandas-docs/stable/user_guide/indexing.html#returning-a-view-versus-a-copy\n",
            "  \n"
          ]
        }
      ]
    },
    {
      "cell_type": "markdown",
      "source": [
        "## Visualize the data\n",
        "\n",
        "\n",
        "\n",
        "```\n",
        "# Egy gyors emlkékeztető\n",
        "\n",
        "Csuda szépnek tűnhet a grafikon, ugyanakkor csalóka.\n",
        "\n",
        "Ugyanis t+1 időpontot becsülök, egy window_size méretű vektorral,\n",
        "a becsült érték t időpontban és t+1 időpontban mért értéke pedig\n",
        "nagyon közel van egymáshoz.\n",
        "```\n",
        "\n"
      ],
      "metadata": {
        "id": "qq4pU3rn7Du2"
      }
    },
    {
      "cell_type": "code",
      "source": [
        "plt.style.use('fivethirtyeight')\n",
        "\n",
        "plt.figure(figsize=(16,8))\n",
        "plt.title('Model')\n",
        "plt.xlabel('Dátum')\n",
        "plt.ylabel('Záró ár USD')\n",
        "plt.plot(train['Close'])\n",
        "plt.plot(valid[['Close', 'Predictions']])\n",
        "plt.legend(['Train', 'Val', 'Predictions'], loc='lower right')\n",
        "\n",
        "plt.show()"
      ],
      "metadata": {
        "colab": {
          "base_uri": "https://localhost:8080/",
          "height": 647
        },
        "id": "AUJlYCTx7DEw",
        "outputId": "631395c9-478b-44e6-aef5-5a2098cfa19c"
      },
      "execution_count": 127,
      "outputs": [
        {
          "output_type": "display_data",
          "data": {
            "image/png": "[encoded data removed]",
            "text/plain": [
              "<Figure size 1600x800 with 1 Axes>"
            ]
          },
          "metadata": {}
        }
      ]
    },
    {
      "cell_type": "markdown",
      "source": [
        "## Show the valid and predicted prices"
      ],
      "metadata": {
        "id": "wTU4iC0C95Ow"
      }
    },
    {
      "cell_type": "code",
      "source": [
        "valid"
      ],
      "metadata": {
        "colab": {
          "base_uri": "https://localhost:8080/",
          "height": 455
        },
        "id": "eHySGoy37DA7",
        "outputId": "118e1b30-0806-4c1e-d760-576180b968d2"
      },
      "execution_count": 128,
      "outputs": [
        {
          "output_type": "execute_result",
          "data": {
            "text/html": [
              "\n",
              "  <div id=\"df-925275c8-21c9-4733-9cf6-e7c67c273a9e\">\n",
              "    <div class=\"colab-df-container\">\n",
              "      <div>\n",
              "<style scoped>\n",
              "    .dataframe tbody tr th:only-of-type {\n",
              "        vertical-align: middle;\n",
              "    }\n",
              "\n",
              "    .dataframe tbody tr th {\n",
              "        vertical-align: top;\n",
              "    }\n",
              "\n",
              "    .dataframe thead th {\n",
              "        text-align: right;\n",
              "    }\n",
              "</style>\n",
              "<table border=\"1\" class=\"dataframe\">\n",
              "  <thead>\n",
              "    <tr style=\"text-align: right;\">\n",
              "      <th></th>\n",
              "      <th>Close</th>\n",
              "      <th>Predictions</th>\n",
              "    </tr>\n",
              "    <tr>\n",
              "      <th>Date</th>\n",
              "      <th></th>\n",
              "      <th></th>\n",
              "    </tr>\n",
              "  </thead>\n",
              "  <tbody>\n",
              "    <tr>\n",
              "      <th>2020-01-16</th>\n",
              "      <td>78.809998</td>\n",
              "      <td>77.725197</td>\n",
              "    </tr>\n",
              "    <tr>\n",
              "      <th>2020-01-17</th>\n",
              "      <td>79.682503</td>\n",
              "      <td>78.255547</td>\n",
              "    </tr>\n",
              "    <tr>\n",
              "      <th>2020-01-21</th>\n",
              "      <td>79.142502</td>\n",
              "      <td>78.788994</td>\n",
              "    </tr>\n",
              "    <tr>\n",
              "      <th>2020-01-22</th>\n",
              "      <td>79.425003</td>\n",
              "      <td>79.275925</td>\n",
              "    </tr>\n",
              "    <tr>\n",
              "      <th>2020-01-23</th>\n",
              "      <td>79.807503</td>\n",
              "      <td>79.724396</td>\n",
              "    </tr>\n",
              "    <tr>\n",
              "      <th>...</th>\n",
              "      <td>...</td>\n",
              "      <td>...</td>\n",
              "    </tr>\n",
              "    <tr>\n",
              "      <th>2022-01-10</th>\n",
              "      <td>172.190002</td>\n",
              "      <td>191.881897</td>\n",
              "    </tr>\n",
              "    <tr>\n",
              "      <th>2022-01-11</th>\n",
              "      <td>175.080002</td>\n",
              "      <td>191.446686</td>\n",
              "    </tr>\n",
              "    <tr>\n",
              "      <th>2022-01-12</th>\n",
              "      <td>175.529999</td>\n",
              "      <td>191.077652</td>\n",
              "    </tr>\n",
              "    <tr>\n",
              "      <th>2022-01-13</th>\n",
              "      <td>172.190002</td>\n",
              "      <td>190.777313</td>\n",
              "    </tr>\n",
              "    <tr>\n",
              "      <th>2022-01-14</th>\n",
              "      <td>173.070007</td>\n",
              "      <td>190.366287</td>\n",
              "    </tr>\n",
              "  </tbody>\n",
              "</table>\n",
              "<p>505 rows × 2 columns</p>\n",
              "</div>\n",
              "      <button class=\"colab-df-convert\" onclick=\"convertToInteractive('df-925275c8-21c9-4733-9cf6-e7c67c273a9e')\"\n",
              "              title=\"Convert this dataframe to an interactive table.\"\n",
              "              style=\"display:none;\">\n",
              "        \n",
              "  <svg xmlns=\"http://www.w3.org/2000/svg\" height=\"24px\"viewBox=\"0 0 24 24\"\n",
              "       width=\"24px\">\n",
              "    <path d=\"M0 0h24v24H0V0z\" fill=\"none\"/>\n",
              "    <path d=\"M18.56 5.44l.94 2.06.94-2.06 2.06-.94-2.06-.94-.94-2.06-.94 2.06-2.06.94zm-11 1L8.5 8.5l.94-2.06 2.06-.94-2.06-.94L8.5 2.5l-.94 2.06-2.06.94zm10 10l.94 2.06.94-2.06 2.06-.94-2.06-.94-.94-2.06-.94 2.06-2.06.94z\"/><path d=\"M17.41 7.96l-1.37-1.37c-.4-.4-.92-.59-1.43-.59-.52 0-1.04.2-1.43.59L10.3 9.45l-7.72 7.72c-.78.78-.78 2.05 0 2.83L4 21.41c.39.39.9.59 1.41.59.51 0 1.02-.2 1.41-.59l7.78-7.78 2.81-2.81c.8-.78.8-2.07 0-2.86zM5.41 20L4 18.59l7.72-7.72 1.47 1.35L5.41 20z\"/>\n",
              "  </svg>\n",
              "      </button>\n",
              "      \n",
              "  <style>\n",
              "    .colab-df-container {\n",
              "      display:flex;\n",
              "      flex-wrap:wrap;\n",
              "      gap: 12px;\n",
              "    }\n",
              "\n",
              "    .colab-df-convert {\n",
              "      background-color: #E8F0FE;\n",
              "      border: none;\n",
              "      border-radius: 50%;\n",
              "      cursor: pointer;\n",
              "      display: none;\n",
              "      fill: #1967D2;\n",
              "      height: 32px;\n",
              "      padding: 0 0 0 0;\n",
              "      width: 32px;\n",
              "    }\n",
              "\n",
              "    .colab-df-convert:hover {\n",
              "      background-color: #E2EBFA;\n",
              "      box-shadow: 0px 1px 2px rgba(60, 64, 67, 0.3), 0px 1px 3px 1px rgba(60, 64, 67, 0.15);\n",
              "      fill: #174EA6;\n",
              "    }\n",
              "\n",
              "    [theme=dark] .colab-df-convert {\n",
              "      background-color: #3B4455;\n",
              "      fill: #D2E3FC;\n",
              "    }\n",
              "\n",
              "    [theme=dark] .colab-df-convert:hover {\n",
              "      background-color: #434B5C;\n",
              "      box-shadow: 0px 1px 3px 1px rgba(0, 0, 0, 0.15);\n",
              "      filter: drop-shadow(0px 1px 2px rgba(0, 0, 0, 0.3));\n",
              "      fill: #FFFFFF;\n",
              "    }\n",
              "  </style>\n",
              "\n",
              "      <script>\n",
              "        const buttonEl =\n",
              "          document.querySelector('#df-925275c8-21c9-4733-9cf6-e7c67c273a9e button.colab-df-convert');\n",
              "        buttonEl.style.display =\n",
              "          google.colab.kernel.accessAllowed ? 'block' : 'none';\n",
              "\n",
              "        async function convertToInteractive(key) {\n",
              "          const element = document.querySelector('#df-925275c8-21c9-4733-9cf6-e7c67c273a9e');\n",
              "          const dataTable =\n",
              "            await google.colab.kernel.invokeFunction('convertToInteractive',\n",
              "                                                     [key], {});\n",
              "          if (!dataTable) return;\n",
              "\n",
              "          const docLinkHtml = 'Like what you see? Visit the ' +\n",
              "            '<a target=\"_blank\" href=https://colab.research.google.com/notebooks/data_table.ipynb>data table notebook</a>'\n",
              "            + ' to learn more about interactive tables.';\n",
              "          element.innerHTML = '';\n",
              "          dataTable['output_type'] = 'display_data';\n",
              "          await google.colab.output.renderOutput(dataTable, element);\n",
              "          const docLink = document.createElement('div');\n",
              "          docLink.innerHTML = docLinkHtml;\n",
              "          element.appendChild(docLink);\n",
              "        }\n",
              "      </script>\n",
              "    </div>\n",
              "  </div>\n",
              "  "
            ],
            "text/plain": [
              "                 Close  Predictions\n",
              "Date                               \n",
              "2020-01-16   78.809998    77.725197\n",
              "2020-01-17   79.682503    78.255547\n",
              "2020-01-21   79.142502    78.788994\n",
              "2020-01-22   79.425003    79.275925\n",
              "2020-01-23   79.807503    79.724396\n",
              "...                ...          ...\n",
              "2022-01-10  172.190002   191.881897\n",
              "2022-01-11  175.080002   191.446686\n",
              "2022-01-12  175.529999   191.077652\n",
              "2022-01-13  172.190002   190.777313\n",
              "2022-01-14  173.070007   190.366287\n",
              "\n",
              "[505 rows x 2 columns]"
            ]
          },
          "metadata": {},
          "execution_count": 128
        }
      ]
    },
    {
      "cell_type": "markdown",
      "source": [
        "## Új adatokon"
      ],
      "metadata": {
        "id": "0myLse-2-M3X"
      }
    },
    {
      "cell_type": "code",
      "source": [
        "# Download the data\n",
        "stock_name = 'AAPL'\n",
        "\n",
        "stock_quote = web.DataReader(stock_name, data_source='yahoo', start='2012-01-01', end='2022-01-10')\n",
        "\n",
        "# Create a new data frame\n",
        "new_df = stock_quote.filter(['Close'])\n",
        "\n",
        "# Set last N day\n",
        "window_size = 60\n",
        "\n",
        "# Get the last N day closing price values and covert the dataframe to an array\n",
        "last_N_days = new_df[-window_size:].values\n",
        "\n",
        "# Scale the data to be values between 0 and 1\n",
        "last_N_days_scaled = scaler.transform(last_N_days)\n",
        "\n",
        "# Create an empty list\n",
        "X_test = []\n",
        "\n",
        "# Append the past N days\n",
        "X_test.append(last_N_days_scaled)\n",
        "\n",
        "# Convert the X_test data set to a numpy array\n",
        "X_test = np.array(X_test)\n",
        "\n",
        "# Reshape the data\n",
        "X_test = np.reshape(X_test, (X_test.shape[0], X_test.shape[1], 1))\n",
        "\n",
        "# Get the predicted scaled price\n",
        "predicted_price = model.predict(X_test)\n",
        "\n",
        "# Invert the scaling\n",
        "predicted_price = scaler.inverse_transform(predicted_price)\n",
        "\n",
        "# Print the result\n",
        "print(predicted_price)"
      ],
      "metadata": {
        "colab": {
          "base_uri": "https://localhost:8080/"
        },
        "id": "xubLzs8z7C9U",
        "outputId": "aee7073b-85dd-4349-d890-752dc36bdf7c"
      },
      "execution_count": 129,
      "outputs": [
        {
          "output_type": "stream",
          "name": "stdout",
          "text": [
            "[[191.44669]]\n"
          ]
        }
      ]
    },
    {
      "cell_type": "markdown",
      "source": [
        "## Vesd össze a tényleges adatokkal"
      ],
      "metadata": {
        "id": "eMWyz7OL_FG0"
      }
    },
    {
      "cell_type": "code",
      "source": [
        "# Get the quote\n",
        "stock_quote_next_day = web.DataReader(stock_name, data_source='yahoo', start='2022-01-11', end='2022-01-11')\n",
        "\n",
        "print(stock_quote_next_day['Close'])"
      ],
      "metadata": {
        "colab": {
          "base_uri": "https://localhost:8080/"
        },
        "id": "1kg8n5OE7C1-",
        "outputId": "dec85c3f-1c8e-4d41-8fde-51077eb667ca"
      },
      "execution_count": 131,
      "outputs": [
        {
          "output_type": "stream",
          "name": "stdout",
          "text": [
            "Date\n",
            "2022-01-11    175.080002\n",
            "Name: Close, dtype: float64\n"
          ]
        }
      ]
    },
    {
      "cell_type": "markdown",
      "source": [
        "\n",
        "\n",
        "```\n",
        "# JoDeMiro\n",
        "```\n",
        "\n"
      ],
      "metadata": {
        "id": "cHfHvdPHFG5A"
      }
    }
  ]
}