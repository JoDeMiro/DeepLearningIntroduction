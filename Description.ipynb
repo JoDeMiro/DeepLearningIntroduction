{
  "nbformat": 4,
  "nbformat_minor": 0,
  "metadata": {
    "colab": {
      "name": "Description.ipynb",
      "provenance": [],
      "collapsed_sections": [],
      "authorship_tag": "ABX9TyMa4Obw+zbISFJaerHjpmMx",
      "include_colab_link": true
    },
    "kernelspec": {
      "name": "python3",
      "display_name": "Python 3"
    },
    "language_info": {
      "name": "python"
    }
  },
  "cells": [
    {
      "cell_type": "markdown",
      "metadata": {
        "id": "view-in-github",
        "colab_type": "text"
      },
      "source": [
        "<a href=\"https://colab.research.google.com/github/JoDeMiro/DeepLearningIntroduction/blob/main/Description.ipynb\" target=\"_parent\"><img src=\"https://colab.research.google.com/assets/colab-badge.svg\" alt=\"Open In Colab\"/></a>"
      ]
    },
    {
      "cell_type": "markdown",
      "source": [
        "\n",
        "# Limited-memory BFGS\n",
        "\n",
        "https://machinelearningmastery.com/bfgs-optimization-in-python/\n",
        "\n",
        "https://en.wikipedia.org/wiki/Limited-memory_BFGS\n",
        "\n",
        "# NN - SGD, ADM, RSMProp\n",
        "\n",
        "https://ruthvikraja-mv.medium.com/mathematical-formulae-behind-optimization-algorithms-for-neural-networks-b7d290558faf\n",
        "\n",
        "# Batch vs Iteration\n",
        "\n",
        "https://ruthvikraja-mv.medium.com/difference-between-iteration-and-epoch-in-neural-networks-e70c09e581f9\n",
        "\n",
        "# Gradent\n",
        "\n",
        "https://medium.com/mlearning-ai/basic-concepts-in-machine-learning-a20de41137cc\n",
        "\n",
        "https://medium.com/mlearning-ai/basic-concepts-in-machine-learning-a20de41137cc\n",
        "\n",
        "Ezt érdemes majd időről időre elővenni.\n",
        "\n",
        "# Non linear regression\n",
        "\n",
        "https://en.wikipedia.org/wiki/Non-linear_least_squares\n",
        "\n",
        "https://en.wikipedia.org/wiki/Levenberg%E2%80%93Marquardt_algorithm\n"
      ],
      "metadata": {
        "id": "7fXnAgj6sB-D"
      }
    },
    {
      "cell_type": "code",
      "execution_count": null,
      "metadata": {
        "colab": {
          "base_uri": "https://localhost:8080/"
        },
        "id": "uf-GilJcr9aw",
        "outputId": "a8eb6937-79b8-4283-c159-b4b4d632a505"
      },
      "outputs": [
        {
          "output_type": "stream",
          "name": "stdout",
          "text": [
            "pt =  [ 4.14828863 -4.87845982]\n",
            "Status : b'CONVERGENCE: NORM_OF_PROJECTED_GRADIENT_<=_PGTOL'\n",
            "Total Evaluations: 3\n",
            "Solution: f([ 0.0000000e+00 -8.8817842e-16]) = 0.00000\n"
          ]
        }
      ],
      "source": [
        "# bfgs algorithm local optimization of a convex function\n",
        "from scipy.optimize import minimize\n",
        "from numpy.random import rand\n",
        "import numpy as np\n",
        "\n",
        "# objective function\n",
        "def objective(x):\n",
        "  return x[0]**2.0 + x[1]**2.0\n",
        "\n",
        "# derivative of the objective function\n",
        "def derivative(x):\n",
        "  return np.array([x[0] * 2, x[1] * 2])\n",
        "\n",
        "# define range for input\n",
        "r_min, r_max = -5.0, 5.0\n",
        "\n",
        "# define the starting point as a random sample from the domain\n",
        "pt = np.array(r_min + rand(2) * (r_max-r_min))\n",
        "print('pt = ', pt)\n",
        "\n",
        "# perform the bfgs algorithm search\n",
        "result = minimize(objective, pt, method='BFGS', jac=derivative)\n",
        "# perform the l-bfgs-b algorithm search\n",
        "result = minimize(fun=objective, x0=pt, method='L-BFGS-B', jac=derivative)\n",
        "\n",
        "# summarize the result\n",
        "print('Status : %s' % result['message'])\n",
        "print('Total Evaluations: %d' % result['nfev'])\n",
        "# evaluate solution\n",
        "solution = result['x']\n",
        "evaluation = objective(solution)\n",
        "print('Solution: f(%s) = %.5f' % (solution, evaluation))"
      ]
    },
    {
      "cell_type": "code",
      "source": [
        ""
      ],
      "metadata": {
        "id": "78bhZfzEtIBj"
      },
      "execution_count": null,
      "outputs": []
    },
    {
      "cell_type": "code",
      "source": [
        ""
      ],
      "metadata": {
        "id": "M6okO0vLtenQ"
      },
      "execution_count": null,
      "outputs": []
    }
  ]
}