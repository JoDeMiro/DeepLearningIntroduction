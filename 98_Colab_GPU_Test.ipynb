{
  "nbformat": 4,
  "nbformat_minor": 0,
  "metadata": {
    "colab": {
      "name": "98 - Colab GPU Test.ipynb",
      "provenance": [],
      "collapsed_sections": [],
      "authorship_tag": "ABX9TyORcsN9c01JB9CTOzMMvBmY",
      "include_colab_link": true
    },
    "kernelspec": {
      "name": "python3",
      "display_name": "Python 3"
    },
    "language_info": {
      "name": "python"
    }
  },
  "cells": [
    {
      "cell_type": "markdown",
      "metadata": {
        "id": "view-in-github",
        "colab_type": "text"
      },
      "source": [
        "<a href=\"https://colab.research.google.com/github/JoDeMiro/DeepLearningIntroduction/blob/main/98_Colab_GPU_Test.ipynb\" target=\"_parent\"><img src=\"https://colab.research.google.com/assets/colab-badge.svg\" alt=\"Open In Colab\"/></a>"
      ]
    },
    {
      "cell_type": "markdown",
      "source": [
        "# Simple GPU Test"
      ],
      "metadata": {
        "id": "Qwu6lRB5zZXP"
      }
    },
    {
      "cell_type": "code",
      "execution_count": null,
      "metadata": {
        "colab": {
          "base_uri": "https://localhost:8080/"
        },
        "id": "yV_zmoS-zGY6",
        "outputId": "bd07c052-8fc9-4918-807d-ce592b4a5c9b"
      },
      "outputs": [
        {
          "output_type": "execute_result",
          "data": {
            "text/plain": [
              "{'scroll': True,\n",
              " 'slideNumber': True,\n",
              " 'start_slideshow_at': 'selected',\n",
              " 'theme': 'simple',\n",
              " 'transition': 'linear'}"
            ]
          },
          "metadata": {},
          "execution_count": 15
        }
      ],
      "source": [
        "from IPython.html.services.config import ConfigManager\n",
        "from IPython.paths import locate_profile\n",
        "\n",
        "cm = ConfigManager(profile_dir=locate_profile(get_ipython().profile))\n",
        "\n",
        "cm.update('notebook', {\"load_extensions\": {\"livereveal/main\": True}})\n",
        "cm.update('livereveal', {\n",
        "    'theme': 'simple',\n",
        "    'transition': 'linear',\n",
        "    'slideNumber': True,\n",
        "    'start_slideshow_at': 'selected',\n",
        "    'scroll': True,\n",
        "})"
      ]
    },
    {
      "cell_type": "markdown",
      "source": [
        "## Test with Torch"
      ],
      "metadata": {
        "id": "Jj00oZupzhY7"
      }
    },
    {
      "cell_type": "code",
      "source": [
        "import torch\n",
        "import torch.nn as nn\n",
        "\n",
        "torch.manual_seed(1)    # reproducible\n",
        "\n",
        "print('Torch', torch.__version__, 'CUDA', torch.version.cuda)\n",
        "print('Device:', torch.device('cuda:0'))\n",
        "\n",
        "if torch.cuda.is_available():\n",
        "  device = torch.device(\"cuda\")\n",
        "  print(torch.cuda.get_device_name(0))\n",
        "else:\n",
        "  device = torch.device(\"cpu\")\n",
        "print(device)"
      ],
      "metadata": {
        "colab": {
          "base_uri": "https://localhost:8080/"
        },
        "id": "DEKSeXp_zcOQ",
        "outputId": "05a3e27a-f3a3-4eb1-bb6b-1d2dcd8aeba2"
      },
      "execution_count": null,
      "outputs": [
        {
          "output_type": "stream",
          "name": "stdout",
          "text": [
            "Torch 1.10.0+cu111 CUDA 11.1\n",
            "Device: cuda:0\n",
            "cpu\n"
          ]
        }
      ]
    },
    {
      "cell_type": "markdown",
      "source": [
        "## Nvidia-smi"
      ],
      "metadata": {
        "id": "liYm5OPJ0ghq"
      }
    },
    {
      "cell_type": "code",
      "source": [
        "!nvidia-smi"
      ],
      "metadata": {
        "colab": {
          "base_uri": "https://localhost:8080/"
        },
        "id": "rHOxbAwF0iDO",
        "outputId": "4f542bc1-e0d7-48ff-96e6-3829d1490c8a"
      },
      "execution_count": null,
      "outputs": [
        {
          "output_type": "stream",
          "name": "stdout",
          "text": [
            "NVIDIA-SMI has failed because it couldn't communicate with the NVIDIA driver. Make sure that the latest NVIDIA driver is installed and running.\n",
            "\n"
          ]
        }
      ]
    },
    {
      "cell_type": "code",
      "source": [
        "# !nvidia-smi -l 1"
      ],
      "metadata": {
        "id": "E5zmnyfX0iav"
      },
      "execution_count": null,
      "outputs": []
    },
    {
      "cell_type": "code",
      "source": [
        "!nvidia-smi --query-gpu=gpu_name,driver_version,memory.total --format=csv"
      ],
      "metadata": {
        "id": "H80qeYYKJNZQ"
      },
      "execution_count": null,
      "outputs": []
    },
    {
      "cell_type": "markdown",
      "source": [
        "## Test with TensorFlow"
      ],
      "metadata": {
        "id": "ASlaYqxQ0seQ"
      }
    },
    {
      "cell_type": "code",
      "source": [
        "from tensorflow.python.client import device_lib\n",
        "\n",
        "def get_available_devices():\n",
        "    local_device_protos = device_lib.list_local_devices()\n",
        "    return [x.name for x in local_device_protos]\n",
        "\n",
        "print(get_available_devices())"
      ],
      "metadata": {
        "colab": {
          "base_uri": "https://localhost:8080/"
        },
        "id": "e4iTMcfs0mV_",
        "outputId": "5642bc0c-ad7a-4410-c835-8c49b1d59ef8"
      },
      "execution_count": null,
      "outputs": [
        {
          "output_type": "stream",
          "name": "stdout",
          "text": [
            "['/device:CPU:0']\n"
          ]
        }
      ]
    }
  ]
}