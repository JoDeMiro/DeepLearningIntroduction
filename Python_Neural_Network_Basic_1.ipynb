{
  "nbformat": 4,
  "nbformat_minor": 0,
  "metadata": {
    "colab": {
      "name": "Python - Neural Network Basic 1.ipynb",
      "provenance": [],
      "collapsed_sections": [],
      "authorship_tag": "ABX9TyPbc9bhvIgc+a9uLYEvLFe0",
      "include_colab_link": true
    },
    "kernelspec": {
      "name": "python3",
      "display_name": "Python 3"
    },
    "language_info": {
      "name": "python"
    }
  },
  "cells": [
    {
      "cell_type": "markdown",
      "metadata": {
        "id": "view-in-github",
        "colab_type": "text"
      },
      "source": [
        "<a href=\"https://colab.research.google.com/github/JoDeMiro/DeepLearningIntroduction/blob/main/Python_Neural_Network_Basic_1.ipynb\" target=\"_parent\"><img src=\"https://colab.research.google.com/assets/colab-badge.svg\" alt=\"Open In Colab\"/></a>"
      ]
    },
    {
      "cell_type": "code",
      "metadata": {
        "id": "ab8FPT91CT4C"
      },
      "source": [
        "# https://www.youtube.com/watch?v=kft1AJ9WVDk"
      ],
      "execution_count": null,
      "outputs": []
    },
    {
      "cell_type": "code",
      "metadata": {
        "id": "PFmeQ_vVCVST"
      },
      "source": [
        "import numpy as np\n",
        "import matplotlib.pyplot as plt"
      ],
      "execution_count": null,
      "outputs": []
    },
    {
      "cell_type": "code",
      "metadata": {
        "id": "r7Ak-Ba1Ca2k"
      },
      "source": [
        "def sigmoid(x):\n",
        "  return 1 / (1 + np.exp(-x))"
      ],
      "execution_count": null,
      "outputs": []
    },
    {
      "cell_type": "code",
      "metadata": {
        "id": "9KZH60AECiFo"
      },
      "source": [
        "training_inputs = np.array([[0,0,1],\n",
        "                            [1,1,1],\n",
        "                            [1,0,1],\n",
        "                            [0,1,1]])"
      ],
      "execution_count": null,
      "outputs": []
    },
    {
      "cell_type": "code",
      "metadata": {
        "id": "kwK9CSzzCr1j"
      },
      "source": [
        "training_outputs = np.array([[0,1,1,0]]).T"
      ],
      "execution_count": null,
      "outputs": []
    },
    {
      "cell_type": "code",
      "metadata": {
        "colab": {
          "base_uri": "https://localhost:8080/"
        },
        "id": "_nrfCyrPCyKu",
        "outputId": "a225d937-a7a6-482a-be91-bb216ad3fa6d"
      },
      "source": [
        "training_outputs.shape"
      ],
      "execution_count": null,
      "outputs": [
        {
          "output_type": "execute_result",
          "data": {
            "text/plain": [
              "(4, 1)"
            ]
          },
          "metadata": {
            "tags": []
          },
          "execution_count": 10
        }
      ]
    },
    {
      "cell_type": "code",
      "metadata": {
        "id": "diPSO68wC1r2"
      },
      "source": [
        "training_outputs = np.array([[0,1,1,0]])"
      ],
      "execution_count": null,
      "outputs": []
    },
    {
      "cell_type": "code",
      "metadata": {
        "colab": {
          "base_uri": "https://localhost:8080/"
        },
        "id": "XXX9gbxhC4Uq",
        "outputId": "7c35e28c-2dfe-48a3-ee7e-a2c868efe675"
      },
      "source": [
        "training_outputs.shape"
      ],
      "execution_count": null,
      "outputs": [
        {
          "output_type": "execute_result",
          "data": {
            "text/plain": [
              "(1, 4)"
            ]
          },
          "metadata": {
            "tags": []
          },
          "execution_count": 8
        }
      ]
    },
    {
      "cell_type": "code",
      "metadata": {
        "id": "QKrE_AiEC6Y-"
      },
      "source": [
        "training_outputs = np.array([[0,1,1,0]]).T"
      ],
      "execution_count": null,
      "outputs": []
    },
    {
      "cell_type": "code",
      "metadata": {
        "colab": {
          "base_uri": "https://localhost:8080/"
        },
        "id": "72SI5fw0C9zS",
        "outputId": "fc34b5ba-02fd-4f43-9953-4eeac023eb20"
      },
      "source": [
        "training_outputs.shape"
      ],
      "execution_count": null,
      "outputs": [
        {
          "output_type": "execute_result",
          "data": {
            "text/plain": [
              "(4, 1)"
            ]
          },
          "metadata": {
            "tags": []
          },
          "execution_count": 13
        }
      ]
    },
    {
      "cell_type": "code",
      "metadata": {
        "id": "Q33FwJ96DBIH"
      },
      "source": [
        "np.random.seed(1)"
      ],
      "execution_count": null,
      "outputs": []
    },
    {
      "cell_type": "code",
      "metadata": {
        "id": "vgG7n7mlDGHk"
      },
      "source": [
        "weights = 2 * np.random.random((3, 1)) - 1"
      ],
      "execution_count": null,
      "outputs": []
    },
    {
      "cell_type": "markdown",
      "metadata": {
        "id": "Eqq7o3DSD3Oc"
      },
      "source": [
        "## Random starting weigths"
      ]
    },
    {
      "cell_type": "code",
      "metadata": {
        "colab": {
          "base_uri": "https://localhost:8080/"
        },
        "id": "TOHa7MNVDMVQ",
        "outputId": "c600b1c8-5bc5-4928-b4fa-9fc938d11be4"
      },
      "source": [
        "weights"
      ],
      "execution_count": null,
      "outputs": [
        {
          "output_type": "execute_result",
          "data": {
            "text/plain": [
              "array([[-0.16595599],\n",
              "       [ 0.44064899],\n",
              "       [-0.99977125]])"
            ]
          },
          "metadata": {
            "tags": []
          },
          "execution_count": 16
        }
      ]
    },
    {
      "cell_type": "code",
      "metadata": {
        "id": "B8wnyASSDNFQ"
      },
      "source": [
        "for iteration in range(1):\n",
        "  input_layer = training_inputs\n",
        "\n",
        "  # elementwise multiplication for matrixes\n",
        "  outputs = sigmoid(np.dot(input_layer, weights))"
      ],
      "execution_count": null,
      "outputs": []
    },
    {
      "cell_type": "markdown",
      "metadata": {
        "id": "wtRU0-wuD8WG"
      },
      "source": [
        "## Outputs after training"
      ]
    },
    {
      "cell_type": "code",
      "metadata": {
        "colab": {
          "base_uri": "https://localhost:8080/"
        },
        "id": "n4aKeFCHDu6E",
        "outputId": "99073e5e-3391-45d8-f08a-555069260edc"
      },
      "source": [
        "outputs"
      ],
      "execution_count": null,
      "outputs": [
        {
          "output_type": "execute_result",
          "data": {
            "text/plain": [
              "array([[0.2689864 ],\n",
              "       [0.3262757 ],\n",
              "       [0.23762817],\n",
              "       [0.36375058]])"
            ]
          },
          "metadata": {
            "tags": []
          },
          "execution_count": 18
        }
      ]
    },
    {
      "cell_type": "markdown",
      "metadata": {
        "id": "YgR8FuzrELlD"
      },
      "source": [
        "## But our outputs should look like this [0, 1, 1, 0]"
      ]
    },
    {
      "cell_type": "code",
      "metadata": {
        "colab": {
          "base_uri": "https://localhost:8080/"
        },
        "id": "jZyvfPO7DwW7",
        "outputId": "ab0a90fd-e419-4a41-d448-e3ee01be7162"
      },
      "source": [
        "input_layer"
      ],
      "execution_count": null,
      "outputs": [
        {
          "output_type": "execute_result",
          "data": {
            "text/plain": [
              "array([[0, 0, 1],\n",
              "       [1, 1, 1],\n",
              "       [1, 0, 1],\n",
              "       [0, 1, 1]])"
            ]
          },
          "metadata": {
            "tags": []
          },
          "execution_count": 19
        }
      ]
    },
    {
      "cell_type": "code",
      "metadata": {
        "colab": {
          "base_uri": "https://localhost:8080/"
        },
        "id": "Sj6E3J9tEdvS",
        "outputId": "4e9d770a-a35c-41bc-8a91-0c8b029a6e2e"
      },
      "source": [
        "training_outputs"
      ],
      "execution_count": null,
      "outputs": [
        {
          "output_type": "execute_result",
          "data": {
            "text/plain": [
              "array([[0],\n",
              "       [1],\n",
              "       [1],\n",
              "       [0]])"
            ]
          },
          "metadata": {
            "tags": []
          },
          "execution_count": 20
        }
      ]
    },
    {
      "cell_type": "code",
      "metadata": {
        "colab": {
          "base_uri": "https://localhost:8080/"
        },
        "id": "VclQ8cfcEnwZ",
        "outputId": "29bd81e5-5dae-43f1-f3ec-74951d3de708"
      },
      "source": [
        "weights"
      ],
      "execution_count": null,
      "outputs": [
        {
          "output_type": "execute_result",
          "data": {
            "text/plain": [
              "array([[-0.16595599],\n",
              "       [ 0.44064899],\n",
              "       [-0.99977125]])"
            ]
          },
          "metadata": {
            "tags": []
          },
          "execution_count": 54
        }
      ]
    },
    {
      "cell_type": "code",
      "metadata": {
        "id": "-5cskqvBEwHj"
      },
      "source": [
        "y1 = input_layer[0][0] * weights[0] + input_layer[0][1] * weights[1] + input_layer[0][2] * weights[2]"
      ],
      "execution_count": null,
      "outputs": []
    },
    {
      "cell_type": "code",
      "metadata": {
        "colab": {
          "base_uri": "https://localhost:8080/"
        },
        "id": "UBVz9VkGE4n2",
        "outputId": "37012b88-95e5-4324-93a8-c9390988581f"
      },
      "source": [
        "y1"
      ],
      "execution_count": null,
      "outputs": [
        {
          "output_type": "execute_result",
          "data": {
            "text/plain": [
              "array([-0.99977125])"
            ]
          },
          "metadata": {
            "tags": []
          },
          "execution_count": 56
        }
      ]
    },
    {
      "cell_type": "code",
      "metadata": {
        "id": "VtMeywQ8E5IY"
      },
      "source": [
        "s1 = sigmoid(y1)"
      ],
      "execution_count": null,
      "outputs": []
    },
    {
      "cell_type": "code",
      "metadata": {
        "colab": {
          "base_uri": "https://localhost:8080/"
        },
        "id": "sBdsU4lGFYoV",
        "outputId": "f2f9f601-9bd9-4d2d-9877-f641cd7f7d0c"
      },
      "source": [
        "s1"
      ],
      "execution_count": null,
      "outputs": [
        {
          "output_type": "execute_result",
          "data": {
            "text/plain": [
              "array([0.2689864])"
            ]
          },
          "metadata": {
            "tags": []
          },
          "execution_count": 58
        }
      ]
    },
    {
      "cell_type": "markdown",
      "metadata": {
        "id": "DeF5iwmcF0aL"
      },
      "source": [
        "inputs:\n",
        "\n",
        "\n",
        "$x_1 = 0$\n",
        "\n",
        "$x_2 = 0$\n",
        "\n",
        "$x_3 = 1$\n",
        "\n",
        "$$ \\sum_{i=0}^{3} x_i w_i = x_1 w_1 + x_2 w_2 + x_3 + w_3 $$ \n",
        "\n",
        "\n",
        "$w_1 = -0.165$\n",
        "\n",
        "$w_2 = 0.440$\n",
        "\n",
        "$w_3 = -0.999$\n",
        "\n",
        "\n",
        "$$ \\sum_{i=0}^{3} x_i w_i = 0.0 * (-0.165) + 0.0 * (0.440) + 1.0 * (-0.999) = -0.999$$\n",
        "\n",
        "\n",
        "<br>\n",
        "\n",
        "Expansion of $sigmoid function$:\n",
        "$$ sigmoid(x)  = \\frac{1}{1+e^{-x}}$$ "
      ]
    },
    {
      "cell_type": "code",
      "metadata": {
        "id": "12ZX38gmFZCl"
      },
      "source": [
        "x = np.arange(-6, 6, 0.1)\n",
        "y = sigmoid(x)"
      ],
      "execution_count": null,
      "outputs": []
    },
    {
      "cell_type": "code",
      "metadata": {
        "colab": {
          "base_uri": "https://localhost:8080/",
          "height": 269
        },
        "id": "9FXAiwz7JTMr",
        "outputId": "0021920f-9e76-4755-f2a4-fafc05fad650"
      },
      "source": [
        "plt.plot(x, y)\n",
        "plt.ylim(0, 1)\n",
        "plt.xlim(-6, 6)\n",
        "plt.vlines(0, ymin = 0, ymax = 1, linestyles = 'dashed', color = 'gray', )\n",
        "plt.hlines(0.5, xmin = -6, xmax = 6, linestyles = 'dashed', color = 'gray')\n",
        "plt.vlines(y1,ymin = 0, ymax = s1)\n",
        "plt.hlines(s1,xmin = -6, xmax = y1)\n",
        "plt.text(y1, s1, '$\\mathrm{x = -0.999}, {y = 0.269}$')\n",
        "plt.show()\n"
      ],
      "execution_count": null,
      "outputs": [
        {
          "output_type": "display_data",
          "data": {
            "image/png": "[encoded data removed]",
            "text/plain": [
              "<Figure size 432x288 with 1 Axes>"
            ]
          },
          "metadata": {
            "tags": [],
            "needs_background": "light"
          }
        }
      ]
    },
    {
      "cell_type": "markdown",
      "metadata": {
        "id": "TURJDZ9lNPpA"
      },
      "source": [
        "## 1\n",
        "Take the inputs from the training example, and put them through our formula to get the neuron's output\n",
        "\n",
        "## 2\n",
        "Calculate the error, which is the difference between the output we got, and the actual output\n",
        "\n",
        "## 3\n",
        "Depending on the severeness of the error, ajdust the weights accordingly\n",
        "\n",
        "## 4\n",
        "Repeat this 20,000 times"
      ]
    },
    {
      "cell_type": "code",
      "metadata": {
        "id": "cel-KSKuNkHB"
      },
      "source": [
        ""
      ],
      "execution_count": null,
      "outputs": []
    }
  ]
}