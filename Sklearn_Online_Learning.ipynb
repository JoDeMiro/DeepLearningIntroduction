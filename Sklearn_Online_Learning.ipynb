{
  "nbformat": 4,
  "nbformat_minor": 0,
  "metadata": {
    "colab": {
      "name": "Sklearn Online Learning.ipynb",
      "provenance": [],
      "collapsed_sections": [],
      "authorship_tag": "ABX9TyP+5dOZTm6bqWEX2mETQeUS",
      "include_colab_link": true
    },
    "kernelspec": {
      "name": "python3",
      "display_name": "Python 3"
    },
    "language_info": {
      "name": "python"
    }
  },
  "cells": [
    {
      "cell_type": "markdown",
      "metadata": {
        "id": "view-in-github",
        "colab_type": "text"
      },
      "source": [
        "<a href=\"https://colab.research.google.com/github/JoDeMiro/DeepLearningIntroduction/blob/main/Sklearn_Online_Learning.ipynb\" target=\"_parent\"><img src=\"https://colab.research.google.com/assets/colab-badge.svg\" alt=\"Open In Colab\"/></a>"
      ]
    },
    {
      "cell_type": "markdown",
      "source": [
        "# Scikit Learn\n",
        "\n",
        "### Hogyan használjuk az incremental learninget helyesen\n",
        "\n",
        "Az eredeti cikk forássa az alábbi címen található:\n",
        "\n",
        "https://coderzcolumn.com/tutorials/machine-learning/scikit-learn-incremental-learning-for-large-datasets"
      ],
      "metadata": {
        "id": "SmsyekEV-2_8"
      }
    },
    {
      "cell_type": "code",
      "source": [
        "from sklearn import datasets\n",
        "from sklearn.model_selection import train_test_split\n",
        "\n",
        "X, Y = datasets.make_regression(n_samples=240000, random_state=123)\n",
        "\n",
        "print('X.shape = ', X.shape)\n",
        "print('Y.shape = ', Y.shape)"
      ],
      "metadata": {
        "colab": {
          "base_uri": "https://localhost:8080/"
        },
        "id": "EhqdtUTn0BSF",
        "outputId": "9580cbe8-e5d2-495d-d4f1-229c943033b5"
      },
      "execution_count": 1,
      "outputs": [
        {
          "output_type": "stream",
          "name": "stdout",
          "text": [
            "X.shape =  (240000, 100)\n",
            "Y.shape =  (240000,)\n"
          ]
        }
      ]
    },
    {
      "cell_type": "code",
      "source": [
        "print('X.nbytes = ', X.nbytes//1024, 'Kbyte')\n",
        "print('X.nbytes = ', X.nbytes//1024//1024, 'Mbyte')"
      ],
      "metadata": {
        "colab": {
          "base_uri": "https://localhost:8080/"
        },
        "id": "l1RVkGg50RPv",
        "outputId": "25a8fcdd-98b1-48ff-9722-4aadd83e86eb"
      },
      "execution_count": 2,
      "outputs": [
        {
          "output_type": "stream",
          "name": "stdout",
          "text": [
            "X.nbytes =  187500 Kbyte\n",
            "X.nbytes =  183 Mbyte\n"
          ]
        }
      ]
    },
    {
      "cell_type": "code",
      "source": [
        "X_train, X_test, Y_train, Y_test = train_test_split(X, Y, train_size=0.9, random_state=123)\n",
        "\n",
        "X_train.shape, X_test.shape, Y_train.shape, Y_test.shape"
      ],
      "metadata": {
        "colab": {
          "base_uri": "https://localhost:8080/"
        },
        "id": "IxGLqCEF0DI8",
        "outputId": "205c45c0-4ac3-493b-9e7a-b0063bf3d99d"
      },
      "execution_count": 3,
      "outputs": [
        {
          "output_type": "execute_result",
          "data": {
            "text/plain": [
              "((216000, 100), (24000, 100), (216000,), (24000,))"
            ]
          },
          "metadata": {},
          "execution_count": 3
        }
      ]
    },
    {
      "cell_type": "markdown",
      "source": [
        "### Na erre az átalakításra kíváncsi vagyok"
      ],
      "metadata": {
        "id": "pulICX2k1c6z"
      }
    },
    {
      "cell_type": "code",
      "source": [
        "X_train, X_test = X_train.reshape(-1,24,100), X_test.reshape(-1,24,100)\n",
        "Y_train, Y_test = Y_train.reshape(-1,24), Y_test.reshape(-1,24)\n",
        "\n",
        "X_train.shape, X_test.shape, Y_train.shape, Y_test.shape"
      ],
      "metadata": {
        "colab": {
          "base_uri": "https://localhost:8080/"
        },
        "id": "tfPiqOXl1Xw7",
        "outputId": "044b2dd3-d6fc-4240-f5d9-767363b6dfab"
      },
      "execution_count": 4,
      "outputs": [
        {
          "output_type": "execute_result",
          "data": {
            "text/plain": [
              "((9000, 24, 100), (1000, 24, 100), (9000, 24), (1000, 24))"
            ]
          },
          "metadata": {},
          "execution_count": 4
        }
      ]
    },
    {
      "cell_type": "markdown",
      "source": [
        "Ilyen átalakítást korábban még nem láttam, de nagyon érdekes."
      ],
      "metadata": {
        "id": "uHRLmaVD1qvx"
      }
    },
    {
      "cell_type": "code",
      "source": [
        "X_train[0].shape, Y_train[0].shape"
      ],
      "metadata": {
        "colab": {
          "base_uri": "https://localhost:8080/"
        },
        "id": "8D-dSpzK1i_4",
        "outputId": "10463b6c-7c21-43af-80ee-727d282608fb"
      },
      "execution_count": 5,
      "outputs": [
        {
          "output_type": "execute_result",
          "data": {
            "text/plain": [
              "((24, 100), (24,))"
            ]
          },
          "metadata": {},
          "execution_count": 5
        }
      ]
    },
    {
      "cell_type": "markdown",
      "source": [
        "Ha jól értem az `X_train` és az `Y_train`, batcheket, kics adatcsomagokat tartalmaz.\n",
        "\n",
        "Valahogy úgy, hogy `X_train[0]` az például egy adatcsomag.\n",
        "\n"
      ],
      "metadata": {
        "id": "AFRtxqof10bm"
      }
    },
    {
      "cell_type": "markdown",
      "source": [
        "### Create and Train Model\n",
        "\n",
        "In this section, we have created an ML model using `SGDRegressor` class of scikit-learn. We have then looped through data in **batches** and trained this estimator by calling `partial_fit()` method on it for each batch of data. We have also looped through total data **10 times** where each time training will be performed in batches.\n",
        "\n",
        "Tehát ha jól értem.:\n",
        "\n",
        "24 méretű batcheket (csomagokat) magyarul a **batch_size** lehetne 24 és 10-szer vagyis az **epoch** lehetne 10, a hagyományos terminológiában."
      ],
      "metadata": {
        "id": "HcwVJfH92IcT"
      }
    },
    {
      "cell_type": "code",
      "source": [
        "from sklearn.linear_model import SGDRegressor\n",
        "\n",
        "regressor = SGDRegressor()\n",
        "\n",
        "epochs = 10\n",
        "\n",
        "for k in range(epochs):                               ## Number of loops through data\n",
        "    for i in range(X_train.shape[0]):                 ## Looping through batches (9000)\n",
        "        X_batch, Y_batch = X_train[i], Y_train[i]\n",
        "        regressor.partial_fit(X_batch, Y_batch)       ## Partially fitting data in batches"
      ],
      "metadata": {
        "id": "2or-2Bwp1xrD"
      },
      "execution_count": 13,
      "outputs": []
    },
    {
      "cell_type": "markdown",
      "source": [
        "Az SGDRegressor konstruktorában sok minden van, de ami engem érdekel a fenti vizsgálat szempontjából az a következőek.\n",
        "\n",
        "```\n",
        "SGDRegressor(max_iter=1000,\n",
        "             shuffle=True,\n",
        "             verbose=0,\n",
        "             random_state=None,\n",
        "             learning_rate='invscaling',\n",
        "             validation_fraction=0.1,\n",
        "             warm_start=False)\n",
        "```\n",
        "\n",
        "1. `max_iter` akkor most az van, hogy mind a **24** mintán amiből van **9000** és **10-szer** végig megy, azon hol végizi el ezt a `max_iter=1000` lépést? Vagy mivel a `partial_fit` metodust hívjuk meg ez az érték deffinició szerűen nem játszik és olyan mintha az értéke 1 lenne? Erre gondolok, szerintem ez a helyzet.\n",
        "\n"
      ],
      "metadata": {
        "id": "b_YeHa2C3U88"
      }
    },
    {
      "cell_type": "markdown",
      "source": [
        "### Evaluate Model Performance on Test Data\n",
        "\n",
        "In this section, we have evaluated the performance of our trained model on test data. We have looped through test data in batches and made predictions on them. We have then combined the prediction of each batch.\n",
        "\n",
        "Na ez is nagyon érdkes:\n",
        "\n",
        "Én simán ráhívtam volna az egész adatra a `predict` függvényt."
      ],
      "metadata": {
        "id": "CRHtroEA8QHb"
      }
    },
    {
      "cell_type": "code",
      "source": [
        "from sklearn.metrics import mean_squared_error, r2_score\n",
        "\n",
        "Y_test_preds = []\n",
        "for j in range(X_test.shape[0]):                  ## Looping through test batches for making predictions\n",
        "    Y_preds = regressor.predict(X_test[j])\n",
        "    Y_test_preds.extend(Y_preds.tolist())\n",
        "\n",
        "print(\"Test MSE      : {}\".format(mean_squared_error(Y_test.reshape(-1), Y_test_preds)))\n",
        "print(\"Test R2 Score : {}\".format(r2_score(Y_test.reshape(-1), Y_test_preds)))\n",
        "print(\"Y_test.reshape(-1).shape : \", Y_test.reshape(-1).shape)\n",
        "print(\"len(Y_test_preds)        :  \", len(Y_test_preds))"
      ],
      "metadata": {
        "colab": {
          "base_uri": "https://localhost:8080/"
        },
        "id": "WTy07K-R3RSr",
        "outputId": "30b13bad-65e4-4ddf-b930-acc266fb8592"
      },
      "execution_count": 19,
      "outputs": [
        {
          "output_type": "stream",
          "name": "stdout",
          "text": [
            "Test MSE      : 0.00024876312858854676\n",
            "Test R2 Score : 0.9999999907249083\n",
            "Y_test.reshape(-1).shape :  (24000,)\n",
            "len(Y_test_preds)        :   24000\n"
          ]
        }
      ]
    },
    {
      "cell_type": "markdown",
      "source": [
        "Hát igen, úgy látom ez a szakszerű módja annak, hogy elvégezzük a becslést, hiszen az `Y_train` és az `Y_test` adatok is batch kötegebe vannak formálva. És értelemszerűen ha ilyen formában tanítottuk a modelt akkor ilyen formában kell csinálnunk a becslést is, hiszen mást nem tudna megenni a model."
      ],
      "metadata": {
        "id": "zq511zBa9Zmu"
      }
    },
    {
      "cell_type": "code",
      "source": [
        "print('Y_train.shape = ', Y_train.shape)\n",
        "print('Y_test.shape  = ', Y_test.shape)"
      ],
      "metadata": {
        "colab": {
          "base_uri": "https://localhost:8080/"
        },
        "id": "UAKwBut988AD",
        "outputId": "5faefd4e-72a0-42ac-de59-fb4a7ee9ba3e"
      },
      "execution_count": 20,
      "outputs": [
        {
          "output_type": "stream",
          "name": "stdout",
          "text": [
            "Y_train.shape =  (9000, 24)\n",
            "Y_test.shape  =  (1000, 24)\n"
          ]
        }
      ]
    },
    {
      "cell_type": "markdown",
      "source": [
        "### Evaluate Model Performance on Train Data\n",
        "\n",
        "At last, we have calculated MSE and R^2 scores on the training dataset to check the performance of the model on train data."
      ],
      "metadata": {
        "id": "o5Fg12WX-Ayu"
      }
    },
    {
      "cell_type": "code",
      "source": [
        "from sklearn.metrics import mean_squared_error, r2_score\n",
        "\n",
        "Y_train_preds = []\n",
        "for j in range(X_train.shape[0]): ## Looping through train batches for making predictions\n",
        "    Y_preds = regressor.predict(X_train[j])\n",
        "    Y_train_preds.extend(Y_preds.tolist())\n",
        "\n",
        "print(\"Train MSE      : {}\".format(mean_squared_error(Y_train.reshape(-1), Y_train_preds)))\n",
        "print(\"Train R2 Score : {}\".format(r2_score(Y_train.reshape(-1), Y_train_preds)))\n",
        "print(\"Y_train.reshape(-1).shape : \", Y_train.reshape(-1).shape)\n",
        "print(\"len(Y_train_preds)        :  \", len(Y_train_preds))"
      ],
      "metadata": {
        "colab": {
          "base_uri": "https://localhost:8080/"
        },
        "id": "FN6F1ub091D7",
        "outputId": "f17c62bb-263c-475c-e32d-a311b8d1eaa6"
      },
      "execution_count": 21,
      "outputs": [
        {
          "output_type": "stream",
          "name": "stdout",
          "text": [
            "Train MSE      : 0.00024853825291878094\n",
            "Train R2 Score : 0.9999999907225984\n",
            "Y_train.reshape(-1).shape :  (216000,)\n",
            "len(Y_train_preds)        :   216000\n"
          ]
        }
      ]
    },
    {
      "cell_type": "code",
      "source": [
        "print('Ennyiszer látta a model az adatokat : ', regressor.t_)"
      ],
      "metadata": {
        "colab": {
          "base_uri": "https://localhost:8080/"
        },
        "id": "qmKYj9Bx-RzS",
        "outputId": "299f6aa1-5427-4513-a99a-3f0f45f7c381"
      },
      "execution_count": 23,
      "outputs": [
        {
          "output_type": "stream",
          "name": "stdout",
          "text": [
            "Ennyiszer látta a model az adatokat :  2160001.0\n"
          ]
        }
      ]
    },
    {
      "cell_type": "markdown",
      "source": [
        "### MLPRegressor"
      ],
      "metadata": {
        "id": "Ya2RRMcQ_Zgz"
      }
    },
    {
      "cell_type": "code",
      "source": [
        "from sklearn.preprocessing import MinMaxScaler\n",
        "\n",
        "X_scaler = MinMaxScaler((0, 1))\n",
        "Y_scaler = MinMaxScaler((0, 1))\n",
        "\n",
        "X, Y = datasets.make_regression(n_samples=240000, random_state=123)\n",
        "\n",
        "print('X.shape = ', X.shape)\n",
        "print('Y.shape = ', Y.shape)\n",
        "\n",
        "print('X.nbytes = ', X.nbytes//1024, 'Kbyte')\n",
        "print('X.nbytes = ', X.nbytes//1024//1024, 'Mbyte')\n",
        "\n",
        "X_train, X_test, Y_train, Y_test = train_test_split(X, Y, train_size=0.9, random_state=123)\n",
        "\n",
        "print(X_train.shape, X_test.shape, Y_train.shape, Y_test.shape)\n",
        "\n",
        "\n",
        "X_train_scaled = X_scaler.fit_transform(X_train)\n",
        "Y_train_scaled = Y_scaler.fit_transform(Y_train.reshape(-1, 1)).flatten()\n",
        "\n",
        "X_test_scaled  = X_scaler.transform(X_test)\n",
        "Y_test_scaled  = Y_scaler.transform(Y_test.reshape(-1, 1)).flatten()\n",
        "\n",
        "print(X_train_scaled.shape, X_test_scaled.shape, Y_train_scaled.shape, Y_test_scaled.shape)\n"
      ],
      "metadata": {
        "colab": {
          "base_uri": "https://localhost:8080/"
        },
        "id": "kNfnRqup-oYW",
        "outputId": "7f830aa3-c42c-4f0c-8f17-e0c452e6feda"
      },
      "execution_count": 32,
      "outputs": [
        {
          "output_type": "stream",
          "name": "stdout",
          "text": [
            "X.shape =  (240000, 100)\n",
            "Y.shape =  (240000,)\n",
            "X.nbytes =  187500 Kbyte\n",
            "X.nbytes =  183 Mbyte\n",
            "(216000, 100) (24000, 100) (216000,) (24000,)\n",
            "(216000, 100) (24000, 100) (216000,) (24000,)\n"
          ]
        }
      ]
    },
    {
      "cell_type": "markdown",
      "source": [
        "### Na erre az átalakításra kíváncsi vagyok"
      ],
      "metadata": {
        "id": "QTeM2UWABz4V"
      }
    },
    {
      "cell_type": "code",
      "source": [
        "X_train, X_test = X_train_scaled.reshape(-1,24,100), X_test_scaled.reshape(-1,24,100)\n",
        "Y_train, Y_test = Y_train_scaled.reshape(-1,24), Y_test_scaled.reshape(-1,24)\n",
        "\n",
        "X_train.shape, X_test.shape, Y_train.shape, Y_test.shape"
      ],
      "metadata": {
        "colab": {
          "base_uri": "https://localhost:8080/"
        },
        "id": "DmtUe1zpBvqQ",
        "outputId": "0358e31c-cb2a-40ea-c444-b08ab89471ad"
      },
      "execution_count": 33,
      "outputs": [
        {
          "output_type": "execute_result",
          "data": {
            "text/plain": [
              "((9000, 24, 100), (1000, 24, 100), (9000, 24), (1000, 24))"
            ]
          },
          "metadata": {},
          "execution_count": 33
        }
      ]
    },
    {
      "cell_type": "markdown",
      "source": [
        "Ilyen átalakítást korábban még nem láttam, de nagyon érdekes."
      ],
      "metadata": {
        "id": "NszCDHxNCF6U"
      }
    },
    {
      "cell_type": "code",
      "source": [
        "X_train[0].shape, Y_train[0].shape"
      ],
      "metadata": {
        "colab": {
          "base_uri": "https://localhost:8080/"
        },
        "id": "FVKx17AkB9xv",
        "outputId": "a37cd597-0be5-4c85-e59a-f278fda9971b"
      },
      "execution_count": 34,
      "outputs": [
        {
          "output_type": "execute_result",
          "data": {
            "text/plain": [
              "((24, 100), (24,))"
            ]
          },
          "metadata": {},
          "execution_count": 34
        }
      ]
    },
    {
      "cell_type": "markdown",
      "source": [
        "Ha jól értem az `X_train` és az `Y_train`, batcheket, kics adatcsomagokat tartalmaz.\n",
        "\n",
        "Valahogy úgy, hogy `X_train[0]` az például egy adatcsomag.\n",
        "\n"
      ],
      "metadata": {
        "id": "A027DGrfCMoE"
      }
    },
    {
      "cell_type": "markdown",
      "source": [
        "### Create and Train Model\n",
        "\n",
        "In this section, we have created an ML model using `MLPRegressor` class of scikit-learn. We have then looped through data in **batches** and trained this estimator by calling `partial_fit()` method on it for each batch of data. We have also looped through total data **10 times** where each time training will be performed in batches.\n",
        "\n",
        "Tehát ha jól értem.:\n",
        "\n",
        "24 méretű batcheket (csomagokat) magyarul a **batch_size** lehetne 24 és 10-szer vagyis az **epoch** lehetne 10, a hagyományos terminológiában."
      ],
      "metadata": {
        "id": "dmdwjr8UCQ7r"
      }
    },
    {
      "cell_type": "markdown",
      "source": [
        "### [ ! ]\n",
        "\n",
        "Itt viszont lesz egy fundamentális különbség az `SGDRegressor` osztályhoz képest.\n",
        "\n",
        "Ott ugyanis nem volt megadható a `batch_size` az `MLPRegreessor` esetében igen.\n",
        "\n",
        "1. Probáljuk meg úgy, hogy az összes adatot ami a köteben szerepel megkapja\n",
        "2. Próbáljuk meg úgy, hogy csak egy adatot kap meg beállításként.\n",
        "3. Nézzük meg milyen eredményt ad a `warm_start` bekapcsolása, van-e hatása\n",
        "4. Nézzük meg, hogy van-e különbség a `fit` és `partial_fit` között.\n",
        "5. Tudomásom szerint `partial_fit` esetén nincs hatása a `max_iter` értékének, de tesztelni kell. (Hamis)"
      ],
      "metadata": {
        "id": "ICHXs7nrCa3I"
      }
    },
    {
      "cell_type": "markdown",
      "source": [
        "### [ 1 ]\n",
        "\n",
        "Az első kísérlet."
      ],
      "metadata": {
        "id": "WxY_8HidDPyf"
      }
    },
    {
      "cell_type": "code",
      "source": [
        "from sklearn.neural_network import MLPRegressor\n",
        "\n",
        "mlp1 = MLPRegressor(hidden_layer_sizes=(10, ),\n",
        "                    activation='relu',\n",
        "                    solver='sgd',\n",
        "                    batch_size=24,\n",
        "                    max_iter=1,\n",
        "                    learning_rate_init=0.001,\n",
        "                    shuffle=True,\n",
        "                    verbose=False,\n",
        "                    random_state=123,\n",
        "                    validation_fraction=0.0,\n",
        "                    n_iter_no_change=98765)"
      ],
      "metadata": {
        "id": "yGF2kYgjCJEN"
      },
      "execution_count": 36,
      "outputs": []
    },
    {
      "cell_type": "markdown",
      "source": [
        "1. `max_iter` akkor most az van, hogy mind a **24** mintán amiből van **9000** és **10-szer** végig megy, azon hol végizi el ezt a `max_iter=1000` lépést? Vagy mivel a `partial_fit` metodust hívjuk meg ez az érték deffinició szerűen nem játszik és olyan mintha az értéke 1 lenne? Erre gondolok, szerintem ez a helyzet."
      ],
      "metadata": {
        "id": "l_VYIJsvFim7"
      }
    },
    {
      "cell_type": "code",
      "source": [
        "epochs = 10\n",
        "\n",
        "for k in range(epochs):                               ## Number of loops through data\n",
        "    for i in range(X_train.shape[0]):                 ## Looping through batches (9000)\n",
        "        X_batch, Y_batch = X_train[i], Y_train[i]     ## (24, 100) és (24,)\n",
        "        mlp1.partial_fit(X_batch, Y_batch)            ## Partially fitting data in batches"
      ],
      "metadata": {
        "id": "e4ayHDpIDk10"
      },
      "execution_count": 37,
      "outputs": []
    },
    {
      "cell_type": "markdown",
      "source": [
        "### [ 1 ] Evaluate Model Performance on Test Data\n"
      ],
      "metadata": {
        "id": "WXHRT87qGVBH"
      }
    },
    {
      "cell_type": "code",
      "source": [
        "from sklearn.metrics import mean_squared_error, r2_score\n",
        "\n",
        "Y_test_preds = []\n",
        "for j in range(X_test.shape[0]):                  ## Looping through test batches for making predictions\n",
        "    Y_preds = mlp1.predict(X_test[j])\n",
        "    Y_test_preds.extend(Y_preds.tolist())\n",
        "\n",
        "print(\"Test MSE      : {}\".format(mean_squared_error(Y_test.reshape(-1), Y_test_preds)))\n",
        "print(\"Test R2 Score : {}\".format(r2_score(Y_test.reshape(-1), Y_test_preds)))\n",
        "print(\"Y_test.reshape(-1).shape : \", Y_test.reshape(-1).shape)\n",
        "print(\"len(Y_test_preds)        :  \", len(Y_test_preds))"
      ],
      "metadata": {
        "colab": {
          "base_uri": "https://localhost:8080/"
        },
        "id": "HpZAdM0zF8A1",
        "outputId": "dd54a15c-a3a9-475a-ffc2-274ef4903fa5"
      },
      "execution_count": 41,
      "outputs": [
        {
          "output_type": "stream",
          "name": "stdout",
          "text": [
            "Test MSE      : 0.00025005242167357546\n",
            "Test R2 Score : 0.981430351001458\n",
            "Y_test.reshape(-1).shape :  (24000,)\n",
            "len(Y_test_preds)        :   24000\n"
          ]
        }
      ]
    },
    {
      "cell_type": "code",
      "source": [
        "import matplotlib.pyplot as plt\n",
        "\n",
        "fig, (ax1, ax2, ax3) = plt.subplots(1, 3, figsize=(21, 4))\n",
        "ax1.plot(mlp1.loss_curve_[0:100])\n",
        "ax1.set_title('[0:100] iter')\n",
        "ax2.plot(mlp1.loss_curve_)\n",
        "ax2.set_title('Whole')\n",
        "ax3.plot(mlp1.loss_curve_[-100:])\n",
        "ax3.set_title('[-100:] iter')\n",
        "plt.show()\n",
        "print(\"mlp1.t_       :  \", mlp1.t_)\n",
        "print(\"Y_train.shape : \", Y_train.shape)"
      ],
      "metadata": {
        "colab": {
          "base_uri": "https://localhost:8080/",
          "height": 316
        },
        "id": "KTCm_9zeGc8H",
        "outputId": "7ac46eee-c2a4-49c9-b8a4-dbf791e8d8e4"
      },
      "execution_count": 45,
      "outputs": [
        {
          "output_type": "display_data",
          "data": {
            "image/png": "[encoded data removed]",
            "text/plain": [
              "<Figure size 1512x288 with 3 Axes>"
            ]
          },
          "metadata": {
            "needs_background": "light"
          }
        },
        {
          "output_type": "stream",
          "name": "stdout",
          "text": [
            "mlp1.t_       :   2160000\n",
            "Y_train.shape :  (9000, 24)\n"
          ]
        }
      ]
    },
    {
      "cell_type": "markdown",
      "source": [
        "### [ 2 ]\n",
        "\n",
        "A második kísérlet."
      ],
      "metadata": {
        "id": "KMG9iIAJOgaG"
      }
    },
    {
      "cell_type": "code",
      "source": [
        "from sklearn.neural_network import MLPRegressor\n",
        "\n",
        "mlp2 = MLPRegressor(hidden_layer_sizes=(10, ),      # mlp2\n",
        "                    activation='relu',\n",
        "                    solver='sgd',\n",
        "                    batch_size=1,           # 24 -> 1\n",
        "                    max_iter=1,\n",
        "                    learning_rate_init=0.001,\n",
        "                    shuffle=True,\n",
        "                    verbose=False,\n",
        "                    random_state=123,\n",
        "                    validation_fraction=0.0,\n",
        "                    n_iter_no_change=98765)"
      ],
      "metadata": {
        "id": "da1hTs6wHPsK"
      },
      "execution_count": 46,
      "outputs": []
    },
    {
      "cell_type": "markdown",
      "source": [
        "2. `max_iter` akkor most az van, hogy mind a **24** mintán amiből van **9000** és **10-szer** végig megy, azon hol végizi el ezt a `max_iter=1000` lépést? Vagy mivel a `partial_fit` metodust hívjuk meg ez az érték deffinició szerűen nem játszik és olyan mintha az értéke 1 lenne? Erre gondolok, szerintem ez a helyzet."
      ],
      "metadata": {
        "id": "HdWsoDDYO0x0"
      }
    },
    {
      "cell_type": "code",
      "source": [
        "epochs = 10\n",
        "\n",
        "for k in range(epochs):                               ## Number of loops through data\n",
        "    for i in range(X_train.shape[0]):                 ## Looping through batches (9000)\n",
        "        X_batch, Y_batch = X_train[i], Y_train[i]     ## (24, 100) és (24,)\n",
        "        mlp2.partial_fit(X_batch, Y_batch)            ## Partially fitting data in batches"
      ],
      "metadata": {
        "id": "8td_-rG6OvzV"
      },
      "execution_count": 47,
      "outputs": []
    },
    {
      "cell_type": "markdown",
      "source": [
        "### [ 2 ] Evaluate Model Performance on Test Data"
      ],
      "metadata": {
        "id": "oRYkutuEPFJt"
      }
    },
    {
      "cell_type": "code",
      "source": [
        "from sklearn.metrics import mean_squared_error, r2_score\n",
        "\n",
        "Y_test_preds = []\n",
        "for j in range(X_test.shape[0]):                  ## Looping through test batches for making predictions\n",
        "    Y_preds = mlp2.predict(X_test[j])             ## mlp2\n",
        "    Y_test_preds.extend(Y_preds.tolist())\n",
        "\n",
        "print(\"Test MSE      : {}\".format(mean_squared_error(Y_test.reshape(-1), Y_test_preds)))\n",
        "print(\"Test R2 Score : {}\".format(r2_score(Y_test.reshape(-1), Y_test_preds)))\n",
        "print(\"Y_test.reshape(-1).shape : \", Y_test.reshape(-1).shape)\n",
        "print(\"len(Y_test_preds)        :  \", len(Y_test_preds))"
      ],
      "metadata": {
        "colab": {
          "base_uri": "https://localhost:8080/"
        },
        "id": "UxqqrEu2PAQu",
        "outputId": "22e78b7e-5901-4ae6-a3db-5d2b2f687783"
      },
      "execution_count": 48,
      "outputs": [
        {
          "output_type": "stream",
          "name": "stdout",
          "text": [
            "Test MSE      : 7.763068047566436e-07\n",
            "Test R2 Score : 0.9999423491091067\n",
            "Y_test.reshape(-1).shape :  (24000,)\n",
            "len(Y_test_preds)        :   24000\n"
          ]
        }
      ]
    },
    {
      "cell_type": "code",
      "source": [
        "import matplotlib.pyplot as plt\n",
        "\n",
        "fig, (ax1, ax2, ax3) = plt.subplots(1, 3, figsize=(21, 4))\n",
        "ax1.plot(mlp2.loss_curve_[0:100])\n",
        "ax1.set_title('[0:100] iter')\n",
        "ax2.plot(mlp2.loss_curve_)\n",
        "ax2.set_title('Whole')\n",
        "ax3.plot(mlp2.loss_curve_[-100:])\n",
        "ax3.set_title('[-100:] iter')\n",
        "plt.show()\n",
        "print(\"mlp2.t_       :  \", mlp2.t_)\n",
        "print(\"Y_train.shape : \", Y_train.shape)"
      ],
      "metadata": {
        "colab": {
          "base_uri": "https://localhost:8080/",
          "height": 316
        },
        "id": "088f7WHtPN7P",
        "outputId": "ca157b2f-81df-4217-f8c8-052ba175682a"
      },
      "execution_count": 49,
      "outputs": [
        {
          "output_type": "display_data",
          "data": {
            "image/png": "[encoded data removed]",
            "text/plain": [
              "<Figure size 1512x288 with 3 Axes>"
            ]
          },
          "metadata": {
            "needs_background": "light"
          }
        },
        {
          "output_type": "stream",
          "name": "stdout",
          "text": [
            "mlp2.t_       :   2160000\n",
            "Y_train.shape :  (9000, 24)\n"
          ]
        }
      ]
    },
    {
      "cell_type": "markdown",
      "source": [
        "### Megtapasztalás\n",
        "\n",
        "A tapasztalat itt a következő.\n",
        "\n",
        "Igaz ugyan, hogy összességében ugyan annyiszor látta minkét model az adatokat.\n",
        "\n",
        "De alapvető különbségek vannak.\n",
        "\n",
        "1. Ha a batch_size = 24 akkor a hibát a 24 adaton méri és úgy modosítja a súlyokat\n",
        "2. Ha a batch_size = 1 akkor a hibát 1-adatra méri (akkor is ha a csomagban 24 van). Végig megy minden adaton, mindegyikre egyenként megméri a hibát, és minden körben modosít egyet. Érdekes módon a loss értéket csak akkor adja a historyhoz ha végig ment mind a 24 adaton és tovább lép a következő csomagra.\n",
        "\n",
        "Ezért fordulhat elő, hogy a loss_curve lista hossza ugyan akkorra mindkét esetben.\n",
        "\n",
        "Egyszóval a batch_size értékének még ilyen esetben is van jelentősége.\n",
        "\n",
        "Bár az is igaz, hogy efölött kontrolt tudok gyakorolni úgy is, hogy mekkora kötegeket gyártok le az elején. Ha ott 1-re veszem a köteg méretét akkor elvileg ugyan ezt az erdményt kapom."
      ],
      "metadata": {
        "id": "wdWZs9BiRd8T"
      }
    },
    {
      "cell_type": "markdown",
      "source": [
        "### [ 3 ]\n",
        "\n",
        "A harmadik kísérlet."
      ],
      "metadata": {
        "id": "iMVahFpRTY9s"
      }
    },
    {
      "cell_type": "code",
      "source": [
        "from sklearn.neural_network import MLPRegressor\n",
        "\n",
        "mlp3 = MLPRegressor(hidden_layer_sizes=(10, ),      # mlp3\n",
        "                    activation='relu',\n",
        "                    solver='sgd',\n",
        "                    batch_size=24,\n",
        "                    max_iter=1,\n",
        "                    warm_start=True,        # False -> True\n",
        "                    learning_rate_init=0.001,\n",
        "                    shuffle=True,\n",
        "                    verbose=False,\n",
        "                    random_state=123,\n",
        "                    validation_fraction=0.0,\n",
        "                    n_iter_no_change=98765)"
      ],
      "metadata": {
        "id": "8lxEkia4PVeh"
      },
      "execution_count": 51,
      "outputs": []
    },
    {
      "cell_type": "markdown",
      "source": [
        "1. `max_iter` akkor most az van, hogy mind a **24** mintán amiből van **9000** és **10-szer** végig megy, azon hol végizi el ezt a `max_iter=1000` lépést? Vagy mivel a `partial_fit` metodust hívjuk meg ez az érték deffinició szerűen nem játszik és olyan mintha az értéke 1 lenne? Erre gondolok, szerintem ez a helyzet."
      ],
      "metadata": {
        "id": "l25HjMLhTtmJ"
      }
    },
    {
      "cell_type": "code",
      "source": [
        "epochs = 10\n",
        "\n",
        "for k in range(epochs):                               ## Number of loops through data\n",
        "    for i in range(X_train.shape[0]):                 ## Looping through batches (9000)\n",
        "        X_batch, Y_batch = X_train[i], Y_train[i]     ## (24, 100) és (24,)\n",
        "        mlp3.partial_fit(X_batch, Y_batch)            ## Partially fitting data in batches"
      ],
      "metadata": {
        "id": "6juhMjYKTyLc"
      },
      "execution_count": 52,
      "outputs": []
    },
    {
      "cell_type": "markdown",
      "source": [
        "### [ 3 ] Evaluate Model Performance on Test Data"
      ],
      "metadata": {
        "id": "Lo_xvODaUDVl"
      }
    },
    {
      "cell_type": "code",
      "source": [
        "from sklearn.metrics import mean_squared_error, r2_score\n",
        "\n",
        "Y_test_preds = []\n",
        "for j in range(X_test.shape[0]):                  ## Looping through test batches for making predictions\n",
        "    Y_preds = mlp3.predict(X_test[j])             ## mlp3\n",
        "    Y_test_preds.extend(Y_preds.tolist())\n",
        "\n",
        "print(\"Test MSE      : {}\".format(mean_squared_error(Y_test.reshape(-1), Y_test_preds)))\n",
        "print(\"Test R2 Score : {}\".format(r2_score(Y_test.reshape(-1), Y_test_preds)))\n",
        "print(\"Y_test.reshape(-1).shape : \", Y_test.reshape(-1).shape)\n",
        "print(\"len(Y_test_preds)        :  \", len(Y_test_preds))"
      ],
      "metadata": {
        "colab": {
          "base_uri": "https://localhost:8080/"
        },
        "id": "sARM6XGuTqRi",
        "outputId": "e87ba6bf-82bd-4ac0-da59-894799855c88"
      },
      "execution_count": 53,
      "outputs": [
        {
          "output_type": "stream",
          "name": "stdout",
          "text": [
            "Test MSE      : 0.00025005242167357546\n",
            "Test R2 Score : 0.981430351001458\n",
            "Y_test.reshape(-1).shape :  (24000,)\n",
            "len(Y_test_preds)        :   24000\n"
          ]
        }
      ]
    },
    {
      "cell_type": "code",
      "source": [
        "import matplotlib.pyplot as plt\n",
        "\n",
        "fig, (ax1, ax2, ax3) = plt.subplots(1, 3, figsize=(21, 4))\n",
        "ax1.plot(mlp3.loss_curve_[0:100])\n",
        "ax1.set_title('[0:100] iter')\n",
        "ax2.plot(mlp3.loss_curve_)\n",
        "ax2.set_title('Whole')\n",
        "ax3.plot(mlp3.loss_curve_[-100:])\n",
        "ax3.set_title('[-100:] iter')\n",
        "plt.show()\n",
        "print(\"mlp3.t_       :  \", mlp3.t_)\n",
        "print(\"Y_train.shape : \", Y_train.shape)"
      ],
      "metadata": {
        "colab": {
          "base_uri": "https://localhost:8080/",
          "height": 316
        },
        "id": "47BujC5CULKj",
        "outputId": "a344ae7b-d8c6-4253-c3f2-f5cbe738983c"
      },
      "execution_count": 54,
      "outputs": [
        {
          "output_type": "display_data",
          "data": {
            "image/png": "[encoded data removed]",
            "text/plain": [
              "<Figure size 1512x288 with 3 Axes>"
            ]
          },
          "metadata": {
            "needs_background": "light"
          }
        },
        {
          "output_type": "stream",
          "name": "stdout",
          "text": [
            "mlp3.t_       :   2160000\n",
            "Y_train.shape :  (9000, 24)\n"
          ]
        }
      ]
    },
    {
      "cell_type": "markdown",
      "source": [
        "### Megtapasztalás\n",
        "\n",
        "Na ez az az eset amikor a `warm_start` beállításának semmilyen hatása nincsen gondolom a `partial_fit` hívás nem veszi figyelembe ezt az értéket.\n",
        "\n",
        "Az ereddmény azonos az \\[1\\] kísérletben mért eredménnyel."
      ],
      "metadata": {
        "id": "3r_VdLccUnzm"
      }
    },
    {
      "cell_type": "markdown",
      "source": [
        "### [ 4 ]\n",
        "\n",
        "A negyedik kísérlet."
      ],
      "metadata": {
        "id": "Gd_Q-d3cW8Ev"
      }
    },
    {
      "cell_type": "code",
      "source": [
        "from sklearn.neural_network import MLPRegressor\n",
        "\n",
        "mlp4 = MLPRegressor(hidden_layer_sizes=(10, ),      # mlp4\n",
        "                    activation='relu',\n",
        "                    solver='sgd',\n",
        "                    batch_size=24,\n",
        "                    max_iter=1,\n",
        "                    learning_rate_init=0.001,\n",
        "                    shuffle=True,\n",
        "                    verbose=False,\n",
        "                    random_state=123,\n",
        "                    validation_fraction=0.0,\n",
        "                    n_iter_no_change=98765)"
      ],
      "metadata": {
        "id": "00q4fGEVUWKV"
      },
      "execution_count": 55,
      "outputs": []
    },
    {
      "cell_type": "markdown",
      "source": [
        "1. `max_iter` akkor most az van, hogy mind a **24** mintán amiből van **9000** és **10-szer** végig megy, azon hol végizi el ezt a `max_iter=1000` lépést? Vagy mivel a `partial_fit` metodust hívjuk meg ez az érték deffinició szerűen nem játszik és olyan mintha az értéke 1 lenne? Erre gondolok, szerintem ez a helyzet."
      ],
      "metadata": {
        "id": "IWXo2jhEXJNO"
      }
    },
    {
      "cell_type": "code",
      "source": [
        "epochs = 10\n",
        "\n",
        "for k in range(epochs):                               ## Number of loops through data\n",
        "    for i in range(X_train.shape[0]):                 ## Looping through batches (9000)\n",
        "        X_batch, Y_batch = X_train[i], Y_train[i]     ## (24, 100) és (24,)\n",
        "        mlp4.fit(X_batch, Y_batch)                    ## Partially fitting data in batches      ## partial_fit -> fit"
      ],
      "metadata": {
        "id": "ndOZmAFmXFwJ"
      },
      "execution_count": null,
      "outputs": []
    },
    {
      "cell_type": "markdown",
      "source": [
        "### [ 4 ] Evaluate Model Performance on Test Data"
      ],
      "metadata": {
        "id": "kueiN9FkfrBZ"
      }
    },
    {
      "cell_type": "code",
      "source": [
        "from sklearn.metrics import mean_squared_error, r2_score\n",
        "\n",
        "Y_test_preds = []\n",
        "for j in range(X_test.shape[0]):                  ## Looping through test batches for making predictions\n",
        "    Y_preds = mlp4.predict(X_test[j])             ## mlp4\n",
        "    Y_test_preds.extend(Y_preds.tolist())\n",
        "\n",
        "print(\"Test MSE      : {}\".format(mean_squared_error(Y_test.reshape(-1), Y_test_preds)))\n",
        "print(\"Test R2 Score : {}\".format(r2_score(Y_test.reshape(-1), Y_test_preds)))\n",
        "print(\"Y_test.reshape(-1).shape : \", Y_test.reshape(-1).shape)\n",
        "print(\"len(Y_test_preds)        :  \", len(Y_test_preds))"
      ],
      "metadata": {
        "colab": {
          "base_uri": "https://localhost:8080/"
        },
        "id": "kNyCQBmGXVL4",
        "outputId": "36d57033-67c8-49eb-ad4e-1ca29667610a"
      },
      "execution_count": 57,
      "outputs": [
        {
          "output_type": "stream",
          "name": "stdout",
          "text": [
            "Test MSE      : 0.7217442371565003\n",
            "Test R2 Score : -52.59890962468918\n",
            "Y_test.reshape(-1).shape :  (24000,)\n",
            "len(Y_test_preds)        :   24000\n"
          ]
        }
      ]
    },
    {
      "cell_type": "code",
      "source": [
        "import matplotlib.pyplot as plt\n",
        "\n",
        "fig, (ax1, ax2, ax3) = plt.subplots(1, 3, figsize=(21, 4))\n",
        "ax1.plot(mlp4.loss_curve_[0:100])\n",
        "ax1.set_title('[0:100] iter')\n",
        "ax2.plot(mlp4.loss_curve_)\n",
        "ax2.set_title('Whole')\n",
        "ax3.plot(mlp4.loss_curve_[-100:])\n",
        "ax3.set_title('[-100:] iter')\n",
        "plt.show()\n",
        "print(\"mlp4.t_       :  \", mlp4.t_)\n",
        "print(\"Y_train.shape : \", Y_train.shape)"
      ],
      "metadata": {
        "colab": {
          "base_uri": "https://localhost:8080/",
          "height": 316
        },
        "id": "vKF1fMDHfzg0",
        "outputId": "9817a9e0-db7a-493a-e4e8-eabab92c3409"
      },
      "execution_count": 58,
      "outputs": [
        {
          "output_type": "display_data",
          "data": {
            "image/png": "[encoded data removed]",
            "text/plain": [
              "<Figure size 1512x288 with 3 Axes>"
            ]
          },
          "metadata": {
            "needs_background": "light"
          }
        },
        {
          "output_type": "stream",
          "name": "stdout",
          "text": [
            "mlp4.t_       :   24\n",
            "Y_train.shape :  (9000, 24)\n"
          ]
        }
      ]
    },
    {
      "cell_type": "markdown",
      "source": [
        "### Megtapasztalás\n",
        "\n",
        "Nos elöször is ez nem működik, azt a vak is látja.\n",
        "\n",
        "Tanítás során folyamatosan\n",
        "\n",
        "```\n",
        "/usr/local/lib/python3.7/dist-packages/sklearn/neural_network/_multilayer_perceptron.py:696:\n",
        "ConvergenceWarning: Stochastic Optimizer: Maximum iterations (1) reached and the optimization hasn't converged yet.\n",
        "```\n",
        "\n",
        "Ez szar ügy.\n",
        "\n",
        "Azt hittem, hogy ennek ellenére valamit azért csak össze tud okoskodni, de nem.\n"
      ],
      "metadata": {
        "id": "tT40Tt-DgCxx"
      }
    },
    {
      "cell_type": "markdown",
      "source": [
        "### [ 5 ]\n",
        "\n",
        "Az ötödik kísérlet."
      ],
      "metadata": {
        "id": "CktdpDfKo4dO"
      }
    },
    {
      "cell_type": "code",
      "source": [
        "from sklearn.neural_network import MLPRegressor\n",
        "\n",
        "mlpX = MLPRegressor(hidden_layer_sizes=(10, ),      # mlpX\n",
        "                    activation='relu',\n",
        "                    solver='sgd',\n",
        "                    batch_size=1,\n",
        "                    max_iter=1,\n",
        "                    warm_start=True,        # False -> True \n",
        "                    learning_rate_init=0.001,\n",
        "                    shuffle=True,\n",
        "                    verbose=False,\n",
        "                    random_state=123,\n",
        "                    validation_fraction=0.0,\n",
        "                    n_iter_no_change=98765)\n",
        "\n",
        "epochs = 1\n",
        "\n",
        "for k in range(epochs):                               ## Number of loops through data\n",
        "    for i in range(X_train.shape[0]):                 ## Looping through batches (9000)\n",
        "        X_batch, Y_batch = X_train[i], Y_train[i]     ## (24, 100) és (24,)\n",
        "        mlpX.fit(X_batch, Y_batch)                    ## Partially fitting data in batches      ## partial_fit -> fit"
      ],
      "metadata": {
        "id": "Kd2jO__If7vv"
      },
      "execution_count": 99,
      "outputs": []
    },
    {
      "cell_type": "code",
      "source": [
        "from sklearn.metrics import mean_squared_error, r2_score\n",
        "\n",
        "Y_test_preds = []\n",
        "for j in range(X_test.shape[0]):                  ## Looping through test batches for making predictions\n",
        "    Y_preds = mlpX.predict(X_test[j])             ## mlpX\n",
        "    Y_test_preds.extend(Y_preds.tolist())\n",
        "\n",
        "print(\"Test MSE      : {}\".format(mean_squared_error(Y_test.reshape(-1), Y_test_preds)))\n",
        "print(\"Test R2 Score : {}\".format(r2_score(Y_test.reshape(-1), Y_test_preds)))\n",
        "print(\"Y_test.reshape(-1).shape : \", Y_test.reshape(-1).shape)\n",
        "print(\"len(Y_test_preds)        :  \", len(Y_test_preds))"
      ],
      "metadata": {
        "colab": {
          "base_uri": "https://localhost:8080/"
        },
        "id": "-PGs0ZYblJ3M",
        "outputId": "20a8cfa1-f8fd-4741-e067-1e1350062253"
      },
      "execution_count": 100,
      "outputs": [
        {
          "output_type": "stream",
          "name": "stdout",
          "text": [
            "Test MSE      : 0.00011413916684733072\n",
            "Test R2 Score : 0.9915236803100919\n",
            "Y_test.reshape(-1).shape :  (24000,)\n",
            "len(Y_test_preds)        :   24000\n"
          ]
        }
      ]
    },
    {
      "cell_type": "code",
      "source": [
        "import matplotlib.pyplot as plt\n",
        "\n",
        "fig, (ax1, ax2, ax3) = plt.subplots(1, 3, figsize=(21, 4))\n",
        "ax1.plot(mlpX.loss_curve_[0:100])\n",
        "ax1.set_title('[0:100] iter')\n",
        "ax2.plot(mlpX.loss_curve_)\n",
        "ax2.set_title('Whole')\n",
        "ax3.plot(mlpX.loss_curve_[-100:])\n",
        "ax3.set_title('[-100:] iter')\n",
        "plt.show()\n",
        "print(\"mlpX.t_       :  \", mlpX.t_)\n",
        "print(\"Y_train.shape : \", Y_train.shape)"
      ],
      "metadata": {
        "colab": {
          "base_uri": "https://localhost:8080/",
          "height": 316
        },
        "id": "Gbz3Lv6bhc4Y",
        "outputId": "aeac2994-64a8-4443-ed67-cbf2b63039ed"
      },
      "execution_count": 101,
      "outputs": [
        {
          "output_type": "display_data",
          "data": {
            "image/png": "[encoded data removed]",
            "text/plain": [
              "<Figure size 1512x288 with 3 Axes>"
            ]
          },
          "metadata": {
            "needs_background": "light"
          }
        },
        {
          "output_type": "stream",
          "name": "stdout",
          "text": [
            "mlpX.t_       :   216000\n",
            "Y_train.shape :  (9000, 24)\n"
          ]
        }
      ]
    },
    {
      "cell_type": "markdown",
      "source": [
        "Egy nagyon jó magyarázat és tényleg ez a lényeg\n",
        "\n",
        "\n",
        "\n",
        "```\n",
        "If warm_start = False, each subsequent call to .fit() (after an initial call to .fit() or\n",
        "partial_fit()) will reset the model's trainable parameters for the initialisation. If warm_start =\n",
        "True, each subsequent call to .fit() (after an initial call to .fit() or partial_fit()) will retain\n",
        "the values of the model's trainable parameters from the previous run, and use those initially.\n",
        "Regardless of the value of warm_start, each call to partial_fit() will retain the previous run's\n",
        "model parameters and use those initially.\n",
        "```\n",
        "Ebből kifolyólag a partial_fit mindíg jobb eredményt fog adni, mert két hívás között nem inicializálja újra a súlyokat, a fit viszont igen.\n",
        "\n",
        "A fenti pédában mi pedig 9000 alkalommal hívtuk meg a fit függvényt, tök mindegy, hogy a `batch_size = 1`, vagy `24`, 9000 alkalommal meghívtuk és minden alaklaommal újra inicializált súlyokkal dolgozott, míg a `partial_fit` az elöző alkalomból származó súlyokkal dolgozott.\n",
        "\n",
        "Ezért konvergál jobban.\n",
        "\n",
        "\n",
        "Az egy más kérdés, hogy `fit -> warm_start -> max_iter =1` esetén a `batch_size = 1` vagy a `24` ad jobb eredményt, mindkettő elmarat a `partial_fit` mögött.\n",
        "\n",
        "Ha a `batch_size` nagy (fent a 24 a teljes köteget jelenti) igazából kevessebbszer módosítja a súlyokat, mert csak akkor modosít ha a teljes kötegre kiszámolta a hibát, `batch_size = 1` esetén pedig minden egyes elem után modosít egyet. Vagyis itt egy köteg esetén 24-szer modosít, tehát sokkal többször tanul.\n"
      ],
      "metadata": {
        "id": "Y4xCa6wtkp9L"
      }
    },
    {
      "cell_type": "code",
      "source": [
        "import sklearn.neural_network\n",
        "import numpy as np\n",
        "import warnings\n",
        "warnings.simplefilter('ignore')\n",
        "np.random.seed(0)\n",
        "x = np.linspace(-1, 1, num=50).reshape(-1, 1)\n",
        "y = (x * 1.5 + 2).reshape(50,)\n",
        "cold_model = sklearn.neural_network.MLPRegressor(hidden_layer_sizes=(), warm_start=False, max_iter=1)\n",
        "warm_model = sklearn.neural_network.MLPRegressor(hidden_layer_sizes=(), warm_start=True, max_iter=1)\n",
        "\n",
        "cold_model.fit(x,y)\n",
        "print('cold_model ', cold_model.coefs_, cold_model.intercepts_)\n",
        "#[array([[0.17009494]])] [array([0.74643783])]\n",
        "cold_model.fit(x,y)\n",
        "print('cold_model ',cold_model.coefs_, cold_model.intercepts_)\n",
        "#[array([[-0.60819342]])] [array([-1.21256186])]\n",
        "#after second run of .fit(), values are completely different\n",
        "#because they were re-initialised before doing the second run for the cold model\n",
        "\n",
        "warm_model.fit(x,y)\n",
        "print('warm_model ', warm_model.coefs_, warm_model.intercepts_)\n",
        "#[array([[-1.39815616]])] [array([1.651504])]\n",
        "warm_model.fit(x,y)\n",
        "print('warm_model ', warm_model.coefs_, warm_model.intercepts_)\n",
        "#[array([[-1.39715616]])] [array([1.652504])]\n",
        "#this time with the warm model, params change relatively little, as params were\n",
        "#not re-initialised during second call to .fit()\n",
        "\n",
        "cold_model.partial_fit(x,y)\n",
        "print('cold_model ',cold_model.coefs_, cold_model.intercepts_)\n",
        "#[array([[-0.60719343]])] [array([-1.21156187])]\n",
        "cold_model.partial_fit(x,y)\n",
        "print('cold_model ',cold_model.coefs_, cold_model.intercepts_)\n",
        "#[array([[-0.60619347]])] [array([-1.21056189])]\n",
        "#with partial_fit(), params barely change even for cold model,\n",
        "#as no re-initialisation occurs\n",
        "\n",
        "warm_model.partial_fit(x,y)\n",
        "print('warm_model ', warm_model.coefs_, warm_model.intercepts_)\n",
        "#[array([[-1.39615617]])] [array([1.65350392])]\n",
        "warm_model.partial_fit(x,y)\n",
        "print('warm_model ', warm_model.coefs_, warm_model.intercepts_)\n",
        "#[array([[-1.39515619]])] [array([1.65450372])]\n",
        "#and of course the same goes for the warm model"
      ],
      "metadata": {
        "colab": {
          "base_uri": "https://localhost:8080/"
        },
        "id": "Ihzqv0-Ehfh3",
        "outputId": "f6fadd9b-07a9-46cb-e302-94efa0cf19ba"
      },
      "execution_count": 98,
      "outputs": [
        {
          "output_type": "stream",
          "name": "stdout",
          "text": [
            "cold_model  [array([[0.17009494]])] [array([0.74643783])]\n",
            "cold_model  [array([[-0.60819342]])] [array([-1.21256186])]\n",
            "warm_model  [array([[-1.39815616]])] [array([1.651504])]\n",
            "warm_model  [array([[-1.39715616]])] [array([1.652504])]\n",
            "cold_model  [array([[-0.60719343]])] [array([-1.21156187])]\n",
            "cold_model  [array([[-0.60619347]])] [array([-1.21056189])]\n",
            "warm_model  [array([[-1.39615617]])] [array([1.65350392])]\n",
            "warm_model  [array([[-1.39515619]])] [array([1.65450372])]\n"
          ]
        }
      ]
    },
    {
      "cell_type": "markdown",
      "source": [
        "### Vége\n",
        "\n",
        "Ezzel pontot is tettünk az egészre és megértettük, hogy mi a különbség a fit és partial_fit között.\n",
        "\n",
        "warm_start = False esetén a fit nem a korábbi futás során kialakult súlyokat használja, hanem újakat inicializál.\n",
        "\n",
        "Ha viszont a 1. `warm_stat = True`, 2. a `batch_size = 1` és 3. a `max_iter = 1` akkor a két metodus azonos eredményt ad."
      ],
      "metadata": {
        "id": "y_s8rDZBp5B9"
      }
    },
    {
      "cell_type": "code",
      "source": [
        ""
      ],
      "metadata": {
        "id": "0KBEXBZLmq0f"
      },
      "execution_count": null,
      "outputs": []
    },
    {
      "cell_type": "markdown",
      "source": [
        "### Kiegészítés\n",
        "\n",
        "Normalizáció a fentihez hasonló kötegeken."
      ],
      "metadata": {
        "id": "9MK7ShnVBYkx"
      }
    },
    {
      "cell_type": "code",
      "source": [
        "from sklearn import datasets\n",
        "from sklearn.model_selection import train_test_split\n",
        "\n",
        "X, Y = datasets.make_regression(n_samples=240000, random_state=123)\n",
        "\n",
        "print('X.shape = ', X.shape)\n",
        "print('Y.shape = ', Y.shape)"
      ],
      "metadata": {
        "colab": {
          "base_uri": "https://localhost:8080/"
        },
        "id": "w2vwzGpuB4u9",
        "outputId": "89313dc1-a3d5-4598-ea0c-c7787ff3164f"
      },
      "execution_count": 6,
      "outputs": [
        {
          "output_type": "stream",
          "name": "stdout",
          "text": [
            "X.shape =  (240000, 100)\n",
            "Y.shape =  (240000,)\n"
          ]
        }
      ]
    },
    {
      "cell_type": "code",
      "source": [
        "print('X.nbytes = ', X.nbytes//1024, 'Kbyte')\n",
        "print('X.nbytes = ', X.nbytes//1024//1024, 'Mbyte')"
      ],
      "metadata": {
        "colab": {
          "base_uri": "https://localhost:8080/"
        },
        "id": "tfvAKVN_Bgx3",
        "outputId": "12ac9791-e7f0-4279-bb76-fc9474272385"
      },
      "execution_count": 7,
      "outputs": [
        {
          "output_type": "stream",
          "name": "stdout",
          "text": [
            "X.nbytes =  187500 Kbyte\n",
            "X.nbytes =  183 Mbyte\n"
          ]
        }
      ]
    },
    {
      "cell_type": "code",
      "source": [
        "X_train, X_test, Y_train, Y_test = train_test_split(X, Y, train_size=0.9, random_state=123)\n",
        "\n",
        "X_train.shape, X_test.shape, Y_train.shape, Y_test.shape"
      ],
      "metadata": {
        "colab": {
          "base_uri": "https://localhost:8080/"
        },
        "id": "cgLK3X1mCBe3",
        "outputId": "71d87452-631e-4f47-b958-859d42d58e59"
      },
      "execution_count": 8,
      "outputs": [
        {
          "output_type": "execute_result",
          "data": {
            "text/plain": [
              "((216000, 100), (24000, 100), (216000,), (24000,))"
            ]
          },
          "metadata": {},
          "execution_count": 8
        }
      ]
    },
    {
      "cell_type": "markdown",
      "source": [
        "### Na erre az átalakításra kíváncsi vagyok"
      ],
      "metadata": {
        "id": "dWSZp6vsCLTd"
      }
    },
    {
      "cell_type": "code",
      "source": [
        "X_train, X_test = X_train.reshape(-1,24,100), X_test.reshape(-1,24,100)\n",
        "Y_train, Y_test = Y_train.reshape(-1,24), Y_test.reshape(-1,24)\n",
        "\n",
        "X_train.shape, X_test.shape, Y_train.shape, Y_test.shape"
      ],
      "metadata": {
        "colab": {
          "base_uri": "https://localhost:8080/"
        },
        "id": "8k1yhGEeCFh9",
        "outputId": "5b4901f6-be76-4106-df31-6986777cd5ed"
      },
      "execution_count": 9,
      "outputs": [
        {
          "output_type": "execute_result",
          "data": {
            "text/plain": [
              "((9000, 24, 100), (1000, 24, 100), (9000, 24), (1000, 24))"
            ]
          },
          "metadata": {},
          "execution_count": 9
        }
      ]
    },
    {
      "cell_type": "markdown",
      "source": [
        "### Create and Train Model After Scaling Data\n",
        "\n",
        "In this section, we have first created an instance of `StandardScaler` which supports partial scaling of data. After creating a scaling estimator, we are looping through train data in batches and trained scaling estimator by calling `partial_fit()` on it with a single batch of data."
      ],
      "metadata": {
        "id": "TYvb2_sJCaxs"
      }
    },
    {
      "cell_type": "code",
      "source": [
        "from sklearn.preprocessing import StandardScaler\n",
        "\n",
        "### Scaling Data\n",
        "\n",
        "scaler = StandardScaler()\n",
        "\n",
        "for i in range(X_train.shape[0]):\n",
        "    X_batch, Y_batch = X_train[i], Y_train[i]\n",
        "    scaler.partial_fit(X_batch, Y_batch)  ## Partially fitting data in batches\n",
        "\n"
      ],
      "metadata": {
        "id": "bmSH4euoCf3T"
      },
      "execution_count": 10,
      "outputs": []
    },
    {
      "cell_type": "markdown",
      "source": [
        "Érdekesség, hogy sclaer egyszerre let tanítva a X_batch és az Y_batch adatokon.\n",
        "\n",
        "```\n",
        "# scaler.partial_fit(X_batch, Y_batch) \n",
        "```\n",
        "\n",
        "Csak kíváncsiságból.\n",
        "\n",
        "Ugyan arra az ereményre vezet, mintha meghívnám a `scaler.fit()` az egész adatokon?\n",
        "\n",
        "1. A tanapsztalat az, hogy nem és ez érthető is. Az adatok közötti konzisztenicia viszont megmarad, tehát ha a teljes adatokon végzett normalizáció és a batch adatokon végzett parciális normalizáció a két adatsorra megörzi a sorrendet.\n",
        "\n",
        "2. Értelemszerűen a partial_fit hívása után azonnal alkalmazni kell a trasformációt is különben a következő hívással felül írodik minden."
      ],
      "metadata": {
        "id": "1yLKvMgEDJNK"
      }
    },
    {
      "cell_type": "code",
      "source": [
        "### Test\n",
        "\n",
        "scaler = StandardScaler()\n",
        "y_batch = Y[0:24]                                 # <- ez nagy hiba lenne mert az Y_trai[0] nem azonos Y[0:24] ugyanis az Y_train randomizált volt\n",
        "y_batch = Y_train[0]                              # <- ha a fenti futással azonos eredményt akarok kapni akkor ezt az adatot kell használni\n",
        "scaler.partial_fit(y_batch.reshape(-1, 1))\n",
        "y_partialy_scaled = scaler.transform(y_batch.reshape(-1, 1))\n",
        "y_partialy_scaled = y_partialy_scaled.flatten()\n",
        "print(y_partialy_scaled)\n",
        "print('pf min {:.5f}'.format(y_partialy_scaled.min()))\n",
        "print('pf max  {:.5f}'.format(y_partialy_scaled.max()))\n",
        "print('pf avg {:.5f}'.format(y_partialy_scaled.mean()))\n",
        "\n",
        "scaler = StandardScaler()\n",
        "y_batch = Y[0:24]                                 # <- ez nagy hiba lenne mert az Y_trai[0] nem azonos Y[0:24] ugyanis az Y_train randomizált volt\n",
        "y_batch = Y_train[0]                              # <- ha a fenti futással azonos eredményt akarok kapni akkor ezt az adatot kell használni\n",
        "scaler.fit(y_batch.reshape(-1, 1)) \n",
        "y_batch_scaled = scaler.transform(y_batch.reshape(-1, 1))\n",
        "y_batch_scaled = y_batch_scaled.flatten()\n",
        "print(y_batch_scaled)\n",
        "print('pf min {:.5f}'.format(y_batch_scaled.min()))\n",
        "print('pf max  {:.5f}'.format(y_batch_scaled.max()))\n",
        "print('pf avg {:.5f}'.format(y_batch_scaled.mean()))\n",
        "\n",
        "# Eddig tökéletesen az történik, amit elvárnék, hogy történnie keljen\n",
        "\n",
        "scaler = StandardScaler()\n",
        "y_batch_scaled_in_loop = []\n",
        "for i in range(Y_train.shape[0]):\n",
        "    y_batch = Y_train[i]\n",
        "    scaler.partial_fit(y_batch.reshape(-1, 1))\n",
        "    tmp = scaler.transform(y_batch.reshape(-1, 1))\n",
        "    y_batch_scaled_in_loop.append(tmp)\n",
        "y_batch_scaled_in_loop_part = y_batch_scaled_in_loop[0]\n",
        "y_batch_scaled_in_loop_part = y_batch_scaled_in_loop_part.flatten()\n",
        "print(y_batch_scaled_in_loop_part)\n",
        "print('pf min {:.5f}'.format(y_batch_scaled_in_loop_part.min()))\n",
        "print('pf max  {:.5f}'.format(y_batch_scaled_in_loop_part.max()))\n",
        "print('pf avg {:.5f}'.format(y_batch_scaled_in_loop_part.mean()))   \n",
        "\n",
        "\n",
        "print('--------------------------------')\n",
        "\n",
        "\n",
        "scaler = StandardScaler()\n",
        "y = Y                                             # <- az egészen tanítjuk\n",
        "scaler.fit(y.reshape(-1, 1))\n",
        "y = Y_train[0]                                    # <- de erre alkalmazzuk\n",
        "y_scaled_whole = scaler.transform(y.reshape(-1, 1))\n",
        "y_scaled_whole = y_scaled_whole.flatten()\n",
        "print(y_scaled_whole)\n",
        "print('pf min {:.5f}'.format(y_scaled_whole.min()))\n",
        "print('pf max  {:.5f}'.format(y_scaled_whole.max()))\n",
        "print('pf avg {:.5f}'.format(y_scaled_whole.mean()))\n",
        "\n",
        "import matplotlib.pyplot as plt\n",
        "\n",
        "fig, (ax0, ax1, ax2, ax3) = plt.subplots(1, 4, figsize=(21, 4.5))\n",
        "ax0.scatter(Y_train[0], y_partialy_scaled)\n",
        "ax1.scatter(Y_train[0], y_batch_scaled)\n",
        "ax2.scatter(Y_train[0], y_batch_scaled_in_loop_part)\n",
        "ax3.scatter(Y_train[0], y_scaled_whole)\n",
        "plt.plot()\n"
      ],
      "metadata": {
        "colab": {
          "base_uri": "https://localhost:8080/",
          "height": 814
        },
        "id": "mIcLhrS_DS9h",
        "outputId": "8782a265-f4a6-4952-dcc5-06142c26b7c8"
      },
      "execution_count": 11,
      "outputs": [
        {
          "output_type": "stream",
          "name": "stdout",
          "text": [
            "[ 0.58883182 -1.4383527   1.52472023 -0.3521871  -0.54136387 -0.94286686\n",
            " -0.25404412  2.45641997  0.88991485 -0.63099441  0.58954721  0.10068942\n",
            "  0.74642559 -0.8591424   0.64846659 -0.11788362 -0.35342804  0.63979301\n",
            " -1.44399805  0.57911385 -2.24431562  0.68939522  0.05342063 -0.32816159]\n",
            "pf min -2.24432\n",
            "pf max  2.45642\n",
            "pf avg -0.00000\n",
            "[ 0.58883182 -1.4383527   1.52472023 -0.3521871  -0.54136387 -0.94286686\n",
            " -0.25404412  2.45641997  0.88991485 -0.63099441  0.58954721  0.10068942\n",
            "  0.74642559 -0.8591424   0.64846659 -0.11788362 -0.35342804  0.63979301\n",
            " -1.44399805  0.57911385 -2.24431562  0.68939522  0.05342063 -0.32816159]\n",
            "pf min -2.24432\n",
            "pf max  2.45642\n",
            "pf avg -0.00000\n",
            "[ 0.58883182 -1.4383527   1.52472023 -0.3521871  -0.54136387 -0.94286686\n",
            " -0.25404412  2.45641997  0.88991485 -0.63099441  0.58954721  0.10068942\n",
            "  0.74642559 -0.8591424   0.64846659 -0.11788362 -0.35342804  0.63979301\n",
            " -1.44399805  0.57911385 -2.24431562  0.68939522  0.05342063 -0.32816159]\n",
            "pf min -2.24432\n",
            "pf max  2.45642\n",
            "pf avg -0.00000\n",
            "--------------------------------\n",
            "[ 0.68272545 -1.80174017  1.82972641 -0.47056333 -0.70241355 -1.19448536\n",
            " -0.35028179  2.97159382  1.05172513 -0.81226245  0.68360221  0.08447058\n",
            "  0.87586835 -1.09187481  0.7558123  -0.18340696 -0.47208419  0.74518218\n",
            " -1.80865897  0.67081536 -2.78950775  0.80597339  0.02653915 -0.44111827]\n",
            "pf min -2.78951\n",
            "pf max  2.97159\n",
            "pf avg -0.03893\n"
          ]
        },
        {
          "output_type": "execute_result",
          "data": {
            "text/plain": [
              "[]"
            ]
          },
          "metadata": {},
          "execution_count": 11
        },
        {
          "output_type": "display_data",
          "data": {
            "image/png": "[encoded data removed]",
            "text/plain": [
              "<Figure size 1512x324 with 4 Axes>"
            ]
          },
          "metadata": {
            "needs_background": "light"
          }
        }
      ]
    },
    {
      "cell_type": "markdown",
      "source": [
        "### Na azért nem egészen\n",
        "\n",
        "Hasonítsuk össze azt, hogy kötegenként transzformálunk és elmentünk azzal, hogy kötegenként tanulunk majd az összes kötegen végig iterált model alapján csináljuk meg a transzfromációt."
      ],
      "metadata": {
        "id": "_SUs-T3urrEM"
      }
    },
    {
      "cell_type": "code",
      "source": [
        "from sklearn.preprocessing import StandardScaler\n",
        "\n",
        "### Scaling Data\n",
        "\n",
        "scaler = StandardScaler()\n",
        "\n",
        "y_batch_scaled_in_loop = []\n",
        "\n",
        "for i in range(Y_train.shape[0]):\n",
        "    y_batch = Y_train[i]\n",
        "    scaler.partial_fit(y_batch.reshape(-1, 1))\n",
        "    tmp = scaler.transform(y_batch.reshape(-1, 1))\n",
        "    y_batch_scaled_in_loop.append(tmp)\n",
        "\n",
        "y_scaled_type_1 = np.array(y_batch_scaled_in_loop).flatten()\n",
        "print(y_scaled_type_1.shape)\n",
        "print(y_scaled_type_1[0:24])\n",
        "\n",
        "# --\n",
        "\n",
        "# A feltanított scaler alapján újra skálázom az egészet\n",
        "\n",
        "y_batch_tranformed_in_loop = []\n",
        "\n",
        "for i in range(Y_train.shape[0]):\n",
        "    y_batch = Y_train[i]\n",
        "    # scaler.partial_fit(y_batch.reshape(-1, 1))        # <- nincs tanítás\n",
        "    tmp = scaler.transform(y_batch.reshape(-1, 1))\n",
        "    y_batch_tranformed_in_loop.append(tmp)\n",
        "\n",
        "y_scaled_type_2 = np.array(y_batch_tranformed_in_loop).flatten()\n",
        "print(y_scaled_type_2.shape)\n",
        "print(y_scaled_type_2[0:24])\n",
        "\n",
        "fig, (ax0, ax1, ax2) = plt.subplots(1, 3, figsize=(16, 4.5))\n",
        "ax0.scatter(Y_train[0], y_scaled_type_1[0:24])\n",
        "ax0.set_ylabel('Scaled on Batch')\n",
        "ax0.set_xlabel('Y_train[0]')\n",
        "ax1.scatter(Y_train[0], y_scaled_type_2[0:24])\n",
        "ax1.set_ylabel('Scaled on Whola')\n",
        "ax1.set_xlabel('Y_train[0]')\n",
        "ax2.scatter(y_scaled_type_1[0:24], y_scaled_type_2[0:24])\n",
        "ax2.set_ylabel('Scaled on Whole')\n",
        "ax2.set_xlabel('Scaled on Batch')\n",
        "plt.show()"
      ],
      "metadata": {
        "colab": {
          "base_uri": "https://localhost:8080/",
          "height": 481
        },
        "id": "1YOQOQmVr8_s",
        "outputId": "c47154fc-fa14-4fd7-a495-441d5aae8858"
      },
      "execution_count": 14,
      "outputs": [
        {
          "output_type": "stream",
          "name": "stdout",
          "text": [
            "(216000,)\n",
            "[ 0.58883182 -1.4383527   1.52472023 -0.3521871  -0.54136387 -0.94286686\n",
            " -0.25404412  2.45641997  0.88991485 -0.63099441  0.58954721  0.10068942\n",
            "  0.74642559 -0.8591424   0.64846659 -0.11788362 -0.35342804  0.63979301\n",
            " -1.44399805  0.57911385 -2.24431562  0.68939522  0.05342063 -0.32816159]\n",
            "(216000,)\n",
            "[ 0.68240152 -1.80220894  1.82946934 -0.47095449 -0.70281824 -1.19491873\n",
            " -0.35066595  2.97140332  1.05142271 -0.81267354  0.68327832  0.08411177\n",
            "  0.87555567 -1.09230219  0.75549262 -0.18378139 -0.47247544  0.74486189\n",
            " -1.80912814  0.67049073 -2.79003411  0.80565664  0.02617697 -0.44150772]\n"
          ]
        },
        {
          "output_type": "display_data",
          "data": {
            "image/png": "[encoded data removed]",
            "text/plain": [
              "<Figure size 1152x324 with 3 Axes>"
            ]
          },
          "metadata": {
            "needs_background": "light"
          }
        }
      ]
    },
    {
      "cell_type": "code",
      "source": [
        "fig, (ax0, ax1, ax2) = plt.subplots(1, 3, figsize=(16, 4.5))\n",
        "ax0.scatter(Y_train[0], y_scaled_type_1[0:24])\n",
        "ax0.set_ylabel('Scaled on Batch')\n",
        "ax0.set_xlabel('Y_train[0]')\n",
        "ax1.scatter(Y_train[0], y_scaled_type_2[0:24])\n",
        "ax1.set_ylabel('Scaled on Whola')\n",
        "ax1.set_xlabel('Y_train[0]')\n",
        "ax2.scatter(Y_train[0], y_scaled_type_1[0:24], label = 'Batch')\n",
        "ax2.scatter(Y_train[0], y_scaled_type_2[0:24], label = 'Whole')\n",
        "ax2.set_ylabel('Scaled values')\n",
        "ax2.set_xlabel('Y_train[0]')\n",
        "ax2.legend(frameon=False)\n",
        "plt.show()"
      ],
      "metadata": {
        "colab": {
          "base_uri": "https://localhost:8080/",
          "height": 307
        },
        "id": "fSgfeoY6zEZs",
        "outputId": "bb899b06-22a9-4f13-8187-c125074ae62e"
      },
      "execution_count": 15,
      "outputs": [
        {
          "output_type": "display_data",
          "data": {
            "image/png": "[encoded data removed]",
            "text/plain": [
              "<Figure size 1152x324 with 3 Axes>"
            ]
          },
          "metadata": {
            "needs_background": "light"
          }
        }
      ]
    },
    {
      "cell_type": "code",
      "source": [
        "fig, (ax0, ax1, ax2) = plt.subplots(1, 3, figsize=(16, 4.5))\n",
        "ax0.scatter(Y_train[0:100], y_scaled_type_1[0:2400])\n",
        "ax0.set_ylabel('Scaled on Batch')\n",
        "ax0.set_xlabel('Y_train')\n",
        "ax1.scatter(Y_train[0:100], y_scaled_type_2[0:2400])\n",
        "ax1.set_ylabel('Scaled on Whola')\n",
        "ax1.set_xlabel('Y_train')\n",
        "ax2.scatter(Y_train[0:100], y_scaled_type_1[0:2400], label = 'Batch')\n",
        "ax2.scatter(Y_train[0:100], y_scaled_type_2[0:2400], label = 'Whole')\n",
        "ax2.set_ylabel('Scaled values')\n",
        "ax2.set_xlabel('Y_train')\n",
        "ax2.legend(frameon=False)\n",
        "plt.show()"
      ],
      "metadata": {
        "colab": {
          "base_uri": "https://localhost:8080/",
          "height": 311
        },
        "id": "XRi5WELQ0xzw",
        "outputId": "5898e73e-7bfd-4924-8f84-20a6fc986897"
      },
      "execution_count": 22,
      "outputs": [
        {
          "output_type": "display_data",
          "data": {
            "image/png": "[encoded data removed]",
            "text/plain": [
              "<Figure size 1152x324 with 3 Axes>"
            ]
          },
          "metadata": {
            "needs_background": "light"
          }
        }
      ]
    },
    {
      "cell_type": "markdown",
      "source": [
        "### Észrevétel\n",
        "\n",
        "Itt azért kijönt a két módszer közötti különbség - amikor több köteget vizsgálunk.\n",
        "\n",
        "### Következtetés\n",
        "\n",
        "A normalizációt **nem szabad** kötegenként megcsinálni.\n",
        "\n",
        "Használat:\n",
        "\n",
        "\n",
        "```\n",
        "# Használat\n",
        "\n",
        "for i in range(Y_train.shape[0]):\n",
        "    y_batch = Y_train[i]\n",
        "    scaler.partial_fit(y_batch.reshape(-1, 1))\n",
        "\n",
        "# --\n",
        "\n",
        "# A feltanított scaler alapján kell skálázom az egészet\n",
        "\n",
        "# Mivel batchenként tanítottam itt is iterálni kell\n",
        "\n",
        "y_scaled = []\n",
        "\n",
        "for i in range(Y_train.shape[0]):\n",
        "    y_batch = Y_train[i]\n",
        "    # scaler.partial_fit(y_batch.reshape(-1, 1))        # <- nincs tanítás\n",
        "    tmp = scaler.transform(y_batch.reshape(-1, 1))      # >- csak transformáció\n",
        "    y_scaled.append(tmp)\n",
        "```\n",
        "\n"
      ],
      "metadata": {
        "id": "LjhjvHjT1Zl_"
      }
    },
    {
      "cell_type": "markdown",
      "source": [
        "### Using the scaler inside the iteration\n",
        "\n",
        "After the scaling estimator is trained, we have created an instance of SGDRegressor which we'll use for training scaled data. We are then looping through the dataset in batches taking a single batch at a time, scaling it with a scaling estimator, and training the regressor on scaled batch data using partial_fit() method."
      ],
      "metadata": {
        "id": "GvwiTAbZCrhY"
      }
    },
    {
      "cell_type": "code",
      "source": [
        "from sklearn.linear_model import SGDRegressor\n",
        "from sklearn.preprocessing import StandardScaler\n",
        "\n",
        "### Scaling Data\n",
        "\n",
        "scaler = StandardScaler()\n",
        "\n",
        "for i in range(X_train.shape[0]):\n",
        "    X_batch, Y_batch = X_train[i], Y_train[i]\n",
        "    scaler.partial_fit(X_batch, Y_batch) ## Partially fitting data in batches\n",
        "\n",
        "\n",
        "### Fitting Data in batches\n",
        "\n",
        "regressor = SGDRegressor()\n",
        "\n",
        "epochs = 10\n",
        "\n",
        "for k in range(epochs):\n",
        "    for i in range(X_train.shape[0]):\n",
        "        X_batch, Y_batch = X_train[i], Y_train[i]\n",
        "        X_batch = scaler.transform(X_batch) ## Preprocessing Single batch of data\n",
        "        regressor.partial_fit(X_batch, Y_batch) ## Partially fitting data in batches\n",
        "\n",
        "\n",
        "### Calculate Prediction\n",
        "\n",
        "Y_test_preds = []\n",
        "\n",
        "for i in range(X_test.shape[0]):\n",
        "  X_batch_scaled = scaler.transform(X_test[i]) ## Preprocessing Single batch of data\n",
        "  Y_pred = regressor.predict(X_batch_scaled)\n",
        "  Y_test_preds.extend(Y_pred.tolist())\n",
        "\n",
        "### Calculate Error\n",
        "\n",
        "from sklearn.metrics import mean_squared_error, r2_score\n",
        "\n",
        "print(\"Test MSE      : {}\".format(mean_squared_error(Y_test.reshape(-1), Y_test_preds)))\n",
        "print(\"Test R2 Score : {}\".format(r2_score(Y_test.reshape(-1), Y_test_preds)))\n"
      ],
      "metadata": {
        "id": "usSdsQ_7C0sB"
      },
      "execution_count": 25,
      "outputs": []
    },
    {
      "cell_type": "code",
      "source": [
        "plt.figure(figsize=(5, 5))\n",
        "plt.scatter(Y_test.reshape(-1), Y_test_preds)\n",
        "plt.show()"
      ],
      "metadata": {
        "colab": {
          "base_uri": "https://localhost:8080/",
          "height": 320
        },
        "id": "8DOdKP0l5ERe",
        "outputId": "f04482c3-7e1c-489d-d19b-1be6425a9f1a"
      },
      "execution_count": 32,
      "outputs": [
        {
          "output_type": "display_data",
          "data": {
            "image/png": "[encoded data removed]",
            "text/plain": [
              "<Figure size 360x360 with 1 Axes>"
            ]
          },
          "metadata": {
            "needs_background": "light"
          }
        }
      ]
    },
    {
      "cell_type": "markdown",
      "source": [
        "### A fent leírtak példájára így néz ki egy teljes tanítási ciklus normalizációval\n",
        "\n",
        "\n",
        "\n",
        "```\n",
        "# JoDeMiro what else?\n",
        "```\n",
        "\n"
      ],
      "metadata": {
        "id": "n1laLFQO2ocZ"
      }
    }
  ]
}