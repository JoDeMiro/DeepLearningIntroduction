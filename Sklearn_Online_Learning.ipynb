{
  "nbformat": 4,
  "nbformat_minor": 0,
  "metadata": {
    "colab": {
      "name": "Sklearn Online Learning.ipynb",
      "provenance": [],
      "collapsed_sections": [],
      "authorship_tag": "ABX9TyORM/GSVV+tgtMXztV3H3OA",
      "include_colab_link": true
    },
    "kernelspec": {
      "name": "python3",
      "display_name": "Python 3"
    },
    "language_info": {
      "name": "python"
    }
  },
  "cells": [
    {
      "cell_type": "markdown",
      "metadata": {
        "id": "view-in-github",
        "colab_type": "text"
      },
      "source": [
        "<a href=\"https://colab.research.google.com/github/JoDeMiro/DeepLearningIntroduction/blob/main/Sklearn_Online_Learning.ipynb\" target=\"_parent\"><img src=\"https://colab.research.google.com/assets/colab-badge.svg\" alt=\"Open In Colab\"/></a>"
      ]
    },
    {
      "cell_type": "markdown",
      "source": [
        "# Scikit Learn\n",
        "\n",
        "### Hogyan használjuk az incremental learninget helyesen\n",
        "\n",
        "Az eredeti cikk forássa az alábbi címen található:\n",
        "\n",
        "https://coderzcolumn.com/tutorials/machine-learning/scikit-learn-incremental-learning-for-large-datasets"
      ],
      "metadata": {
        "id": "SmsyekEV-2_8"
      }
    },
    {
      "cell_type": "code",
      "source": [
        "from sklearn import datasets\n",
        "from sklearn.model_selection import train_test_split\n",
        "\n",
        "X, Y = datasets.make_regression(n_samples=240000, random_state=123)\n",
        "\n",
        "print('X.shape = ', X.shape)\n",
        "print('Y.shape = ', Y.shape)"
      ],
      "metadata": {
        "colab": {
          "base_uri": "https://localhost:8080/"
        },
        "id": "EhqdtUTn0BSF",
        "outputId": "0a6dab23-2636-4dfa-ba0b-a451bb0464e4"
      },
      "execution_count": 1,
      "outputs": [
        {
          "output_type": "stream",
          "name": "stdout",
          "text": [
            "X.shape =  (240000, 100)\n",
            "Y.shape =  (240000,)\n"
          ]
        }
      ]
    },
    {
      "cell_type": "code",
      "source": [
        "print('X.nbytes = ', X.nbytes//1024, 'Kbyte')\n",
        "print('X.nbytes = ', X.nbytes//1024//1024, 'Mbyte')"
      ],
      "metadata": {
        "colab": {
          "base_uri": "https://localhost:8080/"
        },
        "id": "l1RVkGg50RPv",
        "outputId": "bd4f7efe-bf62-45fe-e61b-d3a33242f560"
      },
      "execution_count": 7,
      "outputs": [
        {
          "output_type": "stream",
          "name": "stdout",
          "text": [
            "X.nbytes =  187500 Kbyte\n",
            "X.nbytes =  183 Mbyte\n"
          ]
        }
      ]
    },
    {
      "cell_type": "code",
      "source": [
        "X_train, X_test, Y_train, Y_test = train_test_split(X, Y, train_size=0.9, random_state=123)\n",
        "\n",
        "X_train.shape, X_test.shape, Y_train.shape, Y_test.shape"
      ],
      "metadata": {
        "colab": {
          "base_uri": "https://localhost:8080/"
        },
        "id": "IxGLqCEF0DI8",
        "outputId": "643d21f0-3dcc-4fc3-b650-9581c93ce76f"
      },
      "execution_count": 10,
      "outputs": [
        {
          "output_type": "execute_result",
          "data": {
            "text/plain": [
              "((216000, 100), (24000, 100), (216000,), (24000,))"
            ]
          },
          "metadata": {},
          "execution_count": 10
        }
      ]
    },
    {
      "cell_type": "markdown",
      "source": [
        "### Na erre az átalakításra kíváncsi vagyok"
      ],
      "metadata": {
        "id": "pulICX2k1c6z"
      }
    },
    {
      "cell_type": "code",
      "source": [
        "X_train, X_test = X_train.reshape(-1,24,100), X_test.reshape(-1,24,100)\n",
        "Y_train, Y_test = Y_train.reshape(-1,24), Y_test.reshape(-1,24)\n",
        "\n",
        "X_train.shape, X_test.shape, Y_train.shape, Y_test.shape"
      ],
      "metadata": {
        "colab": {
          "base_uri": "https://localhost:8080/"
        },
        "id": "tfPiqOXl1Xw7",
        "outputId": "f05d1afa-7478-4996-af9c-ded89c216f94"
      },
      "execution_count": 11,
      "outputs": [
        {
          "output_type": "execute_result",
          "data": {
            "text/plain": [
              "((9000, 24, 100), (1000, 24, 100), (9000, 24), (1000, 24))"
            ]
          },
          "metadata": {},
          "execution_count": 11
        }
      ]
    },
    {
      "cell_type": "markdown",
      "source": [
        "Ilyen átalakítást korábban még nem láttam, de nagyon érdekes."
      ],
      "metadata": {
        "id": "uHRLmaVD1qvx"
      }
    },
    {
      "cell_type": "code",
      "source": [
        "X_train[0].shape, Y_train[0].shape"
      ],
      "metadata": {
        "colab": {
          "base_uri": "https://localhost:8080/"
        },
        "id": "8D-dSpzK1i_4",
        "outputId": "73c1d90c-4589-4f78-bee3-f0e5aca2ea4d"
      },
      "execution_count": 12,
      "outputs": [
        {
          "output_type": "execute_result",
          "data": {
            "text/plain": [
              "((24, 100), (24,))"
            ]
          },
          "metadata": {},
          "execution_count": 12
        }
      ]
    },
    {
      "cell_type": "markdown",
      "source": [
        "Ha jól értem az `X_train` és az `Y_train`, batcheket, kics adatcsomagokat tartalmaz.\n",
        "\n",
        "Valahogy úgy, hogy `X_train[0]` az például egy adatcsomag.\n",
        "\n"
      ],
      "metadata": {
        "id": "AFRtxqof10bm"
      }
    },
    {
      "cell_type": "markdown",
      "source": [
        "### Create and Train Model\n",
        "\n",
        "In this section, we have created an ML model using `SGDRegressor` class of scikit-learn. We have then looped through data in **batches** and trained this estimator by calling `partial_fit()` method on it for each batch of data. We have also looped through total data **10 times** where each time training will be performed in batches.\n",
        "\n",
        "Tehát ha jól értem.:\n",
        "\n",
        "24 méretű batcheket (csomagokat) magyarul a **batch_size** lehetne 24 és 10-szer vagyis az **epoch** lehetne 10, a hagyományos terminológiában."
      ],
      "metadata": {
        "id": "HcwVJfH92IcT"
      }
    },
    {
      "cell_type": "code",
      "source": [
        "from sklearn.linear_model import SGDRegressor\n",
        "\n",
        "regressor = SGDRegressor()\n",
        "\n",
        "epochs = 10\n",
        "\n",
        "for k in range(epochs):                               ## Number of loops through data\n",
        "    for i in range(X_train.shape[0]):                 ## Looping through batches (9000)\n",
        "        X_batch, Y_batch = X_train[i], Y_train[i]\n",
        "        regressor.partial_fit(X_batch, Y_batch)       ## Partially fitting data in batches"
      ],
      "metadata": {
        "id": "2or-2Bwp1xrD"
      },
      "execution_count": 13,
      "outputs": []
    },
    {
      "cell_type": "markdown",
      "source": [
        "Az SGDRegressor konstruktorában sok minden van, de ami engem érdekel a fenti vizsgálat szempontjából az a következőek.\n",
        "\n",
        "```\n",
        "SGDRegressor(max_iter=1000,\n",
        "             shuffle=True,\n",
        "             verbose=0,\n",
        "             random_state=None,\n",
        "             learning_rate='invscaling',\n",
        "             validation_fraction=0.1,\n",
        "             warm_start=False)\n",
        "```\n",
        "\n",
        "1. `max_iter` akkor most az van, hogy mind a **24** mintán amiből van **9000** és **10-szer** végig megy, azon hol végizi el ezt a `max_iter=1000` lépést? Vagy mivel a `partial_fit` metodust hívjuk meg ez az érték deffinició szerűen nem játszik és olyan mintha az értéke 1 lenne? Erre gondolok, szerintem ez a helyzet.\n",
        "\n"
      ],
      "metadata": {
        "id": "b_YeHa2C3U88"
      }
    },
    {
      "cell_type": "markdown",
      "source": [
        "### Evaluate Model Performance on Test Data\n",
        "\n",
        "In this section, we have evaluated the performance of our trained model on test data. We have looped through test data in batches and made predictions on them. We have then combined the prediction of each batch.\n",
        "\n",
        "Na ez is nagyon érdkes:\n",
        "\n",
        "Én simán ráhívtam volna az egész adatra a `predict` függvényt."
      ],
      "metadata": {
        "id": "CRHtroEA8QHb"
      }
    },
    {
      "cell_type": "code",
      "source": [
        "from sklearn.metrics import mean_squared_error, r2_score\n",
        "\n",
        "Y_test_preds = []\n",
        "for j in range(X_test.shape[0]):                  ## Looping through test batches for making predictions\n",
        "    Y_preds = regressor.predict(X_test[j])\n",
        "    Y_test_preds.extend(Y_preds.tolist())\n",
        "\n",
        "print(\"Test MSE      : {}\".format(mean_squared_error(Y_test.reshape(-1), Y_test_preds)))\n",
        "print(\"Test R2 Score : {}\".format(r2_score(Y_test.reshape(-1), Y_test_preds)))\n",
        "print(\"Y_test.reshape(-1).shape : \", Y_test.reshape(-1).shape)\n",
        "print(\"len(Y_test_preds)        :  \", len(Y_test_preds))"
      ],
      "metadata": {
        "colab": {
          "base_uri": "https://localhost:8080/"
        },
        "id": "WTy07K-R3RSr",
        "outputId": "30b13bad-65e4-4ddf-b930-acc266fb8592"
      },
      "execution_count": 19,
      "outputs": [
        {
          "output_type": "stream",
          "name": "stdout",
          "text": [
            "Test MSE      : 0.00024876312858854676\n",
            "Test R2 Score : 0.9999999907249083\n",
            "Y_test.reshape(-1).shape :  (24000,)\n",
            "len(Y_test_preds)        :   24000\n"
          ]
        }
      ]
    },
    {
      "cell_type": "markdown",
      "source": [
        "Hát igen, úgy látom ez a szakszerű módja annak, hogy elvégezzük a becslést, hiszen az `Y_train` és az `Y_test` adatok is batch kötegebe vannak formálva. És értelemszerűen ha ilyen formában tanítottuk a modelt akkor ilyen formában kell csinálnunk a becslést is, hiszen mást nem tudna megenni a model."
      ],
      "metadata": {
        "id": "zq511zBa9Zmu"
      }
    },
    {
      "cell_type": "code",
      "source": [
        "print('Y_train.shape = ', Y_train.shape)\n",
        "print('Y_test.shape  = ', Y_test.shape)"
      ],
      "metadata": {
        "colab": {
          "base_uri": "https://localhost:8080/"
        },
        "id": "UAKwBut988AD",
        "outputId": "5faefd4e-72a0-42ac-de59-fb4a7ee9ba3e"
      },
      "execution_count": 20,
      "outputs": [
        {
          "output_type": "stream",
          "name": "stdout",
          "text": [
            "Y_train.shape =  (9000, 24)\n",
            "Y_test.shape  =  (1000, 24)\n"
          ]
        }
      ]
    },
    {
      "cell_type": "markdown",
      "source": [
        "### Evaluate Model Performance on Train Data\n",
        "\n",
        "At last, we have calculated MSE and R^2 scores on the training dataset to check the performance of the model on train data."
      ],
      "metadata": {
        "id": "o5Fg12WX-Ayu"
      }
    },
    {
      "cell_type": "code",
      "source": [
        "from sklearn.metrics import mean_squared_error, r2_score\n",
        "\n",
        "Y_train_preds = []\n",
        "for j in range(X_train.shape[0]): ## Looping through train batches for making predictions\n",
        "    Y_preds = regressor.predict(X_train[j])\n",
        "    Y_train_preds.extend(Y_preds.tolist())\n",
        "\n",
        "print(\"Train MSE      : {}\".format(mean_squared_error(Y_train.reshape(-1), Y_train_preds)))\n",
        "print(\"Train R2 Score : {}\".format(r2_score(Y_train.reshape(-1), Y_train_preds)))\n",
        "print(\"Y_train.reshape(-1).shape : \", Y_train.reshape(-1).shape)\n",
        "print(\"len(Y_train_preds)        :  \", len(Y_train_preds))"
      ],
      "metadata": {
        "colab": {
          "base_uri": "https://localhost:8080/"
        },
        "id": "FN6F1ub091D7",
        "outputId": "f17c62bb-263c-475c-e32d-a311b8d1eaa6"
      },
      "execution_count": 21,
      "outputs": [
        {
          "output_type": "stream",
          "name": "stdout",
          "text": [
            "Train MSE      : 0.00024853825291878094\n",
            "Train R2 Score : 0.9999999907225984\n",
            "Y_train.reshape(-1).shape :  (216000,)\n",
            "len(Y_train_preds)        :   216000\n"
          ]
        }
      ]
    },
    {
      "cell_type": "code",
      "source": [
        "print('Ennyiszer látta a model az adatokat : ', regressor.t_)"
      ],
      "metadata": {
        "colab": {
          "base_uri": "https://localhost:8080/"
        },
        "id": "qmKYj9Bx-RzS",
        "outputId": "299f6aa1-5427-4513-a99a-3f0f45f7c381"
      },
      "execution_count": 23,
      "outputs": [
        {
          "output_type": "stream",
          "name": "stdout",
          "text": [
            "Ennyiszer látta a model az adatokat :  2160001.0\n"
          ]
        }
      ]
    },
    {
      "cell_type": "markdown",
      "source": [
        "### MLPRegressor"
      ],
      "metadata": {
        "id": "Ya2RRMcQ_Zgz"
      }
    },
    {
      "cell_type": "code",
      "source": [
        "from sklearn.preprocessing import MinMaxScaler\n",
        "\n",
        "X_scaler = MinMaxScaler((0, 1))\n",
        "Y_scaler = MinMaxScaler((0, 1))\n",
        "\n",
        "X, Y = datasets.make_regression(n_samples=240000, random_state=123)\n",
        "\n",
        "print('X.shape = ', X.shape)\n",
        "print('Y.shape = ', Y.shape)\n",
        "\n",
        "print('X.nbytes = ', X.nbytes//1024, 'Kbyte')\n",
        "print('X.nbytes = ', X.nbytes//1024//1024, 'Mbyte')\n",
        "\n",
        "X_train, X_test, Y_train, Y_test = train_test_split(X, Y, train_size=0.9, random_state=123)\n",
        "\n",
        "print(X_train.shape, X_test.shape, Y_train.shape, Y_test.shape)\n",
        "\n",
        "\n",
        "X_train_scaled = X_scaler.fit_transform(X_train)\n",
        "Y_train_scaled = Y_scaler.fit_transform(Y_train.reshape(-1, 1)).flatten()\n",
        "\n",
        "X_test_scaled  = X_scaler.transform(X_test)\n",
        "Y_test_scaled  = Y_scaler.transform(Y_test.reshape(-1, 1)).flatten()\n",
        "\n",
        "print(X_train_scaled.shape, X_test_scaled.shape, Y_train_scaled.shape, Y_test_scaled.shape)\n"
      ],
      "metadata": {
        "colab": {
          "base_uri": "https://localhost:8080/"
        },
        "id": "kNfnRqup-oYW",
        "outputId": "7f830aa3-c42c-4f0c-8f17-e0c452e6feda"
      },
      "execution_count": 32,
      "outputs": [
        {
          "output_type": "stream",
          "name": "stdout",
          "text": [
            "X.shape =  (240000, 100)\n",
            "Y.shape =  (240000,)\n",
            "X.nbytes =  187500 Kbyte\n",
            "X.nbytes =  183 Mbyte\n",
            "(216000, 100) (24000, 100) (216000,) (24000,)\n",
            "(216000, 100) (24000, 100) (216000,) (24000,)\n"
          ]
        }
      ]
    },
    {
      "cell_type": "markdown",
      "source": [
        "### Na erre az átalakításra kíváncsi vagyok"
      ],
      "metadata": {
        "id": "QTeM2UWABz4V"
      }
    },
    {
      "cell_type": "code",
      "source": [
        "X_train, X_test = X_train_scaled.reshape(-1,24,100), X_test_scaled.reshape(-1,24,100)\n",
        "Y_train, Y_test = Y_train_scaled.reshape(-1,24), Y_test_scaled.reshape(-1,24)\n",
        "\n",
        "X_train.shape, X_test.shape, Y_train.shape, Y_test.shape"
      ],
      "metadata": {
        "colab": {
          "base_uri": "https://localhost:8080/"
        },
        "id": "DmtUe1zpBvqQ",
        "outputId": "0358e31c-cb2a-40ea-c444-b08ab89471ad"
      },
      "execution_count": 33,
      "outputs": [
        {
          "output_type": "execute_result",
          "data": {
            "text/plain": [
              "((9000, 24, 100), (1000, 24, 100), (9000, 24), (1000, 24))"
            ]
          },
          "metadata": {},
          "execution_count": 33
        }
      ]
    },
    {
      "cell_type": "markdown",
      "source": [
        "Ilyen átalakítást korábban még nem láttam, de nagyon érdekes."
      ],
      "metadata": {
        "id": "NszCDHxNCF6U"
      }
    },
    {
      "cell_type": "code",
      "source": [
        "X_train[0].shape, Y_train[0].shape"
      ],
      "metadata": {
        "colab": {
          "base_uri": "https://localhost:8080/"
        },
        "id": "FVKx17AkB9xv",
        "outputId": "a37cd597-0be5-4c85-e59a-f278fda9971b"
      },
      "execution_count": 34,
      "outputs": [
        {
          "output_type": "execute_result",
          "data": {
            "text/plain": [
              "((24, 100), (24,))"
            ]
          },
          "metadata": {},
          "execution_count": 34
        }
      ]
    },
    {
      "cell_type": "markdown",
      "source": [
        "Ha jól értem az `X_train` és az `Y_train`, batcheket, kics adatcsomagokat tartalmaz.\n",
        "\n",
        "Valahogy úgy, hogy `X_train[0]` az például egy adatcsomag.\n",
        "\n"
      ],
      "metadata": {
        "id": "A027DGrfCMoE"
      }
    },
    {
      "cell_type": "markdown",
      "source": [
        "### Create and Train Model\n",
        "\n",
        "In this section, we have created an ML model using `MLPRegressor` class of scikit-learn. We have then looped through data in **batches** and trained this estimator by calling `partial_fit()` method on it for each batch of data. We have also looped through total data **10 times** where each time training will be performed in batches.\n",
        "\n",
        "Tehát ha jól értem.:\n",
        "\n",
        "24 méretű batcheket (csomagokat) magyarul a **batch_size** lehetne 24 és 10-szer vagyis az **epoch** lehetne 10, a hagyományos terminológiában."
      ],
      "metadata": {
        "id": "dmdwjr8UCQ7r"
      }
    },
    {
      "cell_type": "markdown",
      "source": [
        "### [ ! ]\n",
        "\n",
        "Itt viszont lesz egy fundamentális különbség az `SGDRegressor` osztályhoz képest.\n",
        "\n",
        "Ott ugyanis nem volt megadható a `batch_size` az `MLPRegreessor` esetében igen.\n",
        "\n",
        "1. Probáljuk meg úgy, hogy az összes adatot ami a köteben szerepel megkapja\n",
        "2. Próbáljuk meg úgy, hogy csak egy adatot kap meg beállításként.\n",
        "3. Nézzük meg milyen eredményt ad a `warm_start` bekapcsolása, van-e hatása\n",
        "4. Nézzük meg, hogy van-e különbség a `fit` és `partial_fit` között.\n",
        "5. Tudomásom szerint partial_fit esetén nincs hatása a max_iter értékének, de tesztelni kell."
      ],
      "metadata": {
        "id": "ICHXs7nrCa3I"
      }
    },
    {
      "cell_type": "markdown",
      "source": [
        "### [ 1 ]\n",
        "\n",
        "Az első kísérlet."
      ],
      "metadata": {
        "id": "WxY_8HidDPyf"
      }
    },
    {
      "cell_type": "code",
      "source": [
        "from sklearn.neural_network import MLPRegressor\n",
        "\n",
        "mlp1 = MLPRegressor(hidden_layer_sizes=(10, ),\n",
        "                    activation='relu',\n",
        "                    solver='sgd',\n",
        "                    batch_size=24,\n",
        "                    max_iter=1,\n",
        "                    learning_rate_init=0.001,\n",
        "                    shuffle=True,\n",
        "                    verbose=False,\n",
        "                    random_state=123,\n",
        "                    validation_fraction=0.0,\n",
        "                    n_iter_no_change=98765)"
      ],
      "metadata": {
        "id": "yGF2kYgjCJEN"
      },
      "execution_count": 36,
      "outputs": []
    },
    {
      "cell_type": "markdown",
      "source": [
        "1. `max_iter` akkor most az van, hogy mind a **24** mintán amiből van **9000** és **10-szer** végig megy, azon hol végizi el ezt a `max_iter=1000` lépést? Vagy mivel a `partial_fit` metodust hívjuk meg ez az érték deffinició szerűen nem játszik és olyan mintha az értéke 1 lenne? Erre gondolok, szerintem ez a helyzet."
      ],
      "metadata": {
        "id": "l_VYIJsvFim7"
      }
    },
    {
      "cell_type": "code",
      "source": [
        "epochs = 10\n",
        "\n",
        "for k in range(epochs):                               ## Number of loops through data\n",
        "    for i in range(X_train.shape[0]):                 ## Looping through batches (9000)\n",
        "        X_batch, Y_batch = X_train[i], Y_train[i]     ## (24, 100) és (24,)\n",
        "        mlp1.partial_fit(X_batch, Y_batch)            ## Partially fitting data in batches"
      ],
      "metadata": {
        "id": "e4ayHDpIDk10"
      },
      "execution_count": 37,
      "outputs": []
    },
    {
      "cell_type": "markdown",
      "source": [
        "### [ 1 ] Evaluate Model Performance on Test Data\n"
      ],
      "metadata": {
        "id": "WXHRT87qGVBH"
      }
    },
    {
      "cell_type": "code",
      "source": [
        "from sklearn.metrics import mean_squared_error, r2_score\n",
        "\n",
        "Y_test_preds = []\n",
        "for j in range(X_test.shape[0]):                  ## Looping through test batches for making predictions\n",
        "    Y_preds = mlp1.predict(X_test[j])\n",
        "    Y_test_preds.extend(Y_preds.tolist())\n",
        "\n",
        "print(\"Test MSE      : {}\".format(mean_squared_error(Y_test.reshape(-1), Y_test_preds)))\n",
        "print(\"Test R2 Score : {}\".format(r2_score(Y_test.reshape(-1), Y_test_preds)))\n",
        "print(\"Y_test.reshape(-1).shape : \", Y_test.reshape(-1).shape)\n",
        "print(\"len(Y_test_preds)        :  \", len(Y_test_preds))"
      ],
      "metadata": {
        "colab": {
          "base_uri": "https://localhost:8080/"
        },
        "id": "HpZAdM0zF8A1",
        "outputId": "dd54a15c-a3a9-475a-ffc2-274ef4903fa5"
      },
      "execution_count": 41,
      "outputs": [
        {
          "output_type": "stream",
          "name": "stdout",
          "text": [
            "Test MSE      : 0.00025005242167357546\n",
            "Test R2 Score : 0.981430351001458\n",
            "Y_test.reshape(-1).shape :  (24000,)\n",
            "len(Y_test_preds)        :   24000\n"
          ]
        }
      ]
    },
    {
      "cell_type": "code",
      "source": [
        "import matplotlib.pyplot as plt\n",
        "\n",
        "fig, (ax1, ax2, ax3) = plt.subplots(1, 3, figsize=(21, 4))\n",
        "ax1.plot(mlp1.loss_curve_[0:100])\n",
        "ax1.set_title('[0:100] iter')\n",
        "ax2.plot(mlp1.loss_curve_)\n",
        "ax2.set_title('Whole')\n",
        "ax3.plot(mlp1.loss_curve_[-100:])\n",
        "ax3.set_title('[-100:] iter')\n",
        "plt.show()\n",
        "print(\"mlp1.t_       :  \", mlp1.t_)\n",
        "print(\"Y_train.shape : \", Y_train.shape)"
      ],
      "metadata": {
        "colab": {
          "base_uri": "https://localhost:8080/",
          "height": 316
        },
        "id": "KTCm_9zeGc8H",
        "outputId": "7ac46eee-c2a4-49c9-b8a4-dbf791e8d8e4"
      },
      "execution_count": 45,
      "outputs": [
        {
          "output_type": "display_data",
          "data": {
            "image/png": "[encoded data removed]",
            "text/plain": [
              "<Figure size 1512x288 with 3 Axes>"
            ]
          },
          "metadata": {
            "needs_background": "light"
          }
        },
        {
          "output_type": "stream",
          "name": "stdout",
          "text": [
            "mlp1.t_       :   2160000\n",
            "Y_train.shape :  (9000, 24)\n"
          ]
        }
      ]
    },
    {
      "cell_type": "code",
      "source": [
        ""
      ],
      "metadata": {
        "id": "da1hTs6wHPsK"
      },
      "execution_count": null,
      "outputs": []
    }
  ]
}