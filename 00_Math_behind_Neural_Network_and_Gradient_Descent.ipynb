{
  "nbformat": 4,
  "nbformat_minor": 0,
  "metadata": {
    "colab": {
      "name": "00 - Math behind Neural Network and Gradient Descent.ipynb",
      "provenance": [],
      "collapsed_sections": [],
      "authorship_tag": "ABX9TyP04Vwu9ZFJ6MQzFjsd62P9",
      "include_colab_link": true
    },
    "kernelspec": {
      "name": "python3",
      "display_name": "Python 3"
    },
    "language_info": {
      "name": "python"
    },
    "widgets": {
      "application/vnd.jupyter.widget-state+json": {
        "0c34a7eb6ef744f0805b4cb2bc0fb301": {
          "model_module": "@jupyter-widgets/controls",
          "model_name": "VBoxModel",
          "model_module_version": "1.5.0",
          "state": {
            "_view_name": "VBoxView",
            "_dom_classes": [
              "widget-interact"
            ],
            "_model_name": "VBoxModel",
            "_view_module": "@jupyter-widgets/controls",
            "_model_module_version": "1.5.0",
            "_view_count": null,
            "_view_module_version": "1.5.0",
            "box_style": "",
            "layout": "IPY_MODEL_78404ddcdb24434eb406cdc60dc93bb0",
            "_model_module": "@jupyter-widgets/controls",
            "children": [
              "IPY_MODEL_1f31faedc01f4e2da89cd1943e9f1844",
              "IPY_MODEL_1f2c3a0173654fd49c1dbf85c8068534",
              "IPY_MODEL_614ad00dad2e42fa9adbf639ee4a7959",
              "IPY_MODEL_81bc50ff477c432c885c4f7b82630f5f",
              "IPY_MODEL_876914b864824753a2705242122195ed",
              "IPY_MODEL_ad0c39b9e96b4d31b0cb2cd7280e7e34",
              "IPY_MODEL_13a5354bb7a340fa827a16c2cc7c2666",
              "IPY_MODEL_7ff75ef50f214b778964f9a1de0f7117"
            ]
          }
        },
        "78404ddcdb24434eb406cdc60dc93bb0": {
          "model_module": "@jupyter-widgets/base",
          "model_name": "LayoutModel",
          "model_module_version": "1.2.0",
          "state": {
            "_view_name": "LayoutView",
            "grid_template_rows": null,
            "right": null,
            "justify_content": null,
            "_view_module": "@jupyter-widgets/base",
            "overflow": null,
            "_model_module_version": "1.2.0",
            "_view_count": null,
            "flex_flow": null,
            "width": null,
            "min_width": null,
            "border": null,
            "align_items": null,
            "bottom": null,
            "_model_module": "@jupyter-widgets/base",
            "top": null,
            "grid_column": null,
            "overflow_y": null,
            "overflow_x": null,
            "grid_auto_flow": null,
            "grid_area": null,
            "grid_template_columns": null,
            "flex": null,
            "_model_name": "LayoutModel",
            "justify_items": null,
            "grid_row": null,
            "max_height": null,
            "align_content": null,
            "visibility": null,
            "align_self": null,
            "height": null,
            "min_height": null,
            "padding": null,
            "grid_auto_rows": null,
            "grid_gap": null,
            "max_width": null,
            "order": null,
            "_view_module_version": "1.2.0",
            "grid_template_areas": null,
            "object_position": null,
            "object_fit": null,
            "grid_auto_columns": null,
            "margin": null,
            "display": null,
            "left": null
          }
        },
        "1f31faedc01f4e2da89cd1943e9f1844": {
          "model_module": "@jupyter-widgets/controls",
          "model_name": "FloatSliderModel",
          "model_module_version": "1.5.0",
          "state": {
            "_view_name": "FloatSliderView",
            "style": "IPY_MODEL_bb19c65dc29545c3babfa1b3e01b9145",
            "_dom_classes": [],
            "description": "_iw1",
            "step": 0.01,
            "_model_name": "FloatSliderModel",
            "orientation": "horizontal",
            "max": 3,
            "_view_module": "@jupyter-widgets/controls",
            "_model_module_version": "1.5.0",
            "value": 2,
            "_view_count": null,
            "disabled": false,
            "_view_module_version": "1.5.0",
            "min": -3,
            "continuous_update": true,
            "readout_format": ".2f",
            "description_tooltip": null,
            "readout": true,
            "_model_module": "@jupyter-widgets/controls",
            "layout": "IPY_MODEL_ef049e1f44434121b03f4bee0167c54b"
          }
        },
        "1f2c3a0173654fd49c1dbf85c8068534": {
          "model_module": "@jupyter-widgets/controls",
          "model_name": "FloatSliderModel",
          "model_module_version": "1.5.0",
          "state": {
            "_view_name": "FloatSliderView",
            "style": "IPY_MODEL_5b5b2e581f7547088731f33d65ea1e61",
            "_dom_classes": [],
            "description": "_ib1",
            "step": 0.01,
            "_model_name": "FloatSliderModel",
            "orientation": "horizontal",
            "max": 3,
            "_view_module": "@jupyter-widgets/controls",
            "_model_module_version": "1.5.0",
            "value": 1,
            "_view_count": null,
            "disabled": false,
            "_view_module_version": "1.5.0",
            "min": -3,
            "continuous_update": true,
            "readout_format": ".2f",
            "description_tooltip": null,
            "readout": true,
            "_model_module": "@jupyter-widgets/controls",
            "layout": "IPY_MODEL_a1523e021d914e5caa628f2f29eeaf49"
          }
        },
        "614ad00dad2e42fa9adbf639ee4a7959": {
          "model_module": "@jupyter-widgets/controls",
          "model_name": "FloatSliderModel",
          "model_module_version": "1.5.0",
          "state": {
            "_view_name": "FloatSliderView",
            "style": "IPY_MODEL_01f4fb4b55714f1cadd5112251c98629",
            "_dom_classes": [],
            "description": "_iw2",
            "step": 0.01,
            "_model_name": "FloatSliderModel",
            "orientation": "horizontal",
            "max": 3,
            "_view_module": "@jupyter-widgets/controls",
            "_model_module_version": "1.5.0",
            "value": 0,
            "_view_count": null,
            "disabled": false,
            "_view_module_version": "1.5.0",
            "min": -3,
            "continuous_update": true,
            "readout_format": ".2f",
            "description_tooltip": null,
            "readout": true,
            "_model_module": "@jupyter-widgets/controls",
            "layout": "IPY_MODEL_4a24c813f8fe434a9c2614642a0b60ec"
          }
        },
        "81bc50ff477c432c885c4f7b82630f5f": {
          "model_module": "@jupyter-widgets/controls",
          "model_name": "FloatSliderModel",
          "model_module_version": "1.5.0",
          "state": {
            "_view_name": "FloatSliderView",
            "style": "IPY_MODEL_231da6c64c7c4ffbb1601b2a36d1c972",
            "_dom_classes": [],
            "description": "_ib2",
            "step": 0.01,
            "_model_name": "FloatSliderModel",
            "orientation": "horizontal",
            "max": 3,
            "_view_module": "@jupyter-widgets/controls",
            "_model_module_version": "1.5.0",
            "value": 0,
            "_view_count": null,
            "disabled": false,
            "_view_module_version": "1.5.0",
            "min": -3,
            "continuous_update": true,
            "readout_format": ".2f",
            "description_tooltip": null,
            "readout": true,
            "_model_module": "@jupyter-widgets/controls",
            "layout": "IPY_MODEL_552805ffed4e4a009102da1756f8bfb0"
          }
        },
        "876914b864824753a2705242122195ed": {
          "model_module": "@jupyter-widgets/controls",
          "model_name": "FloatSliderModel",
          "model_module_version": "1.5.0",
          "state": {
            "_view_name": "FloatSliderView",
            "style": "IPY_MODEL_7a7672cc38f8455baa946e512b004f0e",
            "_dom_classes": [],
            "description": "_ow1",
            "step": 0.01,
            "_model_name": "FloatSliderModel",
            "orientation": "horizontal",
            "max": 3,
            "_view_module": "@jupyter-widgets/controls",
            "_model_module_version": "1.5.0",
            "value": 1,
            "_view_count": null,
            "disabled": false,
            "_view_module_version": "1.5.0",
            "min": -3,
            "continuous_update": true,
            "readout_format": ".2f",
            "description_tooltip": null,
            "readout": true,
            "_model_module": "@jupyter-widgets/controls",
            "layout": "IPY_MODEL_62baa468dd8f40be8f6f6eb70c7caba3"
          }
        },
        "ad0c39b9e96b4d31b0cb2cd7280e7e34": {
          "model_module": "@jupyter-widgets/controls",
          "model_name": "FloatSliderModel",
          "model_module_version": "1.5.0",
          "state": {
            "_view_name": "FloatSliderView",
            "style": "IPY_MODEL_e39a002c527f4e49a009e3f232ed12e5",
            "_dom_classes": [],
            "description": "_ow2",
            "step": 0.01,
            "_model_name": "FloatSliderModel",
            "orientation": "horizontal",
            "max": 3,
            "_view_module": "@jupyter-widgets/controls",
            "_model_module_version": "1.5.0",
            "value": 0,
            "_view_count": null,
            "disabled": false,
            "_view_module_version": "1.5.0",
            "min": -3,
            "continuous_update": true,
            "readout_format": ".2f",
            "description_tooltip": null,
            "readout": true,
            "_model_module": "@jupyter-widgets/controls",
            "layout": "IPY_MODEL_fa41b0a6dd224cf8a0c79e3e8d4b249b"
          }
        },
        "13a5354bb7a340fa827a16c2cc7c2666": {
          "model_module": "@jupyter-widgets/controls",
          "model_name": "FloatSliderModel",
          "model_module_version": "1.5.0",
          "state": {
            "_view_name": "FloatSliderView",
            "style": "IPY_MODEL_cd13064380db450e9919f828f55e573e",
            "_dom_classes": [],
            "description": "_ob",
            "step": 0.01,
            "_model_name": "FloatSliderModel",
            "orientation": "horizontal",
            "max": 1,
            "_view_module": "@jupyter-widgets/controls",
            "_model_module_version": "1.5.0",
            "value": 0,
            "_view_count": null,
            "disabled": false,
            "_view_module_version": "1.5.0",
            "min": -1,
            "continuous_update": true,
            "readout_format": ".2f",
            "description_tooltip": null,
            "readout": true,
            "_model_module": "@jupyter-widgets/controls",
            "layout": "IPY_MODEL_f7ee115e13574d9b906d2585f8a75cfa"
          }
        },
        "7ff75ef50f214b778964f9a1de0f7117": {
          "model_module": "@jupyter-widgets/output",
          "model_name": "OutputModel",
          "model_module_version": "1.0.0",
          "state": {
            "_view_name": "OutputView",
            "msg_id": "",
            "_dom_classes": [],
            "_model_name": "OutputModel",
            "outputs": [
              {
                "output_type": "display_data",
                "data": {
                  "image/png": "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\n",
                  "text/plain": "<Figure size 576x360 with 1 Axes>"
                },
                "metadata": {
                  "needs_background": "light"
                }
              }
            ],
            "_view_module": "@jupyter-widgets/output",
            "_model_module_version": "1.0.0",
            "_view_count": null,
            "_view_module_version": "1.0.0",
            "layout": "IPY_MODEL_3e5509bd7d5b450caf62c49b09410931",
            "_model_module": "@jupyter-widgets/output"
          }
        },
        "bb19c65dc29545c3babfa1b3e01b9145": {
          "model_module": "@jupyter-widgets/controls",
          "model_name": "SliderStyleModel",
          "model_module_version": "1.5.0",
          "state": {
            "_view_name": "StyleView",
            "handle_color": null,
            "_model_name": "SliderStyleModel",
            "description_width": "",
            "_view_module": "@jupyter-widgets/base",
            "_model_module_version": "1.5.0",
            "_view_count": null,
            "_view_module_version": "1.2.0",
            "_model_module": "@jupyter-widgets/controls"
          }
        },
        "ef049e1f44434121b03f4bee0167c54b": {
          "model_module": "@jupyter-widgets/base",
          "model_name": "LayoutModel",
          "model_module_version": "1.2.0",
          "state": {
            "_view_name": "LayoutView",
            "grid_template_rows": null,
            "right": null,
            "justify_content": null,
            "_view_module": "@jupyter-widgets/base",
            "overflow": null,
            "_model_module_version": "1.2.0",
            "_view_count": null,
            "flex_flow": null,
            "width": null,
            "min_width": null,
            "border": null,
            "align_items": null,
            "bottom": null,
            "_model_module": "@jupyter-widgets/base",
            "top": null,
            "grid_column": null,
            "overflow_y": null,
            "overflow_x": null,
            "grid_auto_flow": null,
            "grid_area": null,
            "grid_template_columns": null,
            "flex": null,
            "_model_name": "LayoutModel",
            "justify_items": null,
            "grid_row": null,
            "max_height": null,
            "align_content": null,
            "visibility": null,
            "align_self": null,
            "height": null,
            "min_height": null,
            "padding": null,
            "grid_auto_rows": null,
            "grid_gap": null,
            "max_width": null,
            "order": null,
            "_view_module_version": "1.2.0",
            "grid_template_areas": null,
            "object_position": null,
            "object_fit": null,
            "grid_auto_columns": null,
            "margin": null,
            "display": null,
            "left": null
          }
        },
        "5b5b2e581f7547088731f33d65ea1e61": {
          "model_module": "@jupyter-widgets/controls",
          "model_name": "SliderStyleModel",
          "model_module_version": "1.5.0",
          "state": {
            "_view_name": "StyleView",
            "handle_color": null,
            "_model_name": "SliderStyleModel",
            "description_width": "",
            "_view_module": "@jupyter-widgets/base",
            "_model_module_version": "1.5.0",
            "_view_count": null,
            "_view_module_version": "1.2.0",
            "_model_module": "@jupyter-widgets/controls"
          }
        },
        "a1523e021d914e5caa628f2f29eeaf49": {
          "model_module": "@jupyter-widgets/base",
          "model_name": "LayoutModel",
          "model_module_version": "1.2.0",
          "state": {
            "_view_name": "LayoutView",
            "grid_template_rows": null,
            "right": null,
            "justify_content": null,
            "_view_module": "@jupyter-widgets/base",
            "overflow": null,
            "_model_module_version": "1.2.0",
            "_view_count": null,
            "flex_flow": null,
            "width": null,
            "min_width": null,
            "border": null,
            "align_items": null,
            "bottom": null,
            "_model_module": "@jupyter-widgets/base",
            "top": null,
            "grid_column": null,
            "overflow_y": null,
            "overflow_x": null,
            "grid_auto_flow": null,
            "grid_area": null,
            "grid_template_columns": null,
            "flex": null,
            "_model_name": "LayoutModel",
            "justify_items": null,
            "grid_row": null,
            "max_height": null,
            "align_content": null,
            "visibility": null,
            "align_self": null,
            "height": null,
            "min_height": null,
            "padding": null,
            "grid_auto_rows": null,
            "grid_gap": null,
            "max_width": null,
            "order": null,
            "_view_module_version": "1.2.0",
            "grid_template_areas": null,
            "object_position": null,
            "object_fit": null,
            "grid_auto_columns": null,
            "margin": null,
            "display": null,
            "left": null
          }
        },
        "01f4fb4b55714f1cadd5112251c98629": {
          "model_module": "@jupyter-widgets/controls",
          "model_name": "SliderStyleModel",
          "model_module_version": "1.5.0",
          "state": {
            "_view_name": "StyleView",
            "handle_color": null,
            "_model_name": "SliderStyleModel",
            "description_width": "",
            "_view_module": "@jupyter-widgets/base",
            "_model_module_version": "1.5.0",
            "_view_count": null,
            "_view_module_version": "1.2.0",
            "_model_module": "@jupyter-widgets/controls"
          }
        },
        "4a24c813f8fe434a9c2614642a0b60ec": {
          "model_module": "@jupyter-widgets/base",
          "model_name": "LayoutModel",
          "model_module_version": "1.2.0",
          "state": {
            "_view_name": "LayoutView",
            "grid_template_rows": null,
            "right": null,
            "justify_content": null,
            "_view_module": "@jupyter-widgets/base",
            "overflow": null,
            "_model_module_version": "1.2.0",
            "_view_count": null,
            "flex_flow": null,
            "width": null,
            "min_width": null,
            "border": null,
            "align_items": null,
            "bottom": null,
            "_model_module": "@jupyter-widgets/base",
            "top": null,
            "grid_column": null,
            "overflow_y": null,
            "overflow_x": null,
            "grid_auto_flow": null,
            "grid_area": null,
            "grid_template_columns": null,
            "flex": null,
            "_model_name": "LayoutModel",
            "justify_items": null,
            "grid_row": null,
            "max_height": null,
            "align_content": null,
            "visibility": null,
            "align_self": null,
            "height": null,
            "min_height": null,
            "padding": null,
            "grid_auto_rows": null,
            "grid_gap": null,
            "max_width": null,
            "order": null,
            "_view_module_version": "1.2.0",
            "grid_template_areas": null,
            "object_position": null,
            "object_fit": null,
            "grid_auto_columns": null,
            "margin": null,
            "display": null,
            "left": null
          }
        },
        "231da6c64c7c4ffbb1601b2a36d1c972": {
          "model_module": "@jupyter-widgets/controls",
          "model_name": "SliderStyleModel",
          "model_module_version": "1.5.0",
          "state": {
            "_view_name": "StyleView",
            "handle_color": null,
            "_model_name": "SliderStyleModel",
            "description_width": "",
            "_view_module": "@jupyter-widgets/base",
            "_model_module_version": "1.5.0",
            "_view_count": null,
            "_view_module_version": "1.2.0",
            "_model_module": "@jupyter-widgets/controls"
          }
        },
        "552805ffed4e4a009102da1756f8bfb0": {
          "model_module": "@jupyter-widgets/base",
          "model_name": "LayoutModel",
          "model_module_version": "1.2.0",
          "state": {
            "_view_name": "LayoutView",
            "grid_template_rows": null,
            "right": null,
            "justify_content": null,
            "_view_module": "@jupyter-widgets/base",
            "overflow": null,
            "_model_module_version": "1.2.0",
            "_view_count": null,
            "flex_flow": null,
            "width": null,
            "min_width": null,
            "border": null,
            "align_items": null,
            "bottom": null,
            "_model_module": "@jupyter-widgets/base",
            "top": null,
            "grid_column": null,
            "overflow_y": null,
            "overflow_x": null,
            "grid_auto_flow": null,
            "grid_area": null,
            "grid_template_columns": null,
            "flex": null,
            "_model_name": "LayoutModel",
            "justify_items": null,
            "grid_row": null,
            "max_height": null,
            "align_content": null,
            "visibility": null,
            "align_self": null,
            "height": null,
            "min_height": null,
            "padding": null,
            "grid_auto_rows": null,
            "grid_gap": null,
            "max_width": null,
            "order": null,
            "_view_module_version": "1.2.0",
            "grid_template_areas": null,
            "object_position": null,
            "object_fit": null,
            "grid_auto_columns": null,
            "margin": null,
            "display": null,
            "left": null
          }
        },
        "7a7672cc38f8455baa946e512b004f0e": {
          "model_module": "@jupyter-widgets/controls",
          "model_name": "SliderStyleModel",
          "model_module_version": "1.5.0",
          "state": {
            "_view_name": "StyleView",
            "handle_color": null,
            "_model_name": "SliderStyleModel",
            "description_width": "",
            "_view_module": "@jupyter-widgets/base",
            "_model_module_version": "1.5.0",
            "_view_count": null,
            "_view_module_version": "1.2.0",
            "_model_module": "@jupyter-widgets/controls"
          }
        },
        "62baa468dd8f40be8f6f6eb70c7caba3": {
          "model_module": "@jupyter-widgets/base",
          "model_name": "LayoutModel",
          "model_module_version": "1.2.0",
          "state": {
            "_view_name": "LayoutView",
            "grid_template_rows": null,
            "right": null,
            "justify_content": null,
            "_view_module": "@jupyter-widgets/base",
            "overflow": null,
            "_model_module_version": "1.2.0",
            "_view_count": null,
            "flex_flow": null,
            "width": null,
            "min_width": null,
            "border": null,
            "align_items": null,
            "bottom": null,
            "_model_module": "@jupyter-widgets/base",
            "top": null,
            "grid_column": null,
            "overflow_y": null,
            "overflow_x": null,
            "grid_auto_flow": null,
            "grid_area": null,
            "grid_template_columns": null,
            "flex": null,
            "_model_name": "LayoutModel",
            "justify_items": null,
            "grid_row": null,
            "max_height": null,
            "align_content": null,
            "visibility": null,
            "align_self": null,
            "height": null,
            "min_height": null,
            "padding": null,
            "grid_auto_rows": null,
            "grid_gap": null,
            "max_width": null,
            "order": null,
            "_view_module_version": "1.2.0",
            "grid_template_areas": null,
            "object_position": null,
            "object_fit": null,
            "grid_auto_columns": null,
            "margin": null,
            "display": null,
            "left": null
          }
        },
        "e39a002c527f4e49a009e3f232ed12e5": {
          "model_module": "@jupyter-widgets/controls",
          "model_name": "SliderStyleModel",
          "model_module_version": "1.5.0",
          "state": {
            "_view_name": "StyleView",
            "handle_color": null,
            "_model_name": "SliderStyleModel",
            "description_width": "",
            "_view_module": "@jupyter-widgets/base",
            "_model_module_version": "1.5.0",
            "_view_count": null,
            "_view_module_version": "1.2.0",
            "_model_module": "@jupyter-widgets/controls"
          }
        },
        "fa41b0a6dd224cf8a0c79e3e8d4b249b": {
          "model_module": "@jupyter-widgets/base",
          "model_name": "LayoutModel",
          "model_module_version": "1.2.0",
          "state": {
            "_view_name": "LayoutView",
            "grid_template_rows": null,
            "right": null,
            "justify_content": null,
            "_view_module": "@jupyter-widgets/base",
            "overflow": null,
            "_model_module_version": "1.2.0",
            "_view_count": null,
            "flex_flow": null,
            "width": null,
            "min_width": null,
            "border": null,
            "align_items": null,
            "bottom": null,
            "_model_module": "@jupyter-widgets/base",
            "top": null,
            "grid_column": null,
            "overflow_y": null,
            "overflow_x": null,
            "grid_auto_flow": null,
            "grid_area": null,
            "grid_template_columns": null,
            "flex": null,
            "_model_name": "LayoutModel",
            "justify_items": null,
            "grid_row": null,
            "max_height": null,
            "align_content": null,
            "visibility": null,
            "align_self": null,
            "height": null,
            "min_height": null,
            "padding": null,
            "grid_auto_rows": null,
            "grid_gap": null,
            "max_width": null,
            "order": null,
            "_view_module_version": "1.2.0",
            "grid_template_areas": null,
            "object_position": null,
            "object_fit": null,
            "grid_auto_columns": null,
            "margin": null,
            "display": null,
            "left": null
          }
        },
        "cd13064380db450e9919f828f55e573e": {
          "model_module": "@jupyter-widgets/controls",
          "model_name": "SliderStyleModel",
          "model_module_version": "1.5.0",
          "state": {
            "_view_name": "StyleView",
            "handle_color": null,
            "_model_name": "SliderStyleModel",
            "description_width": "",
            "_view_module": "@jupyter-widgets/base",
            "_model_module_version": "1.5.0",
            "_view_count": null,
            "_view_module_version": "1.2.0",
            "_model_module": "@jupyter-widgets/controls"
          }
        },
        "f7ee115e13574d9b906d2585f8a75cfa": {
          "model_module": "@jupyter-widgets/base",
          "model_name": "LayoutModel",
          "model_module_version": "1.2.0",
          "state": {
            "_view_name": "LayoutView",
            "grid_template_rows": null,
            "right": null,
            "justify_content": null,
            "_view_module": "@jupyter-widgets/base",
            "overflow": null,
            "_model_module_version": "1.2.0",
            "_view_count": null,
            "flex_flow": null,
            "width": null,
            "min_width": null,
            "border": null,
            "align_items": null,
            "bottom": null,
            "_model_module": "@jupyter-widgets/base",
            "top": null,
            "grid_column": null,
            "overflow_y": null,
            "overflow_x": null,
            "grid_auto_flow": null,
            "grid_area": null,
            "grid_template_columns": null,
            "flex": null,
            "_model_name": "LayoutModel",
            "justify_items": null,
            "grid_row": null,
            "max_height": null,
            "align_content": null,
            "visibility": null,
            "align_self": null,
            "height": null,
            "min_height": null,
            "padding": null,
            "grid_auto_rows": null,
            "grid_gap": null,
            "max_width": null,
            "order": null,
            "_view_module_version": "1.2.0",
            "grid_template_areas": null,
            "object_position": null,
            "object_fit": null,
            "grid_auto_columns": null,
            "margin": null,
            "display": null,
            "left": null
          }
        },
        "3e5509bd7d5b450caf62c49b09410931": {
          "model_module": "@jupyter-widgets/base",
          "model_name": "LayoutModel",
          "model_module_version": "1.2.0",
          "state": {
            "_view_name": "LayoutView",
            "grid_template_rows": null,
            "right": null,
            "justify_content": null,
            "_view_module": "@jupyter-widgets/base",
            "overflow": null,
            "_model_module_version": "1.2.0",
            "_view_count": null,
            "flex_flow": null,
            "width": null,
            "min_width": null,
            "border": null,
            "align_items": null,
            "bottom": null,
            "_model_module": "@jupyter-widgets/base",
            "top": null,
            "grid_column": null,
            "overflow_y": null,
            "overflow_x": null,
            "grid_auto_flow": null,
            "grid_area": null,
            "grid_template_columns": null,
            "flex": null,
            "_model_name": "LayoutModel",
            "justify_items": null,
            "grid_row": null,
            "max_height": null,
            "align_content": null,
            "visibility": null,
            "align_self": null,
            "height": null,
            "min_height": null,
            "padding": null,
            "grid_auto_rows": null,
            "grid_gap": null,
            "max_width": null,
            "order": null,
            "_view_module_version": "1.2.0",
            "grid_template_areas": null,
            "object_position": null,
            "object_fit": null,
            "grid_auto_columns": null,
            "margin": null,
            "display": null,
            "left": null
          }
        }
      }
    }
  },
  "cells": [
    {
      "cell_type": "markdown",
      "metadata": {
        "id": "view-in-github",
        "colab_type": "text"
      },
      "source": [
        "<a href=\"https://colab.research.google.com/github/JoDeMiro/DeepLearningIntroduction/blob/main/00_Math_behind_Neural_Network_and_Gradient_Descent.ipynb\" target=\"_parent\"><img src=\"https://colab.research.google.com/assets/colab-badge.svg\" alt=\"Open In Colab\"/></a>"
      ]
    },
    {
      "cell_type": "markdown",
      "source": [
        "## Műveletek függvényekkel\n",
        "\n",
        "Különös tekintettel a láncszabályra és a deriváltakra nézve.\n",
        "\n",
        "### Érdekes kitekintések a Notebook használatához\n",
        "\n",
        "[Euler féle szám](#https://hu.wikipedia.org/wiki/Euler-f%C3%A9le_sz%C3%A1m)\n",
        "\n",
        "[Határozatlan integrál](#https://hu.wikipedia.org/wiki/Hat%C3%A1rozatlan_integr%C3%A1l)\n",
        "\n",
        "[Hiberbolikus függvények](#https://hu.wikipedia.org/wiki/Hiperbolikus_f%C3%BCggv%C3%A9nyek)\n",
        "\n",
        "[Szigmoid függvények](#https://hu.wikipedia.org/wiki/Szigmoid_f%C3%BCggv%C3%A9nyek)\n",
        "\n",
        "[Diffenciál számítás](#https://hu.wikipedia.org/wiki/Differenci%C3%A1lsz%C3%A1m%C3%ADt%C3%A1s)\n",
        "\n",
        "### További olvasmányok\n",
        "\n",
        "[Calculate the derive of sigmoid function in neural net](#https://becominghuman.ai/what-is-derivative-of-sigmoid-function-56525895f0eb)\n"
      ],
      "metadata": {
        "id": "sRtTLSVSrOb_"
      }
    },
    {
      "cell_type": "code",
      "execution_count": 1,
      "metadata": {
        "id": "Q4jdw9FCrCXy"
      },
      "outputs": [],
      "source": [
        "import numpy as np\n",
        "import matplotlib.pyplot as plt"
      ]
    },
    {
      "cell_type": "code",
      "source": [
        "def square(x):\n",
        "  return x**2\n",
        "\n",
        "def abs(x):\n",
        "  return np.abs(x)\n",
        "\n",
        "def linear(x):\n",
        "  return 2 + 1.3*x\n",
        "\n",
        "def sigmoid(x):\n",
        "  return 1 / (1 + 2.7182818**-x)\n",
        "\n",
        "def tanh(x):\n",
        "  return (2.7182818**x - 2.7182818**-x) / (2.7182818**x + 2.7182818**-x)"
      ],
      "metadata": {
        "id": "qFv41HcUrG0S"
      },
      "execution_count": 2,
      "outputs": []
    },
    {
      "cell_type": "code",
      "source": [
        "x = np.arange(-5, 5, 0.1)"
      ],
      "metadata": {
        "id": "yjw8R3GxriKB"
      },
      "execution_count": 3,
      "outputs": []
    },
    {
      "cell_type": "code",
      "source": [
        "y_square = square(x)\n",
        "y_abs = abs(x)\n",
        "y_lin = linear(x)\n",
        "y_sigmoid = sigmoid(x) * 10\n",
        "y_tanh = tanh(x) * 10"
      ],
      "metadata": {
        "id": "Y3k6RGscrt8f"
      },
      "execution_count": 4,
      "outputs": []
    },
    {
      "cell_type": "code",
      "source": [
        "plt.figure(figsize=(8, 5))\n",
        "plt.plot(x, y_square, label = 'square')\n",
        "plt.plot(x, y_abs, label = 'abs')\n",
        "plt.plot(x, y_lin, label = 'lin')\n",
        "plt.plot(x, y_sigmoid, label = 'sigmoid')\n",
        "plt.plot(x, y_tanh, label = 'tanh')\n",
        "plt.legend()\n",
        "plt.show()"
      ],
      "metadata": {
        "colab": {
          "base_uri": "https://localhost:8080/",
          "height": 320
        },
        "id": "Zg6LaOp9rmLT",
        "outputId": "36e5bd00-2470-480f-c87f-eae521d7a977"
      },
      "execution_count": 5,
      "outputs": [
        {
          "output_type": "display_data",
          "data": {
            "image/png": "[encoded data removed]",
            "text/plain": [
              "<Figure size 576x360 with 1 Axes>"
            ]
          },
          "metadata": {
            "needs_background": "light"
          }
        }
      ]
    },
    {
      "cell_type": "code",
      "source": [
        "version_1 = square(linear(abs(x)))"
      ],
      "metadata": {
        "id": "BU8ZPd1FsLq-"
      },
      "execution_count": 6,
      "outputs": []
    },
    {
      "cell_type": "code",
      "source": [
        "plt.figure(figsize=(8, 5))\n",
        "plt.plot(x, version_1, label = 'version_1')\n",
        "plt.legend()\n",
        "plt.show()"
      ],
      "metadata": {
        "colab": {
          "base_uri": "https://localhost:8080/",
          "height": 320
        },
        "id": "6gjZRDOdsZoJ",
        "outputId": "350c4e19-caa4-4232-8eee-5f735f6af798"
      },
      "execution_count": 7,
      "outputs": [
        {
          "output_type": "display_data",
          "data": {
            "image/png": "[encoded data removed]",
            "text/plain": [
              "<Figure size 576x360 with 1 Axes>"
            ]
          },
          "metadata": {
            "needs_background": "light"
          }
        }
      ]
    },
    {
      "cell_type": "code",
      "source": [
        "version_1 = square(linear(abs(x)))\n",
        "\n",
        "first  = abs(x)\n",
        "second = linear(first)\n",
        "third  = square(second)\n",
        "\n",
        "plt.figure(figsize=(8, 5))\n",
        "plt.plot(x, first, label = 'first [abs]')\n",
        "plt.plot(x, second, label = 'second [linear]')\n",
        "plt.plot(x, third, label = 'third [square]')\n",
        "plt.legend()\n",
        "plt.show()"
      ],
      "metadata": {
        "colab": {
          "base_uri": "https://localhost:8080/",
          "height": 320
        },
        "id": "DRT-c5IasxTj",
        "outputId": "7f775be3-b966-4072-f195-4ee3893891b3"
      },
      "execution_count": 8,
      "outputs": [
        {
          "output_type": "display_data",
          "data": {
            "image/png": "[encoded data removed]",
            "text/plain": [
              "<Figure size 576x360 with 1 Axes>"
            ]
          },
          "metadata": {
            "needs_background": "light"
          }
        }
      ]
    },
    {
      "cell_type": "code",
      "source": [
        "version_2 = square(abs(linear(x)))\n",
        "\n",
        "first  = linear(x)\n",
        "second = abs(first)\n",
        "third  = square(second)\n",
        "\n",
        "plt.figure(figsize=(8, 5))\n",
        "plt.plot(x, first, label = 'first [linear]')\n",
        "plt.plot(x, second, label = 'second [abs]')\n",
        "plt.plot(x, third, label = 'third [square]')\n",
        "plt.legend()\n",
        "plt.show()"
      ],
      "metadata": {
        "colab": {
          "base_uri": "https://localhost:8080/",
          "height": 320
        },
        "id": "LfTGq6ZntxFq",
        "outputId": "ac66fb29-7e85-4eff-e5f7-a5785bb18ecd"
      },
      "execution_count": 9,
      "outputs": [
        {
          "output_type": "display_data",
          "data": {
            "image/png": "[encoded data removed]",
            "text/plain": [
              "<Figure size 576x360 with 1 Axes>"
            ]
          },
          "metadata": {
            "needs_background": "light"
          }
        }
      ]
    },
    {
      "cell_type": "code",
      "source": [
        "version_3 = linear(square(abs(x)))\n",
        "\n",
        "first  = abs(x)\n",
        "second = square(first)\n",
        "third  = linear(second)\n",
        "\n",
        "plt.figure(figsize=(8, 5))\n",
        "plt.plot(x, first, label = 'first [abs]')\n",
        "plt.plot(x, second, label = 'second [square]')\n",
        "plt.plot(x, third, label = 'third [linear]')\n",
        "plt.legend()\n",
        "plt.show()"
      ],
      "metadata": {
        "colab": {
          "base_uri": "https://localhost:8080/",
          "height": 320
        },
        "id": "WMNHNllRzk6Q",
        "outputId": "5abee092-03f6-45bb-e8c5-bcf0cb8a5fde"
      },
      "execution_count": 10,
      "outputs": [
        {
          "output_type": "display_data",
          "data": {
            "image/png": "[encoded data removed]",
            "text/plain": [
              "<Figure size 576x360 with 1 Axes>"
            ]
          },
          "metadata": {
            "needs_background": "light"
          }
        }
      ]
    },
    {
      "cell_type": "markdown",
      "source": [
        "Hiberbolikus tangens:\n",
        "\n",
        "$$ \\text{th} \\; x = \\frac{e^{x} - e^{-x}}{e^{x} + e^{-x}}, \\;\\;\\; \\frac{d}{dx} \\text{th} \\; x = 1 - \\text{th}^2 x$$\n",
        "\n",
        "\n",
        "Sigmoid:\n",
        "\n",
        "$$ \\sigma(x) = \\frac{1}{1+e^{-x}}, \\;\\;\\; \\frac{d}{dx} =\\sigma(x) (1-\\sigma(x)) $$\n"
      ],
      "metadata": {
        "id": "rxBp-_Xo43HJ"
      }
    },
    {
      "cell_type": "code",
      "source": [
        "def tanh_derive(x):\n",
        "  return 1-(tanh(x)*tanh(x))\n",
        "\n",
        "def sigmoid_derive(x):\n",
        "  return sigmoid(x) * (1-sigmoid(x))"
      ],
      "metadata": {
        "id": "lHhlJE-bz6sG"
      },
      "execution_count": 11,
      "outputs": []
    },
    {
      "cell_type": "markdown",
      "source": [
        "### Hiberbolikus tangens és deriváltja"
      ],
      "metadata": {
        "id": "qysCDEe958Ym"
      }
    },
    {
      "cell_type": "code",
      "source": [
        "\n",
        "y_tanh = tanh(x)\n",
        "\n",
        "y_tanh_derive = tanh_derive(x)\n",
        "\n",
        "plt.figure(figsize=(8, 5))\n",
        "plt.plot(x, y_tanh, label = 'tanh')\n",
        "plt.plot(x, y_tanh_derive, label = 'tanh derive')\n",
        "plt.legend()\n",
        "plt.show()"
      ],
      "metadata": {
        "colab": {
          "base_uri": "https://localhost:8080/",
          "height": 320
        },
        "id": "5AHFla08nPxp",
        "outputId": "db364642-07b2-48e0-bbf2-f0b125434713"
      },
      "execution_count": 121,
      "outputs": [
        {
          "output_type": "display_data",
          "data": {
            "image/png": "[encoded data removed]",
            "text/plain": [
              "<Figure size 576x360 with 1 Axes>"
            ]
          },
          "metadata": {
            "needs_background": "light"
          }
        }
      ]
    },
    {
      "cell_type": "markdown",
      "source": [
        "### Sigmoid függvény és deriváltja"
      ],
      "metadata": {
        "id": "5HrShwfM6S4j"
      }
    },
    {
      "cell_type": "code",
      "source": [
        "y_sigmoid_derive = sigmoid_derive(x)\n",
        "\n",
        "y_sigmoid = sigmoid(x)\n",
        "\n",
        "plt.figure(figsize=(8, 5))\n",
        "plt.plot(x, y_sigmoid, label = 'sigmoid')\n",
        "plt.plot(x, y_sigmoid_derive, label = 'sigmoid derive')\n",
        "plt.legend()\n",
        "plt.show()"
      ],
      "metadata": {
        "colab": {
          "base_uri": "https://localhost:8080/",
          "height": 320
        },
        "id": "Nikfagu0qIl7",
        "outputId": "efdec081-25bd-4dc7-8b4a-3fe64d91b14f"
      },
      "execution_count": 123,
      "outputs": [
        {
          "output_type": "display_data",
          "data": {
            "image/png": "[encoded data removed]",
            "text/plain": [
              "<Figure size 576x360 with 1 Axes>"
            ]
          },
          "metadata": {
            "needs_background": "light"
          }
        }
      ]
    },
    {
      "cell_type": "markdown",
      "source": [
        "## Játék a Scikit Learn-nel\n",
        "\n",
        "A Scikit Learn MLPRegressor osztályával. Fogjuk a súlyokat és kézzel állítjuk be."
      ],
      "metadata": {
        "id": "WSEvpokirgRG"
      }
    },
    {
      "cell_type": "code",
      "source": [
        "import ipywidgets as widgets\n",
        "from sklearn.neural_network import MLPRegressor\n",
        "from ipywidgets import interact, interactive, fixed, interact_manual\n",
        "\n",
        "from warnings import simplefilter\n",
        "from sklearn.exceptions import ConvergenceWarning\n",
        "simplefilter(\"ignore\", category=ConvergenceWarning)"
      ],
      "metadata": {
        "id": "NlvHHhtDqEGz"
      },
      "execution_count": 82,
      "outputs": []
    },
    {
      "cell_type": "code",
      "source": [
        "# Létre kell hozni a MLPRegression objektumot -> figyeljünk oda, hogy milyen áktivációs függvényt kap\n",
        "\n",
        "mlp = MLPRegressor(hidden_layer_sizes=(2, ), max_iter=1, n_iter_no_change=1, activation='logistic')\n",
        "\n",
        "mlp.fit(x.reshape(-1, 1), y_sigmoid.ravel()) # -> ahhoz, hogy felül tudjuk írni a súlyokat előbb illeszteni kell"
      ],
      "metadata": {
        "colab": {
          "base_uri": "https://localhost:8080/"
        },
        "id": "dzMijI2GnQWi",
        "outputId": "40da00e5-0179-4fd0-d07a-a11df2fbf5b1"
      },
      "execution_count": 100,
      "outputs": [
        {
          "output_type": "execute_result",
          "data": {
            "text/plain": [
              "MLPRegressor(activation='logistic', hidden_layer_sizes=(2,), max_iter=1,\n",
              "             n_iter_no_change=1)"
            ]
          },
          "metadata": {},
          "execution_count": 100
        }
      ]
    },
    {
      "cell_type": "code",
      "source": [
        "mlp.coefs_"
      ],
      "metadata": {
        "colab": {
          "base_uri": "https://localhost:8080/"
        },
        "id": "F9YnbaJqvKIm",
        "outputId": "884de2b8-2c22-4cb6-df96-d030b307da4d"
      },
      "execution_count": 101,
      "outputs": [
        {
          "output_type": "execute_result",
          "data": {
            "text/plain": [
              "[array([[-0.42725875, -0.27027946]]), array([[-0.54431069],\n",
              "        [-0.36648316]])]"
            ]
          },
          "metadata": {},
          "execution_count": 101
        }
      ]
    },
    {
      "cell_type": "code",
      "source": [
        "mlp.intercepts_"
      ],
      "metadata": {
        "colab": {
          "base_uri": "https://localhost:8080/"
        },
        "id": "o6ib85CQvMIT",
        "outputId": "ca0391f8-8c3f-4836-bc23-0f777577de57"
      },
      "execution_count": 102,
      "outputs": [
        {
          "output_type": "execute_result",
          "data": {
            "text/plain": [
              "[array([ 0.54717293, -0.54942754]), array([0.42211168])]"
            ]
          },
          "metadata": {},
          "execution_count": 102
        }
      ]
    },
    {
      "cell_type": "code",
      "source": [
        "mlp.coefs_ = [np.array([[0.52163885, 0.83947953]]), np.array([[1.22757877], [0.85383002]])]\n",
        "mlp.intercepts_ = [np.array([0.98333675, -1.14206471]), np.array([-0.35194626])]"
      ],
      "metadata": {
        "id": "xR8uVIKFpx_B"
      },
      "execution_count": 103,
      "outputs": []
    },
    {
      "cell_type": "code",
      "source": [
        "def show_nn(_iw1, _ib1, _iw2 = 0, _ib2 = 0, _ow1 = 1, _ow2 = 0, _ob = 0):\n",
        "\n",
        "  iw1 = _iw1  # input to neuron1 weight\n",
        "  ib1 = _ib1  # input to neuron1 bias\n",
        "  iw2 = _iw2  # input to neuron2 weight\n",
        "  ib2 = _ib2  # input to neuron2 bias\n",
        "  ow1 = _ow1  # neuron1 to output weight\n",
        "  ow2 = _ow2  # neuron2 to output weight\n",
        "  ob  = _ob   # output bias\n",
        "\n",
        "  mlp.coefs_ = [np.array([[iw1, iw2]]), np.array([[ib1], [ib2]])]\n",
        "  mlp.intercepts_ = [np.array([ow1, ow2]), np.array([ob])]\n",
        "\n",
        "  predicted = mlp.predict(x.reshape(-1, 1))\n",
        "\n",
        "  plt.figure(figsize=(8, 5))\n",
        "  plt.plot(x, y_sigmoid, label = 'y_sigmoid')\n",
        "  plt.plot(x, predicted, label = 'nn')\n",
        "  plt.legend()\n",
        "  plt.show()\n"
      ],
      "metadata": {
        "id": "gMnoPh1AxjOw"
      },
      "execution_count": 127,
      "outputs": []
    },
    {
      "cell_type": "code",
      "source": [
        "_iw1 = widgets.FloatSlider(min=-3, max=3, step=0.01, value=2)\n",
        "_ib1 = widgets.FloatSlider(min=-3, max=3, step=0.01, value=1)\n",
        "_iw2 = widgets.FloatSlider(min=-3, max=3, step=0.01, value=0)\n",
        "_ib2 = widgets.FloatSlider(min=-3, max=3, step=0.01, value=0)\n",
        "_ow1 = widgets.FloatSlider(min=-3, max=3, step=0.01, value=1)\n",
        "_ow2 = widgets.FloatSlider(min=-3, max=3, step=0.01, value=0)\n",
        "_ob  = widgets.FloatSlider(min=-1, max=1, step=0.01, value=0)"
      ],
      "metadata": {
        "id": "TfwPUlgYzTKw"
      },
      "execution_count": 128,
      "outputs": []
    },
    {
      "cell_type": "code",
      "source": [
        "interact(show_nn, _iw1=_iw1, _ib1=_ib1, _iw2=_iw2, _ib2=_ib2, _ow1=_ow1, _ow2=_ow2, _ob=_ob);"
      ],
      "metadata": {
        "colab": {
          "base_uri": "https://localhost:8080/",
          "height": 544,
          "referenced_widgets": [
            "0c34a7eb6ef744f0805b4cb2bc0fb301",
            "78404ddcdb24434eb406cdc60dc93bb0",
            "1f31faedc01f4e2da89cd1943e9f1844",
            "1f2c3a0173654fd49c1dbf85c8068534",
            "614ad00dad2e42fa9adbf639ee4a7959",
            "81bc50ff477c432c885c4f7b82630f5f",
            "876914b864824753a2705242122195ed",
            "ad0c39b9e96b4d31b0cb2cd7280e7e34",
            "13a5354bb7a340fa827a16c2cc7c2666",
            "7ff75ef50f214b778964f9a1de0f7117",
            "bb19c65dc29545c3babfa1b3e01b9145",
            "ef049e1f44434121b03f4bee0167c54b",
            "5b5b2e581f7547088731f33d65ea1e61",
            "a1523e021d914e5caa628f2f29eeaf49",
            "01f4fb4b55714f1cadd5112251c98629",
            "4a24c813f8fe434a9c2614642a0b60ec",
            "231da6c64c7c4ffbb1601b2a36d1c972",
            "552805ffed4e4a009102da1756f8bfb0",
            "7a7672cc38f8455baa946e512b004f0e",
            "62baa468dd8f40be8f6f6eb70c7caba3",
            "e39a002c527f4e49a009e3f232ed12e5",
            "fa41b0a6dd224cf8a0c79e3e8d4b249b",
            "cd13064380db450e9919f828f55e573e",
            "f7ee115e13574d9b906d2585f8a75cfa",
            "3e5509bd7d5b450caf62c49b09410931"
          ]
        },
        "id": "31GTvTgYzhTU",
        "outputId": "47e069ce-08f3-4e44-a06b-eb7e2a17dee0"
      },
      "execution_count": 129,
      "outputs": [
        {
          "output_type": "display_data",
          "data": {
            "application/vnd.jupyter.widget-view+json": {
              "model_id": "0c34a7eb6ef744f0805b4cb2bc0fb301",
              "version_minor": 0,
              "version_major": 2
            },
            "text/plain": [
              "interactive(children=(FloatSlider(value=2.0, description='_iw1', max=3.0, min=-3.0, step=0.01), FloatSlider(va…"
            ]
          },
          "metadata": {}
        }
      ]
    },
    {
      "cell_type": "code",
      "source": [
        "show_nn(_iw1 = 2, _ib1 = 1, _ow1 = 1)"
      ],
      "metadata": {
        "colab": {
          "base_uri": "https://localhost:8080/",
          "height": 320
        },
        "id": "vxJNe3gj0JsB",
        "outputId": "a744edd0-6995-4d19-a5c4-46b78b93f3b1"
      },
      "execution_count": 131,
      "outputs": [
        {
          "output_type": "display_data",
          "data": {
            "image/png": "[encoded data removed]",
            "text/plain": [
              "<Figure size 576x360 with 1 Axes>"
            ]
          },
          "metadata": {
            "needs_background": "light"
          }
        }
      ]
    },
    {
      "cell_type": "markdown",
      "source": [
        "## A derviálási szabályok\n",
        "\n",
        "Ezekre azért van szükség mert amikor ki akarjuk majd számolni a gradienseket, akkor nem árt tudni ezeket. Persze ezeket már megteszik helyettünk a keretrendszerek mint amilyen a [Keras](#https://keras.io) vagy a [PyTorch](#https://pytorch.org).\n",
        "\n",
        "Olvasmányok:\n",
        "\n",
        "[A derivált - Wikipedia](#https://hu.wikipedia.org/wiki/Deriv%C3%A1lt)\n",
        "\n",
        "\n",
        "## Elemi függvények deriváltjai\n",
        "\n",
        "\\begin{eqnarray}\n",
        "\\text{Konstans} \\; c & , 0 \\\\\n",
        "\\text{Konstans szorzo} \\; c * x & , c \\\\\n",
        "\\text{Konstans alap, var kitevo} \\; a^x & , a^x \\cdot ln|a| \\\\\n",
        "\\text{Hatvany} \\; x ^ n & , x \\cdot x^{n-1} \\\\\n",
        "\\text{Exp} \\; e ^ x & , e ^ x \\\\\n",
        "\\text{Natural log} \\; \\text{ln}(x) & , \\frac{1}{x} \\\\\n",
        "\\text{Log (a > 1} \\; \\text{log}_a x & , \\frac{1}{x \\text{ ln } a} = \\frac{\\text{log}_a e}{x} \\\\\n",
        "\\text{Sin} \\; \\text{sin}(x) & , \\text{cos }x \\\\\n",
        "\\text{Cos} \\; \\text{cos}(x) & , \\text{-sin }x \\\\\n",
        "\\text{Tangnt} \\; \\text{tg}(x) & , 1 + \\text{tg}^2 \\; x \\\\\n",
        "\\end{eqnarray}\n",
        "\n",
        "\n"
      ],
      "metadata": {
        "id": "RMSaH9iiCITb"
      }
    },
    {
      "cell_type": "markdown",
      "source": [
        "\n"
      ],
      "metadata": {
        "id": "DdwaSeDUMT4Y"
      }
    },
    {
      "cell_type": "code",
      "source": [
        ""
      ],
      "metadata": {
        "id": "sa1Alr877yT8"
      },
      "execution_count": null,
      "outputs": []
    }
  ]
}